{
 "cells": [
  {
   "cell_type": "markdown",
   "metadata": {
    "id": "0bDUaJIlMUfF"
   },
   "source": [
    "  # EDA on Apple AppStore dataset using Python.\n",
    "\n",
    "<img src=\"https://i.imgur.com/DJCGgoB.jpg\" width=\"900\" height=\"400\">\n",
    "\n",
    "Performing EDA on Apple AppStore Apps Dataset from Kaggle.\n",
    "\n",
    "**Exploratory data analysis (EDA):**\n",
    "EDA is an important step in any Data Analysis or Data Science project. EDA is the process of investigating the dataset to discover patterns, and anomalies (outliers), and form hypotheses based on our understanding of the dataset.\n",
    "\n",
    "EDA involves generating summary statistics for numerical data in the dataset and creating various graphical representations to understand the data better. In this article, we will understand EDA with the help of an example dataset. We will use Python language for this purpose.\n",
    "\n",
    "In this dataset, we used Pandas, Numpy, matplotlib, seaborn, and opendatasets libraries.\n",
    "\n",
    "The dataset we are using here is the Apple AppStore dataset, which contains details about the Apps in the  AppStore, there are more than 1.2 million+ Apps in the AppStore. The size of the dataset is 123Mb, which is taken from Kaggle.\n",
    "\n",
    "The objective of the project is to understand EDA concepts and the main theme of this project is to deliver insights to understand customer demands better and thus help developers to popularize the product(App).\n",
    "\n",
    "**Here’s the step-by-step outline of the project :**\n",
    "\n",
    "1.Download the dataset from Kaggle.\n",
    "\n",
    "2.Data Preparation and Cleaning.\n",
    "\n",
    "3.Exploratory Analysis and Visualizations.\n",
    "\n",
    "4.Question and Answers.\n",
    "\n",
    "5.Summary and Conclusion."
   ]
  },
  {
   "cell_type": "markdown",
   "metadata": {
    "id": "OnbupAyFMUfK"
   },
   "source": [
    "## How to Run the Code :\n",
    "\n",
    "The best way to learn the material is to execute the code and experiment with it yourself. This tutorial is an executable [Jupyter notebook](https://jupyter.org). You can _run_ this tutorial and experiment with the code examples in a couple of ways: *using free online resources* (recommended) or *on your computer*.\n",
    "\n",
    "#### Option 1: Running using free online resources (1-click, recommended)\n",
    "\n",
    "The easiest way to start executing the code is to click the **Run** button at the top of this page and select **Run on Binder**. You can also select \"Run on Colab\" or \"Run on Kaggle\", but you'll need to create an account on [Google Colab](https://colab.research.google.com) or [Kaggle](https://kaggle.com) to use these platforms.\n",
    "\n",
    "\n",
    "#### Option 2: Running on your computer locally\n",
    "\n",
    "To run the code on your computer locally, you'll need to set up [Python](https://www.python.org), download the notebook and install the required libraries. We recommend using the [Conda](https://docs.conda.io/projects/conda/en/latest/user-guide/install/) distribution of Python. Click the **Run** button at the top of this page, select the **Run Locally** option, and follow the instructions.\n"
   ]
  },
  {
   "cell_type": "markdown",
   "metadata": {
    "id": "HJ8vK3XMMUfM"
   },
   "source": [
    "Let’s install and import the libraries"
   ]
  },
  {
   "cell_type": "markdown",
   "metadata": {
    "id": "SiIQwmTFXHLV"
   },
   "source": [
    "by using “! pip install library_name” command we can download the libraries."
   ]
  },
  {
   "cell_type": "markdown",
   "metadata": {
    "id": "K7G7ouxwMUfL"
   },
   "source": [
    "## Download the dataset from the Kaggle :\n",
    "\n",
    "To begin, we’ll download the dataset.\n",
    "\n",
    "Apple_AppStore_Apps_Dataset : \n",
    "https://www.kaggle.com/datasets/gauthamp10/apple-appstore-apps"
   ]
  },
  {
   "cell_type": "code",
   "execution_count": 2,
   "metadata": {
    "colab": {
     "base_uri": "https://localhost:8080/"
    },
    "executionInfo": {
     "elapsed": 13876,
     "status": "ok",
     "timestamp": 1676621513313,
     "user": {
      "displayName": "Mahadeva Prashanth D M",
      "userId": "01792806173038978234"
     },
     "user_tz": -330
    },
    "id": "c_pKUIVE8ziN",
    "outputId": "92089560-408d-4c01-e467-df6f618aa2ae"
   },
   "outputs": [
    {
     "name": "stdout",
     "output_type": "stream",
     "text": [
      "\u001b[?25l     \u001b[90m━━━━━━━━━━━━━━━━━━━━━━━━━━━━━━━━━━━━━━━━\u001b[0m \u001b[32m0.0/68.6 KB\u001b[0m \u001b[31m?\u001b[0m eta \u001b[36m-:--:--\u001b[0m\r",
      "\u001b[2K     \u001b[90m━━━━━━━━━━━━━━━━━━━━━━━━━━━━━━━━━━━━━━━━\u001b[0m \u001b[32m68.6/68.6 KB\u001b[0m \u001b[31m3.9 MB/s\u001b[0m eta \u001b[36m0:00:00\u001b[0m\n",
      "\u001b[?25h  Preparing metadata (setup.py) ... \u001b[?25l\u001b[?25hdone\n",
      "  Building wheel for uuid (setup.py) ... \u001b[?25l\u001b[?25hdone\n"
     ]
    }
   ],
   "source": [
    "! pip install jovian --upgrade --quiet\n",
    "import jovian "
   ]
  },
  {
   "cell_type": "code",
   "execution_count": 3,
   "metadata": {
    "executionInfo": {
     "elapsed": 5134,
     "status": "ok",
     "timestamp": 1676621518442,
     "user": {
      "displayName": "Mahadeva Prashanth D M",
      "userId": "01792806173038978234"
     },
     "user_tz": -330
    },
    "id": "C9Pvfa4ZMUfM"
   },
   "outputs": [],
   "source": [
    "! pip install opendatasets --quiet"
   ]
  },
  {
   "cell_type": "code",
   "execution_count": 4,
   "metadata": {
    "colab": {
     "base_uri": "https://localhost:8080/"
    },
    "executionInfo": {
     "elapsed": 66397,
     "status": "ok",
     "timestamp": 1676621584823,
     "user": {
      "displayName": "Mahadeva Prashanth D M",
      "userId": "01792806173038978234"
     },
     "user_tz": -330
    },
    "id": "sX8QjZ7IMUfP",
    "outputId": "d5fd8be9-47cf-452d-d597-b391f5ff7ece"
   },
   "outputs": [
    {
     "name": "stdout",
     "output_type": "stream",
     "text": [
      "Please provide your Kaggle credentials to download this dataset. Learn more: http://bit.ly/kaggle-creds\n",
      "Your Kaggle username: \n",
      "Your Kaggle username: \n",
      "Your Kaggle username: \n",
      "Your Kaggle username: \n",
      "Your Kaggle username: mahadevaprashanthdm\n",
      "Your Kaggle Key: ··········\n",
      "Downloading apple-appstore-apps.zip to ./apple-appstore-apps\n"
     ]
    },
    {
     "name": "stderr",
     "output_type": "stream",
     "text": [
      "100%|██████████| 117M/117M [00:01<00:00, 79.8MB/s]\n"
     ]
    },
    {
     "name": "stdout",
     "output_type": "stream",
     "text": [
      "\n"
     ]
    }
   ],
   "source": [
    "import opendatasets as od \n",
    "dataset_url = 'https://www.kaggle.com/datasets/gauthamp10/apple-appstore-apps'\n",
    "od.download(dataset_url)"
   ]
  },
  {
   "cell_type": "markdown",
   "metadata": {
    "id": "FM2tPbmOMUfO"
   },
   "source": [
    "\n",
    "\n",
    "### Opendatasets library :\n",
    "\n",
    "A curated collection of datasets for data analysis & machine learning, downloadable with a single Python command. where can download the dataset by providing the URL of the dataset.\n",
    "\n",
    "### Pandas library :\n",
    "\n",
    "pandas is an open-source library built on top of numpy providing high performance, easy to use data structures and data analysis tools for python. It allows for fast analysis and data cleaning and preparation.\n",
    "\n",
    "### Numpy library:\n",
    "\n",
    "NumPy is a library for Python that adds support for large, multi-dimensional arrays and matrices, along with a large collection of high-level mathematical functions to operate on these arrays.\n",
    "\n",
    "### Matplotlib library :\n",
    "\n",
    "Matplotlib is a comprehensive library for creating static, animated, and interactive visualizations in Python.\n",
    "\n",
    "### Seaborn library :\n",
    "\n",
    "Seaborn is a Python data visualization library based on matplotlib. It provides a high-level interface for drawing attractive and informative statistical graphics.|"
   ]
  },
  {
   "cell_type": "markdown",
   "metadata": {
    "id": "MsDvcNkjMUfO"
   },
   "source": [
    "## Importing the libraries :"
   ]
  },
  {
   "cell_type": "code",
   "execution_count": 5,
   "metadata": {
    "executionInfo": {
     "elapsed": 2150,
     "status": "ok",
     "timestamp": 1676621586957,
     "user": {
      "displayName": "Mahadeva Prashanth D M",
      "userId": "01792806173038978234"
     },
     "user_tz": -330
    },
    "id": "XSwPFCJPMUfQ"
   },
   "outputs": [],
   "source": [
    "import pandas as pd\n",
    "import numpy as np\n",
    "import matplotlib.pyplot as plt\n",
    "import seaborn as sns\n",
    "import plotly.express as px\n",
    "import plotly.graph_objects as go\n",
    "%matplotlib inline\n"
   ]
  },
  {
   "cell_type": "markdown",
   "metadata": {
    "id": "h4xP0gulMUfR"
   },
   "source": [
    "We’ve downloaded the dataset. Installed and imported the libraries."
   ]
  },
  {
   "cell_type": "markdown",
   "metadata": {
    "id": "9XbfTrslMUfR"
   },
   "source": [
    "## Data Preparation and Cleaning :\n",
    "\n",
    "Here we will load the dataset into the data frame, view the columns and rows of the data, perform descriptive statistics to know better about the features inside the dataset, write the observations, finding the missing values and duplicate rows"
   ]
  },
  {
   "cell_type": "code",
   "execution_count": 6,
   "metadata": {
    "executionInfo": {
     "elapsed": 18932,
     "status": "ok",
     "timestamp": 1676621605886,
     "user": {
      "displayName": "Mahadeva Prashanth D M",
      "userId": "01792806173038978234"
     },
     "user_tz": -330
    },
    "id": "rasHKM9CMUfR"
   },
   "outputs": [],
   "source": [
    "df = pd.read_csv('/content/apple-appstore-apps/appleAppData.csv')"
   ]
  },
  {
   "cell_type": "markdown",
   "metadata": {
    "id": "SZ4rXlX8NVE0"
   },
   "source": [
    "viewing the first 5 rows of the datset"
   ]
  },
  {
   "cell_type": "code",
   "execution_count": 7,
   "metadata": {
    "colab": {
     "base_uri": "https://localhost:8080/",
     "height": 404
    },
    "executionInfo": {
     "elapsed": 25,
     "status": "ok",
     "timestamp": 1676621605886,
     "user": {
      "displayName": "Mahadeva Prashanth D M",
      "userId": "01792806173038978234"
     },
     "user_tz": -330
    },
    "id": "z3rEqWY9NUg1",
    "outputId": "c7329415-25b1-409f-9bbc-4a9cd6a25928"
   },
   "outputs": [
    {
     "data": {
      "text/html": [
       "\n",
       "  <div id=\"df-e8469692-3992-4001-9ddf-225f460b979c\">\n",
       "    <div class=\"colab-df-container\">\n",
       "      <div>\n",
       "<style scoped>\n",
       "    .dataframe tbody tr th:only-of-type {\n",
       "        vertical-align: middle;\n",
       "    }\n",
       "\n",
       "    .dataframe tbody tr th {\n",
       "        vertical-align: top;\n",
       "    }\n",
       "\n",
       "    .dataframe thead th {\n",
       "        text-align: right;\n",
       "    }\n",
       "</style>\n",
       "<table border=\"1\" class=\"dataframe\">\n",
       "  <thead>\n",
       "    <tr style=\"text-align: right;\">\n",
       "      <th></th>\n",
       "      <th>App_Id</th>\n",
       "      <th>App_Name</th>\n",
       "      <th>AppStore_Url</th>\n",
       "      <th>Primary_Genre</th>\n",
       "      <th>Content_Rating</th>\n",
       "      <th>Size_Bytes</th>\n",
       "      <th>Required_IOS_Version</th>\n",
       "      <th>Released</th>\n",
       "      <th>Updated</th>\n",
       "      <th>Version</th>\n",
       "      <th>...</th>\n",
       "      <th>Currency</th>\n",
       "      <th>Free</th>\n",
       "      <th>DeveloperId</th>\n",
       "      <th>Developer</th>\n",
       "      <th>Developer_Url</th>\n",
       "      <th>Developer_Website</th>\n",
       "      <th>Average_User_Rating</th>\n",
       "      <th>Reviews</th>\n",
       "      <th>Current_Version_Score</th>\n",
       "      <th>Current_Version_Reviews</th>\n",
       "    </tr>\n",
       "  </thead>\n",
       "  <tbody>\n",
       "    <tr>\n",
       "      <th>0</th>\n",
       "      <td>com.hkbu.arc.apaper</td>\n",
       "      <td>A+ Paper Guide</td>\n",
       "      <td>https://apps.apple.com/us/app/a-paper-guide/id...</td>\n",
       "      <td>Education</td>\n",
       "      <td>4+</td>\n",
       "      <td>21993472.0</td>\n",
       "      <td>8.0</td>\n",
       "      <td>2017-09-28T03:02:41Z</td>\n",
       "      <td>2018-12-21T21:30:36Z</td>\n",
       "      <td>1.1.2</td>\n",
       "      <td>...</td>\n",
       "      <td>USD</td>\n",
       "      <td>True</td>\n",
       "      <td>1375410542</td>\n",
       "      <td>HKBU ARC</td>\n",
       "      <td>https://apps.apple.com/us/developer/hkbu-arc/i...</td>\n",
       "      <td>NaN</td>\n",
       "      <td>0.0</td>\n",
       "      <td>0</td>\n",
       "      <td>0.0</td>\n",
       "      <td>0</td>\n",
       "    </tr>\n",
       "    <tr>\n",
       "      <th>1</th>\n",
       "      <td>com.dmitriev.abooks</td>\n",
       "      <td>A-Books</td>\n",
       "      <td>https://apps.apple.com/us/app/a-books/id103157...</td>\n",
       "      <td>Book</td>\n",
       "      <td>4+</td>\n",
       "      <td>13135872.0</td>\n",
       "      <td>10.0</td>\n",
       "      <td>2015-08-31T19:31:32Z</td>\n",
       "      <td>2019-07-23T20:31:09Z</td>\n",
       "      <td>1.3</td>\n",
       "      <td>...</td>\n",
       "      <td>USD</td>\n",
       "      <td>True</td>\n",
       "      <td>1031572001</td>\n",
       "      <td>Roman Dmitriev</td>\n",
       "      <td>https://apps.apple.com/us/developer/roman-dmit...</td>\n",
       "      <td>NaN</td>\n",
       "      <td>5.0</td>\n",
       "      <td>1</td>\n",
       "      <td>5.0</td>\n",
       "      <td>1</td>\n",
       "    </tr>\n",
       "    <tr>\n",
       "      <th>2</th>\n",
       "      <td>no.terp.abooks</td>\n",
       "      <td>A-books</td>\n",
       "      <td>https://apps.apple.com/us/app/a-books/id145702...</td>\n",
       "      <td>Book</td>\n",
       "      <td>4+</td>\n",
       "      <td>21943296.0</td>\n",
       "      <td>9.0</td>\n",
       "      <td>2021-04-14T07:00:00Z</td>\n",
       "      <td>2021-05-30T21:08:54Z</td>\n",
       "      <td>1.3.1</td>\n",
       "      <td>...</td>\n",
       "      <td>USD</td>\n",
       "      <td>True</td>\n",
       "      <td>1457024163</td>\n",
       "      <td>Terp AS</td>\n",
       "      <td>https://apps.apple.com/us/developer/terp-as/id...</td>\n",
       "      <td>NaN</td>\n",
       "      <td>0.0</td>\n",
       "      <td>0</td>\n",
       "      <td>0.0</td>\n",
       "      <td>0</td>\n",
       "    </tr>\n",
       "    <tr>\n",
       "      <th>3</th>\n",
       "      <td>fr.antoinettefleur.Book1</td>\n",
       "      <td>A-F Book #1</td>\n",
       "      <td>https://apps.apple.com/us/app/a-f-book-1/id500...</td>\n",
       "      <td>Book</td>\n",
       "      <td>4+</td>\n",
       "      <td>81851392.0</td>\n",
       "      <td>8.0</td>\n",
       "      <td>2012-02-10T03:40:07Z</td>\n",
       "      <td>2019-10-29T12:40:37Z</td>\n",
       "      <td>1.2</td>\n",
       "      <td>...</td>\n",
       "      <td>USD</td>\n",
       "      <td>False</td>\n",
       "      <td>439568839</td>\n",
       "      <td>i-editeur.com</td>\n",
       "      <td>https://apps.apple.com/us/developer/i-editeur-...</td>\n",
       "      <td>NaN</td>\n",
       "      <td>0.0</td>\n",
       "      <td>0</td>\n",
       "      <td>0.0</td>\n",
       "      <td>0</td>\n",
       "    </tr>\n",
       "    <tr>\n",
       "      <th>4</th>\n",
       "      <td>com.imonstersoft.azdictionaryios</td>\n",
       "      <td>A-Z Synonyms Dictionary</td>\n",
       "      <td>https://apps.apple.com/us/app/a-z-synonyms-dic...</td>\n",
       "      <td>Reference</td>\n",
       "      <td>4+</td>\n",
       "      <td>64692224.0</td>\n",
       "      <td>9.0</td>\n",
       "      <td>2020-12-16T08:00:00Z</td>\n",
       "      <td>2020-12-18T21:36:11Z</td>\n",
       "      <td>1.0.1</td>\n",
       "      <td>...</td>\n",
       "      <td>USD</td>\n",
       "      <td>True</td>\n",
       "      <td>656731821</td>\n",
       "      <td>Ngov chiheang</td>\n",
       "      <td>https://apps.apple.com/us/developer/ngov-chihe...</td>\n",
       "      <td>http://imonstersoft.com</td>\n",
       "      <td>0.0</td>\n",
       "      <td>0</td>\n",
       "      <td>0.0</td>\n",
       "      <td>0</td>\n",
       "    </tr>\n",
       "  </tbody>\n",
       "</table>\n",
       "<p>5 rows × 21 columns</p>\n",
       "</div>\n",
       "      <button class=\"colab-df-convert\" onclick=\"convertToInteractive('df-e8469692-3992-4001-9ddf-225f460b979c')\"\n",
       "              title=\"Convert this dataframe to an interactive table.\"\n",
       "              style=\"display:none;\">\n",
       "        \n",
       "  <svg xmlns=\"http://www.w3.org/2000/svg\" height=\"24px\"viewBox=\"0 0 24 24\"\n",
       "       width=\"24px\">\n",
       "    <path d=\"M0 0h24v24H0V0z\" fill=\"none\"/>\n",
       "    <path d=\"M18.56 5.44l.94 2.06.94-2.06 2.06-.94-2.06-.94-.94-2.06-.94 2.06-2.06.94zm-11 1L8.5 8.5l.94-2.06 2.06-.94-2.06-.94L8.5 2.5l-.94 2.06-2.06.94zm10 10l.94 2.06.94-2.06 2.06-.94-2.06-.94-.94-2.06-.94 2.06-2.06.94z\"/><path d=\"M17.41 7.96l-1.37-1.37c-.4-.4-.92-.59-1.43-.59-.52 0-1.04.2-1.43.59L10.3 9.45l-7.72 7.72c-.78.78-.78 2.05 0 2.83L4 21.41c.39.39.9.59 1.41.59.51 0 1.02-.2 1.41-.59l7.78-7.78 2.81-2.81c.8-.78.8-2.07 0-2.86zM5.41 20L4 18.59l7.72-7.72 1.47 1.35L5.41 20z\"/>\n",
       "  </svg>\n",
       "      </button>\n",
       "      \n",
       "  <style>\n",
       "    .colab-df-container {\n",
       "      display:flex;\n",
       "      flex-wrap:wrap;\n",
       "      gap: 12px;\n",
       "    }\n",
       "\n",
       "    .colab-df-convert {\n",
       "      background-color: #E8F0FE;\n",
       "      border: none;\n",
       "      border-radius: 50%;\n",
       "      cursor: pointer;\n",
       "      display: none;\n",
       "      fill: #1967D2;\n",
       "      height: 32px;\n",
       "      padding: 0 0 0 0;\n",
       "      width: 32px;\n",
       "    }\n",
       "\n",
       "    .colab-df-convert:hover {\n",
       "      background-color: #E2EBFA;\n",
       "      box-shadow: 0px 1px 2px rgba(60, 64, 67, 0.3), 0px 1px 3px 1px rgba(60, 64, 67, 0.15);\n",
       "      fill: #174EA6;\n",
       "    }\n",
       "\n",
       "    [theme=dark] .colab-df-convert {\n",
       "      background-color: #3B4455;\n",
       "      fill: #D2E3FC;\n",
       "    }\n",
       "\n",
       "    [theme=dark] .colab-df-convert:hover {\n",
       "      background-color: #434B5C;\n",
       "      box-shadow: 0px 1px 3px 1px rgba(0, 0, 0, 0.15);\n",
       "      filter: drop-shadow(0px 1px 2px rgba(0, 0, 0, 0.3));\n",
       "      fill: #FFFFFF;\n",
       "    }\n",
       "  </style>\n",
       "\n",
       "      <script>\n",
       "        const buttonEl =\n",
       "          document.querySelector('#df-e8469692-3992-4001-9ddf-225f460b979c button.colab-df-convert');\n",
       "        buttonEl.style.display =\n",
       "          google.colab.kernel.accessAllowed ? 'block' : 'none';\n",
       "\n",
       "        async function convertToInteractive(key) {\n",
       "          const element = document.querySelector('#df-e8469692-3992-4001-9ddf-225f460b979c');\n",
       "          const dataTable =\n",
       "            await google.colab.kernel.invokeFunction('convertToInteractive',\n",
       "                                                     [key], {});\n",
       "          if (!dataTable) return;\n",
       "\n",
       "          const docLinkHtml = 'Like what you see? Visit the ' +\n",
       "            '<a target=\"_blank\" href=https://colab.research.google.com/notebooks/data_table.ipynb>data table notebook</a>'\n",
       "            + ' to learn more about interactive tables.';\n",
       "          element.innerHTML = '';\n",
       "          dataTable['output_type'] = 'display_data';\n",
       "          await google.colab.output.renderOutput(dataTable, element);\n",
       "          const docLink = document.createElement('div');\n",
       "          docLink.innerHTML = docLinkHtml;\n",
       "          element.appendChild(docLink);\n",
       "        }\n",
       "      </script>\n",
       "    </div>\n",
       "  </div>\n",
       "  "
      ],
      "text/plain": [
       "                             App_Id                 App_Name  \\\n",
       "0               com.hkbu.arc.apaper           A+ Paper Guide   \n",
       "1               com.dmitriev.abooks                  A-Books   \n",
       "2                    no.terp.abooks                  A-books   \n",
       "3          fr.antoinettefleur.Book1              A-F Book #1   \n",
       "4  com.imonstersoft.azdictionaryios  A-Z Synonyms Dictionary   \n",
       "\n",
       "                                        AppStore_Url Primary_Genre  \\\n",
       "0  https://apps.apple.com/us/app/a-paper-guide/id...     Education   \n",
       "1  https://apps.apple.com/us/app/a-books/id103157...          Book   \n",
       "2  https://apps.apple.com/us/app/a-books/id145702...          Book   \n",
       "3  https://apps.apple.com/us/app/a-f-book-1/id500...          Book   \n",
       "4  https://apps.apple.com/us/app/a-z-synonyms-dic...     Reference   \n",
       "\n",
       "  Content_Rating  Size_Bytes Required_IOS_Version              Released  \\\n",
       "0             4+  21993472.0                  8.0  2017-09-28T03:02:41Z   \n",
       "1             4+  13135872.0                 10.0  2015-08-31T19:31:32Z   \n",
       "2             4+  21943296.0                  9.0  2021-04-14T07:00:00Z   \n",
       "3             4+  81851392.0                  8.0  2012-02-10T03:40:07Z   \n",
       "4             4+  64692224.0                  9.0  2020-12-16T08:00:00Z   \n",
       "\n",
       "                Updated Version  ...  Currency   Free  DeveloperId  \\\n",
       "0  2018-12-21T21:30:36Z   1.1.2  ...       USD   True   1375410542   \n",
       "1  2019-07-23T20:31:09Z     1.3  ...       USD   True   1031572001   \n",
       "2  2021-05-30T21:08:54Z   1.3.1  ...       USD   True   1457024163   \n",
       "3  2019-10-29T12:40:37Z     1.2  ...       USD  False    439568839   \n",
       "4  2020-12-18T21:36:11Z   1.0.1  ...       USD   True    656731821   \n",
       "\n",
       "        Developer                                      Developer_Url  \\\n",
       "0        HKBU ARC  https://apps.apple.com/us/developer/hkbu-arc/i...   \n",
       "1  Roman Dmitriev  https://apps.apple.com/us/developer/roman-dmit...   \n",
       "2         Terp AS  https://apps.apple.com/us/developer/terp-as/id...   \n",
       "3   i-editeur.com  https://apps.apple.com/us/developer/i-editeur-...   \n",
       "4   Ngov chiheang  https://apps.apple.com/us/developer/ngov-chihe...   \n",
       "\n",
       "         Developer_Website Average_User_Rating  Reviews  \\\n",
       "0                      NaN                 0.0        0   \n",
       "1                      NaN                 5.0        1   \n",
       "2                      NaN                 0.0        0   \n",
       "3                      NaN                 0.0        0   \n",
       "4  http://imonstersoft.com                 0.0        0   \n",
       "\n",
       "   Current_Version_Score  Current_Version_Reviews  \n",
       "0                    0.0                        0  \n",
       "1                    5.0                        1  \n",
       "2                    0.0                        0  \n",
       "3                    0.0                        0  \n",
       "4                    0.0                        0  \n",
       "\n",
       "[5 rows x 21 columns]"
      ]
     },
     "execution_count": 7,
     "metadata": {},
     "output_type": "execute_result"
    }
   ],
   "source": [
    "df.head(5)"
   ]
  },
  {
   "cell_type": "markdown",
   "metadata": {
    "id": "cbKlOQDINrYs"
   },
   "source": [
    "Let's see what are the columns were given in the Apple-Appstore dataset"
   ]
  },
  {
   "cell_type": "code",
   "execution_count": 8,
   "metadata": {
    "colab": {
     "base_uri": "https://localhost:8080/"
    },
    "executionInfo": {
     "elapsed": 11,
     "status": "ok",
     "timestamp": 1676621605887,
     "user": {
      "displayName": "Mahadeva Prashanth D M",
      "userId": "01792806173038978234"
     },
     "user_tz": -330
    },
    "id": "htCSLF5fMUfS",
    "outputId": "8d93211d-78e6-495b-93d0-406f00c9740d"
   },
   "outputs": [
    {
     "data": {
      "text/plain": [
       "Index(['App_Id', 'App_Name', 'AppStore_Url', 'Primary_Genre', 'Content_Rating',\n",
       "       'Size_Bytes', 'Required_IOS_Version', 'Released', 'Updated', 'Version',\n",
       "       'Price', 'Currency', 'Free', 'DeveloperId', 'Developer',\n",
       "       'Developer_Url', 'Developer_Website', 'Average_User_Rating', 'Reviews',\n",
       "       'Current_Version_Score', 'Current_Version_Reviews'],\n",
       "      dtype='object')"
      ]
     },
     "execution_count": 8,
     "metadata": {},
     "output_type": "execute_result"
    }
   ],
   "source": [
    "df.columns"
   ]
  },
  {
   "cell_type": "markdown",
   "metadata": {
    "id": "BJReceMSN8po"
   },
   "source": [
    "let's see the shape of the dataset"
   ]
  },
  {
   "cell_type": "code",
   "execution_count": 9,
   "metadata": {
    "colab": {
     "base_uri": "https://localhost:8080/"
    },
    "executionInfo": {
     "elapsed": 8,
     "status": "ok",
     "timestamp": 1676621605887,
     "user": {
      "displayName": "Mahadeva Prashanth D M",
      "userId": "01792806173038978234"
     },
     "user_tz": -330
    },
    "id": "epycwsDZN0g1",
    "outputId": "40e93cdc-88e1-42ad-ba13-9a8216515560"
   },
   "outputs": [
    {
     "data": {
      "text/plain": [
       "(1230376, 21)"
      ]
     },
     "execution_count": 9,
     "metadata": {},
     "output_type": "execute_result"
    }
   ],
   "source": [
    "df.shape"
   ]
  },
  {
   "cell_type": "code",
   "execution_count": 10,
   "metadata": {
    "colab": {
     "base_uri": "https://localhost:8080/"
    },
    "executionInfo": {
     "elapsed": 1932,
     "status": "ok",
     "timestamp": 1676621607814,
     "user": {
      "displayName": "Mahadeva Prashanth D M",
      "userId": "01792806173038978234"
     },
     "user_tz": -330
    },
    "id": "vjsQH07IOCKM",
    "outputId": "1b50948d-422b-456e-8b41-44e382534b67"
   },
   "outputs": [
    {
     "name": "stdout",
     "output_type": "stream",
     "text": [
      "<class 'pandas.core.frame.DataFrame'>\n",
      "RangeIndex: 1230376 entries, 0 to 1230375\n",
      "Data columns (total 21 columns):\n",
      " #   Column                   Non-Null Count    Dtype  \n",
      "---  ------                   --------------    -----  \n",
      " 0   App_Id                   1230376 non-null  object \n",
      " 1   App_Name                 1230375 non-null  object \n",
      " 2   AppStore_Url             1230376 non-null  object \n",
      " 3   Primary_Genre            1230376 non-null  object \n",
      " 4   Content_Rating           1230376 non-null  object \n",
      " 5   Size_Bytes               1230152 non-null  float64\n",
      " 6   Required_IOS_Version     1230376 non-null  object \n",
      " 7   Released                 1230373 non-null  object \n",
      " 8   Updated                  1230376 non-null  object \n",
      " 9   Version                  1230376 non-null  object \n",
      " 10  Price                    1229886 non-null  float64\n",
      " 11  Currency                 1230376 non-null  object \n",
      " 12  Free                     1230376 non-null  bool   \n",
      " 13  DeveloperId              1230376 non-null  int64  \n",
      " 14  Developer                1230376 non-null  object \n",
      " 15  Developer_Url            1229267 non-null  object \n",
      " 16  Developer_Website        586388 non-null   object \n",
      " 17  Average_User_Rating      1230376 non-null  float64\n",
      " 18  Reviews                  1230376 non-null  int64  \n",
      " 19  Current_Version_Score    1230376 non-null  float64\n",
      " 20  Current_Version_Reviews  1230376 non-null  int64  \n",
      "dtypes: bool(1), float64(4), int64(3), object(13)\n",
      "memory usage: 188.9+ MB\n"
     ]
    }
   ],
   "source": [
    "df.info()"
   ]
  },
  {
   "cell_type": "markdown",
   "metadata": {
    "id": "39HYkOaHO2ZZ"
   },
   "source": [
    "**Observation:**\n",
    "\n",
    "---\n",
    "1. The dataset having   1230376 rows and 21 columns \n",
    "2. The columns in the dataset are:\n",
    " \n",
    "        'App_Id', 'App_Name', 'AppStore_Url', 'Primary_Genre', 'Content_Rating',\n",
    "       'Size_Bytes', 'Required_IOS_Version', 'Released', 'Updated', 'Version',\n",
    "       'Price', 'Currency', 'Free', 'DeveloperId', 'Developer',\n",
    "       'Developer_Url', 'Developer_Website', 'Average_User_Rating', 'Reviews',\n",
    "       'Current_Version_Score', 'Current_Version_Reviews'\n",
    "    "
   ]
  },
  {
   "cell_type": "markdown",
   "metadata": {
    "id": "NF5USCGMPie-"
   },
   "source": [
    "### Descriptive statistics"
   ]
  },
  {
   "cell_type": "code",
   "execution_count": 11,
   "metadata": {
    "colab": {
     "base_uri": "https://localhost:8080/",
     "height": 300
    },
    "executionInfo": {
     "elapsed": 697,
     "status": "ok",
     "timestamp": 1676621608508,
     "user": {
      "displayName": "Mahadeva Prashanth D M",
      "userId": "01792806173038978234"
     },
     "user_tz": -330
    },
    "id": "F_WsmLc8OF3S",
    "outputId": "8cf6dc2f-e370-430f-a6e1-8f2103501e92"
   },
   "outputs": [
    {
     "data": {
      "text/html": [
       "\n",
       "  <div id=\"df-b866834e-8c59-4bed-a176-c60760bb4ece\">\n",
       "    <div class=\"colab-df-container\">\n",
       "      <div>\n",
       "<style scoped>\n",
       "    .dataframe tbody tr th:only-of-type {\n",
       "        vertical-align: middle;\n",
       "    }\n",
       "\n",
       "    .dataframe tbody tr th {\n",
       "        vertical-align: top;\n",
       "    }\n",
       "\n",
       "    .dataframe thead th {\n",
       "        text-align: right;\n",
       "    }\n",
       "</style>\n",
       "<table border=\"1\" class=\"dataframe\">\n",
       "  <thead>\n",
       "    <tr style=\"text-align: right;\">\n",
       "      <th></th>\n",
       "      <th>Size_Bytes</th>\n",
       "      <th>Price</th>\n",
       "      <th>DeveloperId</th>\n",
       "      <th>Average_User_Rating</th>\n",
       "      <th>Reviews</th>\n",
       "      <th>Current_Version_Score</th>\n",
       "      <th>Current_Version_Reviews</th>\n",
       "    </tr>\n",
       "  </thead>\n",
       "  <tbody>\n",
       "    <tr>\n",
       "      <th>count</th>\n",
       "      <td>1.230152e+06</td>\n",
       "      <td>1.229886e+06</td>\n",
       "      <td>1.230376e+06</td>\n",
       "      <td>1.230376e+06</td>\n",
       "      <td>1.230376e+06</td>\n",
       "      <td>1.230376e+06</td>\n",
       "      <td>1.230376e+06</td>\n",
       "    </tr>\n",
       "    <tr>\n",
       "      <th>mean</th>\n",
       "      <td>7.510857e+07</td>\n",
       "      <td>5.041264e-01</td>\n",
       "      <td>1.092869e+09</td>\n",
       "      <td>1.788387e+00</td>\n",
       "      <td>8.259478e+02</td>\n",
       "      <td>1.788387e+00</td>\n",
       "      <td>8.259478e+02</td>\n",
       "    </tr>\n",
       "    <tr>\n",
       "      <th>std</th>\n",
       "      <td>2.318726e+08</td>\n",
       "      <td>6.869674e+00</td>\n",
       "      <td>4.090897e+08</td>\n",
       "      <td>2.154105e+00</td>\n",
       "      <td>5.016051e+04</td>\n",
       "      <td>2.154105e+00</td>\n",
       "      <td>5.016051e+04</td>\n",
       "    </tr>\n",
       "    <tr>\n",
       "      <th>min</th>\n",
       "      <td>2.762800e+04</td>\n",
       "      <td>0.000000e+00</td>\n",
       "      <td>2.816565e+08</td>\n",
       "      <td>0.000000e+00</td>\n",
       "      <td>0.000000e+00</td>\n",
       "      <td>0.000000e+00</td>\n",
       "      <td>0.000000e+00</td>\n",
       "    </tr>\n",
       "    <tr>\n",
       "      <th>25%</th>\n",
       "      <td>2.041344e+07</td>\n",
       "      <td>0.000000e+00</td>\n",
       "      <td>7.381109e+08</td>\n",
       "      <td>0.000000e+00</td>\n",
       "      <td>0.000000e+00</td>\n",
       "      <td>0.000000e+00</td>\n",
       "      <td>0.000000e+00</td>\n",
       "    </tr>\n",
       "    <tr>\n",
       "      <th>50%</th>\n",
       "      <td>4.333158e+07</td>\n",
       "      <td>0.000000e+00</td>\n",
       "      <td>1.179711e+09</td>\n",
       "      <td>0.000000e+00</td>\n",
       "      <td>0.000000e+00</td>\n",
       "      <td>0.000000e+00</td>\n",
       "      <td>0.000000e+00</td>\n",
       "    </tr>\n",
       "    <tr>\n",
       "      <th>75%</th>\n",
       "      <td>8.365466e+07</td>\n",
       "      <td>0.000000e+00</td>\n",
       "      <td>1.471960e+09</td>\n",
       "      <td>4.333330e+00</td>\n",
       "      <td>3.000000e+00</td>\n",
       "      <td>4.333330e+00</td>\n",
       "      <td>3.000000e+00</td>\n",
       "    </tr>\n",
       "    <tr>\n",
       "      <th>max</th>\n",
       "      <td>7.677945e+10</td>\n",
       "      <td>9.999900e+02</td>\n",
       "      <td>1.590233e+09</td>\n",
       "      <td>5.000000e+00</td>\n",
       "      <td>2.268533e+07</td>\n",
       "      <td>5.000000e+00</td>\n",
       "      <td>2.268533e+07</td>\n",
       "    </tr>\n",
       "  </tbody>\n",
       "</table>\n",
       "</div>\n",
       "      <button class=\"colab-df-convert\" onclick=\"convertToInteractive('df-b866834e-8c59-4bed-a176-c60760bb4ece')\"\n",
       "              title=\"Convert this dataframe to an interactive table.\"\n",
       "              style=\"display:none;\">\n",
       "        \n",
       "  <svg xmlns=\"http://www.w3.org/2000/svg\" height=\"24px\"viewBox=\"0 0 24 24\"\n",
       "       width=\"24px\">\n",
       "    <path d=\"M0 0h24v24H0V0z\" fill=\"none\"/>\n",
       "    <path d=\"M18.56 5.44l.94 2.06.94-2.06 2.06-.94-2.06-.94-.94-2.06-.94 2.06-2.06.94zm-11 1L8.5 8.5l.94-2.06 2.06-.94-2.06-.94L8.5 2.5l-.94 2.06-2.06.94zm10 10l.94 2.06.94-2.06 2.06-.94-2.06-.94-.94-2.06-.94 2.06-2.06.94z\"/><path d=\"M17.41 7.96l-1.37-1.37c-.4-.4-.92-.59-1.43-.59-.52 0-1.04.2-1.43.59L10.3 9.45l-7.72 7.72c-.78.78-.78 2.05 0 2.83L4 21.41c.39.39.9.59 1.41.59.51 0 1.02-.2 1.41-.59l7.78-7.78 2.81-2.81c.8-.78.8-2.07 0-2.86zM5.41 20L4 18.59l7.72-7.72 1.47 1.35L5.41 20z\"/>\n",
       "  </svg>\n",
       "      </button>\n",
       "      \n",
       "  <style>\n",
       "    .colab-df-container {\n",
       "      display:flex;\n",
       "      flex-wrap:wrap;\n",
       "      gap: 12px;\n",
       "    }\n",
       "\n",
       "    .colab-df-convert {\n",
       "      background-color: #E8F0FE;\n",
       "      border: none;\n",
       "      border-radius: 50%;\n",
       "      cursor: pointer;\n",
       "      display: none;\n",
       "      fill: #1967D2;\n",
       "      height: 32px;\n",
       "      padding: 0 0 0 0;\n",
       "      width: 32px;\n",
       "    }\n",
       "\n",
       "    .colab-df-convert:hover {\n",
       "      background-color: #E2EBFA;\n",
       "      box-shadow: 0px 1px 2px rgba(60, 64, 67, 0.3), 0px 1px 3px 1px rgba(60, 64, 67, 0.15);\n",
       "      fill: #174EA6;\n",
       "    }\n",
       "\n",
       "    [theme=dark] .colab-df-convert {\n",
       "      background-color: #3B4455;\n",
       "      fill: #D2E3FC;\n",
       "    }\n",
       "\n",
       "    [theme=dark] .colab-df-convert:hover {\n",
       "      background-color: #434B5C;\n",
       "      box-shadow: 0px 1px 3px 1px rgba(0, 0, 0, 0.15);\n",
       "      filter: drop-shadow(0px 1px 2px rgba(0, 0, 0, 0.3));\n",
       "      fill: #FFFFFF;\n",
       "    }\n",
       "  </style>\n",
       "\n",
       "      <script>\n",
       "        const buttonEl =\n",
       "          document.querySelector('#df-b866834e-8c59-4bed-a176-c60760bb4ece button.colab-df-convert');\n",
       "        buttonEl.style.display =\n",
       "          google.colab.kernel.accessAllowed ? 'block' : 'none';\n",
       "\n",
       "        async function convertToInteractive(key) {\n",
       "          const element = document.querySelector('#df-b866834e-8c59-4bed-a176-c60760bb4ece');\n",
       "          const dataTable =\n",
       "            await google.colab.kernel.invokeFunction('convertToInteractive',\n",
       "                                                     [key], {});\n",
       "          if (!dataTable) return;\n",
       "\n",
       "          const docLinkHtml = 'Like what you see? Visit the ' +\n",
       "            '<a target=\"_blank\" href=https://colab.research.google.com/notebooks/data_table.ipynb>data table notebook</a>'\n",
       "            + ' to learn more about interactive tables.';\n",
       "          element.innerHTML = '';\n",
       "          dataTable['output_type'] = 'display_data';\n",
       "          await google.colab.output.renderOutput(dataTable, element);\n",
       "          const docLink = document.createElement('div');\n",
       "          docLink.innerHTML = docLinkHtml;\n",
       "          element.appendChild(docLink);\n",
       "        }\n",
       "      </script>\n",
       "    </div>\n",
       "  </div>\n",
       "  "
      ],
      "text/plain": [
       "         Size_Bytes         Price   DeveloperId  Average_User_Rating  \\\n",
       "count  1.230152e+06  1.229886e+06  1.230376e+06         1.230376e+06   \n",
       "mean   7.510857e+07  5.041264e-01  1.092869e+09         1.788387e+00   \n",
       "std    2.318726e+08  6.869674e+00  4.090897e+08         2.154105e+00   \n",
       "min    2.762800e+04  0.000000e+00  2.816565e+08         0.000000e+00   \n",
       "25%    2.041344e+07  0.000000e+00  7.381109e+08         0.000000e+00   \n",
       "50%    4.333158e+07  0.000000e+00  1.179711e+09         0.000000e+00   \n",
       "75%    8.365466e+07  0.000000e+00  1.471960e+09         4.333330e+00   \n",
       "max    7.677945e+10  9.999900e+02  1.590233e+09         5.000000e+00   \n",
       "\n",
       "            Reviews  Current_Version_Score  Current_Version_Reviews  \n",
       "count  1.230376e+06           1.230376e+06             1.230376e+06  \n",
       "mean   8.259478e+02           1.788387e+00             8.259478e+02  \n",
       "std    5.016051e+04           2.154105e+00             5.016051e+04  \n",
       "min    0.000000e+00           0.000000e+00             0.000000e+00  \n",
       "25%    0.000000e+00           0.000000e+00             0.000000e+00  \n",
       "50%    0.000000e+00           0.000000e+00             0.000000e+00  \n",
       "75%    3.000000e+00           4.333330e+00             3.000000e+00  \n",
       "max    2.268533e+07           5.000000e+00             2.268533e+07  "
      ]
     },
     "execution_count": 11,
     "metadata": {},
     "output_type": "execute_result"
    }
   ],
   "source": [
    "df.describe()"
   ]
  },
  {
   "cell_type": "markdown",
   "metadata": {
    "id": "OphwVBNlP0dG"
   },
   "source": [
    "**Observation :**\n",
    "\n",
    "---\n",
    "1. we have 7 numerical columns in our dataset\n"
   ]
  },
  {
   "cell_type": "markdown",
   "metadata": {
    "id": "FBQsfRW7QAmH"
   },
   "source": [
    "To look the entire columns we can use pandas functon pd.set_option()"
   ]
  },
  {
   "cell_type": "code",
   "execution_count": 12,
   "metadata": {
    "executionInfo": {
     "elapsed": 8,
     "status": "ok",
     "timestamp": 1676621608509,
     "user": {
      "displayName": "Mahadeva Prashanth D M",
      "userId": "01792806173038978234"
     },
     "user_tz": -330
    },
    "id": "a0dAfb66PmgY"
   },
   "outputs": [],
   "source": [
    "pd.set_option('display.max_columns', None)"
   ]
  },
  {
   "cell_type": "code",
   "execution_count": 13,
   "metadata": {
    "colab": {
     "base_uri": "https://localhost:8080/",
     "height": 374
    },
    "executionInfo": {
     "elapsed": 7,
     "status": "ok",
     "timestamp": 1676621608509,
     "user": {
      "displayName": "Mahadeva Prashanth D M",
      "userId": "01792806173038978234"
     },
     "user_tz": -330
    },
    "id": "ywVr5gHPQEt4",
    "outputId": "0a905493-dee7-4b32-a169-c403bc51b0d6"
   },
   "outputs": [
    {
     "data": {
      "text/html": [
       "\n",
       "  <div id=\"df-0dff1945-91cf-446d-8ba2-32d23f6e42af\">\n",
       "    <div class=\"colab-df-container\">\n",
       "      <div>\n",
       "<style scoped>\n",
       "    .dataframe tbody tr th:only-of-type {\n",
       "        vertical-align: middle;\n",
       "    }\n",
       "\n",
       "    .dataframe tbody tr th {\n",
       "        vertical-align: top;\n",
       "    }\n",
       "\n",
       "    .dataframe thead th {\n",
       "        text-align: right;\n",
       "    }\n",
       "</style>\n",
       "<table border=\"1\" class=\"dataframe\">\n",
       "  <thead>\n",
       "    <tr style=\"text-align: right;\">\n",
       "      <th></th>\n",
       "      <th>App_Id</th>\n",
       "      <th>App_Name</th>\n",
       "      <th>AppStore_Url</th>\n",
       "      <th>Primary_Genre</th>\n",
       "      <th>Content_Rating</th>\n",
       "      <th>Size_Bytes</th>\n",
       "      <th>Required_IOS_Version</th>\n",
       "      <th>Released</th>\n",
       "      <th>Updated</th>\n",
       "      <th>Version</th>\n",
       "      <th>Price</th>\n",
       "      <th>Currency</th>\n",
       "      <th>Free</th>\n",
       "      <th>DeveloperId</th>\n",
       "      <th>Developer</th>\n",
       "      <th>Developer_Url</th>\n",
       "      <th>Developer_Website</th>\n",
       "      <th>Average_User_Rating</th>\n",
       "      <th>Reviews</th>\n",
       "      <th>Current_Version_Score</th>\n",
       "      <th>Current_Version_Reviews</th>\n",
       "    </tr>\n",
       "  </thead>\n",
       "  <tbody>\n",
       "    <tr>\n",
       "      <th>0</th>\n",
       "      <td>com.hkbu.arc.apaper</td>\n",
       "      <td>A+ Paper Guide</td>\n",
       "      <td>https://apps.apple.com/us/app/a-paper-guide/id...</td>\n",
       "      <td>Education</td>\n",
       "      <td>4+</td>\n",
       "      <td>21993472.0</td>\n",
       "      <td>8.0</td>\n",
       "      <td>2017-09-28T03:02:41Z</td>\n",
       "      <td>2018-12-21T21:30:36Z</td>\n",
       "      <td>1.1.2</td>\n",
       "      <td>0.00</td>\n",
       "      <td>USD</td>\n",
       "      <td>True</td>\n",
       "      <td>1375410542</td>\n",
       "      <td>HKBU ARC</td>\n",
       "      <td>https://apps.apple.com/us/developer/hkbu-arc/i...</td>\n",
       "      <td>NaN</td>\n",
       "      <td>0.0</td>\n",
       "      <td>0</td>\n",
       "      <td>0.0</td>\n",
       "      <td>0</td>\n",
       "    </tr>\n",
       "    <tr>\n",
       "      <th>1</th>\n",
       "      <td>com.dmitriev.abooks</td>\n",
       "      <td>A-Books</td>\n",
       "      <td>https://apps.apple.com/us/app/a-books/id103157...</td>\n",
       "      <td>Book</td>\n",
       "      <td>4+</td>\n",
       "      <td>13135872.0</td>\n",
       "      <td>10.0</td>\n",
       "      <td>2015-08-31T19:31:32Z</td>\n",
       "      <td>2019-07-23T20:31:09Z</td>\n",
       "      <td>1.3</td>\n",
       "      <td>0.00</td>\n",
       "      <td>USD</td>\n",
       "      <td>True</td>\n",
       "      <td>1031572001</td>\n",
       "      <td>Roman Dmitriev</td>\n",
       "      <td>https://apps.apple.com/us/developer/roman-dmit...</td>\n",
       "      <td>NaN</td>\n",
       "      <td>5.0</td>\n",
       "      <td>1</td>\n",
       "      <td>5.0</td>\n",
       "      <td>1</td>\n",
       "    </tr>\n",
       "    <tr>\n",
       "      <th>2</th>\n",
       "      <td>no.terp.abooks</td>\n",
       "      <td>A-books</td>\n",
       "      <td>https://apps.apple.com/us/app/a-books/id145702...</td>\n",
       "      <td>Book</td>\n",
       "      <td>4+</td>\n",
       "      <td>21943296.0</td>\n",
       "      <td>9.0</td>\n",
       "      <td>2021-04-14T07:00:00Z</td>\n",
       "      <td>2021-05-30T21:08:54Z</td>\n",
       "      <td>1.3.1</td>\n",
       "      <td>0.00</td>\n",
       "      <td>USD</td>\n",
       "      <td>True</td>\n",
       "      <td>1457024163</td>\n",
       "      <td>Terp AS</td>\n",
       "      <td>https://apps.apple.com/us/developer/terp-as/id...</td>\n",
       "      <td>NaN</td>\n",
       "      <td>0.0</td>\n",
       "      <td>0</td>\n",
       "      <td>0.0</td>\n",
       "      <td>0</td>\n",
       "    </tr>\n",
       "    <tr>\n",
       "      <th>3</th>\n",
       "      <td>fr.antoinettefleur.Book1</td>\n",
       "      <td>A-F Book #1</td>\n",
       "      <td>https://apps.apple.com/us/app/a-f-book-1/id500...</td>\n",
       "      <td>Book</td>\n",
       "      <td>4+</td>\n",
       "      <td>81851392.0</td>\n",
       "      <td>8.0</td>\n",
       "      <td>2012-02-10T03:40:07Z</td>\n",
       "      <td>2019-10-29T12:40:37Z</td>\n",
       "      <td>1.2</td>\n",
       "      <td>2.99</td>\n",
       "      <td>USD</td>\n",
       "      <td>False</td>\n",
       "      <td>439568839</td>\n",
       "      <td>i-editeur.com</td>\n",
       "      <td>https://apps.apple.com/us/developer/i-editeur-...</td>\n",
       "      <td>NaN</td>\n",
       "      <td>0.0</td>\n",
       "      <td>0</td>\n",
       "      <td>0.0</td>\n",
       "      <td>0</td>\n",
       "    </tr>\n",
       "    <tr>\n",
       "      <th>4</th>\n",
       "      <td>com.imonstersoft.azdictionaryios</td>\n",
       "      <td>A-Z Synonyms Dictionary</td>\n",
       "      <td>https://apps.apple.com/us/app/a-z-synonyms-dic...</td>\n",
       "      <td>Reference</td>\n",
       "      <td>4+</td>\n",
       "      <td>64692224.0</td>\n",
       "      <td>9.0</td>\n",
       "      <td>2020-12-16T08:00:00Z</td>\n",
       "      <td>2020-12-18T21:36:11Z</td>\n",
       "      <td>1.0.1</td>\n",
       "      <td>0.00</td>\n",
       "      <td>USD</td>\n",
       "      <td>True</td>\n",
       "      <td>656731821</td>\n",
       "      <td>Ngov chiheang</td>\n",
       "      <td>https://apps.apple.com/us/developer/ngov-chihe...</td>\n",
       "      <td>http://imonstersoft.com</td>\n",
       "      <td>0.0</td>\n",
       "      <td>0</td>\n",
       "      <td>0.0</td>\n",
       "      <td>0</td>\n",
       "    </tr>\n",
       "  </tbody>\n",
       "</table>\n",
       "</div>\n",
       "      <button class=\"colab-df-convert\" onclick=\"convertToInteractive('df-0dff1945-91cf-446d-8ba2-32d23f6e42af')\"\n",
       "              title=\"Convert this dataframe to an interactive table.\"\n",
       "              style=\"display:none;\">\n",
       "        \n",
       "  <svg xmlns=\"http://www.w3.org/2000/svg\" height=\"24px\"viewBox=\"0 0 24 24\"\n",
       "       width=\"24px\">\n",
       "    <path d=\"M0 0h24v24H0V0z\" fill=\"none\"/>\n",
       "    <path d=\"M18.56 5.44l.94 2.06.94-2.06 2.06-.94-2.06-.94-.94-2.06-.94 2.06-2.06.94zm-11 1L8.5 8.5l.94-2.06 2.06-.94-2.06-.94L8.5 2.5l-.94 2.06-2.06.94zm10 10l.94 2.06.94-2.06 2.06-.94-2.06-.94-.94-2.06-.94 2.06-2.06.94z\"/><path d=\"M17.41 7.96l-1.37-1.37c-.4-.4-.92-.59-1.43-.59-.52 0-1.04.2-1.43.59L10.3 9.45l-7.72 7.72c-.78.78-.78 2.05 0 2.83L4 21.41c.39.39.9.59 1.41.59.51 0 1.02-.2 1.41-.59l7.78-7.78 2.81-2.81c.8-.78.8-2.07 0-2.86zM5.41 20L4 18.59l7.72-7.72 1.47 1.35L5.41 20z\"/>\n",
       "  </svg>\n",
       "      </button>\n",
       "      \n",
       "  <style>\n",
       "    .colab-df-container {\n",
       "      display:flex;\n",
       "      flex-wrap:wrap;\n",
       "      gap: 12px;\n",
       "    }\n",
       "\n",
       "    .colab-df-convert {\n",
       "      background-color: #E8F0FE;\n",
       "      border: none;\n",
       "      border-radius: 50%;\n",
       "      cursor: pointer;\n",
       "      display: none;\n",
       "      fill: #1967D2;\n",
       "      height: 32px;\n",
       "      padding: 0 0 0 0;\n",
       "      width: 32px;\n",
       "    }\n",
       "\n",
       "    .colab-df-convert:hover {\n",
       "      background-color: #E2EBFA;\n",
       "      box-shadow: 0px 1px 2px rgba(60, 64, 67, 0.3), 0px 1px 3px 1px rgba(60, 64, 67, 0.15);\n",
       "      fill: #174EA6;\n",
       "    }\n",
       "\n",
       "    [theme=dark] .colab-df-convert {\n",
       "      background-color: #3B4455;\n",
       "      fill: #D2E3FC;\n",
       "    }\n",
       "\n",
       "    [theme=dark] .colab-df-convert:hover {\n",
       "      background-color: #434B5C;\n",
       "      box-shadow: 0px 1px 3px 1px rgba(0, 0, 0, 0.15);\n",
       "      filter: drop-shadow(0px 1px 2px rgba(0, 0, 0, 0.3));\n",
       "      fill: #FFFFFF;\n",
       "    }\n",
       "  </style>\n",
       "\n",
       "      <script>\n",
       "        const buttonEl =\n",
       "          document.querySelector('#df-0dff1945-91cf-446d-8ba2-32d23f6e42af button.colab-df-convert');\n",
       "        buttonEl.style.display =\n",
       "          google.colab.kernel.accessAllowed ? 'block' : 'none';\n",
       "\n",
       "        async function convertToInteractive(key) {\n",
       "          const element = document.querySelector('#df-0dff1945-91cf-446d-8ba2-32d23f6e42af');\n",
       "          const dataTable =\n",
       "            await google.colab.kernel.invokeFunction('convertToInteractive',\n",
       "                                                     [key], {});\n",
       "          if (!dataTable) return;\n",
       "\n",
       "          const docLinkHtml = 'Like what you see? Visit the ' +\n",
       "            '<a target=\"_blank\" href=https://colab.research.google.com/notebooks/data_table.ipynb>data table notebook</a>'\n",
       "            + ' to learn more about interactive tables.';\n",
       "          element.innerHTML = '';\n",
       "          dataTable['output_type'] = 'display_data';\n",
       "          await google.colab.output.renderOutput(dataTable, element);\n",
       "          const docLink = document.createElement('div');\n",
       "          docLink.innerHTML = docLinkHtml;\n",
       "          element.appendChild(docLink);\n",
       "        }\n",
       "      </script>\n",
       "    </div>\n",
       "  </div>\n",
       "  "
      ],
      "text/plain": [
       "                             App_Id                 App_Name  \\\n",
       "0               com.hkbu.arc.apaper           A+ Paper Guide   \n",
       "1               com.dmitriev.abooks                  A-Books   \n",
       "2                    no.terp.abooks                  A-books   \n",
       "3          fr.antoinettefleur.Book1              A-F Book #1   \n",
       "4  com.imonstersoft.azdictionaryios  A-Z Synonyms Dictionary   \n",
       "\n",
       "                                        AppStore_Url Primary_Genre  \\\n",
       "0  https://apps.apple.com/us/app/a-paper-guide/id...     Education   \n",
       "1  https://apps.apple.com/us/app/a-books/id103157...          Book   \n",
       "2  https://apps.apple.com/us/app/a-books/id145702...          Book   \n",
       "3  https://apps.apple.com/us/app/a-f-book-1/id500...          Book   \n",
       "4  https://apps.apple.com/us/app/a-z-synonyms-dic...     Reference   \n",
       "\n",
       "  Content_Rating  Size_Bytes Required_IOS_Version              Released  \\\n",
       "0             4+  21993472.0                  8.0  2017-09-28T03:02:41Z   \n",
       "1             4+  13135872.0                 10.0  2015-08-31T19:31:32Z   \n",
       "2             4+  21943296.0                  9.0  2021-04-14T07:00:00Z   \n",
       "3             4+  81851392.0                  8.0  2012-02-10T03:40:07Z   \n",
       "4             4+  64692224.0                  9.0  2020-12-16T08:00:00Z   \n",
       "\n",
       "                Updated Version  Price Currency   Free  DeveloperId  \\\n",
       "0  2018-12-21T21:30:36Z   1.1.2   0.00      USD   True   1375410542   \n",
       "1  2019-07-23T20:31:09Z     1.3   0.00      USD   True   1031572001   \n",
       "2  2021-05-30T21:08:54Z   1.3.1   0.00      USD   True   1457024163   \n",
       "3  2019-10-29T12:40:37Z     1.2   2.99      USD  False    439568839   \n",
       "4  2020-12-18T21:36:11Z   1.0.1   0.00      USD   True    656731821   \n",
       "\n",
       "        Developer                                      Developer_Url  \\\n",
       "0        HKBU ARC  https://apps.apple.com/us/developer/hkbu-arc/i...   \n",
       "1  Roman Dmitriev  https://apps.apple.com/us/developer/roman-dmit...   \n",
       "2         Terp AS  https://apps.apple.com/us/developer/terp-as/id...   \n",
       "3   i-editeur.com  https://apps.apple.com/us/developer/i-editeur-...   \n",
       "4   Ngov chiheang  https://apps.apple.com/us/developer/ngov-chihe...   \n",
       "\n",
       "         Developer_Website  Average_User_Rating  Reviews  \\\n",
       "0                      NaN                  0.0        0   \n",
       "1                      NaN                  5.0        1   \n",
       "2                      NaN                  0.0        0   \n",
       "3                      NaN                  0.0        0   \n",
       "4  http://imonstersoft.com                  0.0        0   \n",
       "\n",
       "   Current_Version_Score  Current_Version_Reviews  \n",
       "0                    0.0                        0  \n",
       "1                    5.0                        1  \n",
       "2                    0.0                        0  \n",
       "3                    0.0                        0  \n",
       "4                    0.0                        0  "
      ]
     },
     "execution_count": 13,
     "metadata": {},
     "output_type": "execute_result"
    }
   ],
   "source": [
    "df.head()"
   ]
  },
  {
   "cell_type": "markdown",
   "metadata": {
    "id": "YA1QhPdWQPFn"
   },
   "source": [
    "### Missing values in the data"
   ]
  },
  {
   "cell_type": "code",
   "execution_count": 14,
   "metadata": {
    "colab": {
     "base_uri": "https://localhost:8080/"
    },
    "executionInfo": {
     "elapsed": 4078,
     "status": "ok",
     "timestamp": 1676621612581,
     "user": {
      "displayName": "Mahadeva Prashanth D M",
      "userId": "01792806173038978234"
     },
     "user_tz": -330
    },
    "id": "v6sgGlwvQHk-",
    "outputId": "25480abd-4b30-401d-bb9f-7d3a974344f3"
   },
   "outputs": [
    {
     "data": {
      "text/plain": [
       "Developer_Website          643988\n",
       "Developer_Url                1109\n",
       "Price                         490\n",
       "Size_Bytes                    224\n",
       "Released                        3\n",
       "App_Name                        1\n",
       "Free                            0\n",
       "Current_Version_Score           0\n",
       "Reviews                         0\n",
       "Average_User_Rating             0\n",
       "Developer                       0\n",
       "DeveloperId                     0\n",
       "App_Id                          0\n",
       "Currency                        0\n",
       "Version                         0\n",
       "Updated                         0\n",
       "Required_IOS_Version            0\n",
       "Content_Rating                  0\n",
       "Primary_Genre                   0\n",
       "AppStore_Url                    0\n",
       "Current_Version_Reviews         0\n",
       "dtype: int64"
      ]
     },
     "execution_count": 14,
     "metadata": {},
     "output_type": "execute_result"
    }
   ],
   "source": [
    "df.isnull().sum().sort_values(ascending = False)"
   ]
  },
  {
   "cell_type": "markdown",
   "metadata": {
    "id": "RZhdK0tjWRby"
   },
   "source": [
    "### Cleaning the each row"
   ]
  },
  {
   "cell_type": "markdown",
   "metadata": {
    "id": "mFMiXsbUWWsR"
   },
   "source": [
    "checking any duplicates in the App Name"
   ]
  },
  {
   "cell_type": "markdown",
   "metadata": {
    "id": "jKlQshDhy7_l"
   },
   "source": [
    "**Observation :**\n",
    "\n",
    "It appears that a large percentage of Required IOS version of Apps are lies between 8 to 12. So generally to install any apps in Appstore we required IOS version atleast 8."
   ]
  },
  {
   "cell_type": "code",
   "execution_count": 15,
   "metadata": {
    "colab": {
     "base_uri": "https://localhost:8080/"
    },
    "executionInfo": {
     "elapsed": 17,
     "status": "ok",
     "timestamp": 1676621612581,
     "user": {
      "displayName": "Mahadeva Prashanth D M",
      "userId": "01792806173038978234"
     },
     "user_tz": -330
    },
    "id": "BP2w1FF2WGvq",
    "outputId": "247d45fa-288b-4d88-bc55-7a98ba5eb5ad"
   },
   "outputs": [
    {
     "data": {
      "text/plain": [
       "True"
      ]
     },
     "execution_count": 15,
     "metadata": {},
     "output_type": "execute_result"
    }
   ],
   "source": [
    "boolean = df['App_Name'].duplicated().any()\n",
    "boolean"
   ]
  },
  {
   "cell_type": "code",
   "execution_count": 16,
   "metadata": {
    "colab": {
     "base_uri": "https://localhost:8080/"
    },
    "executionInfo": {
     "elapsed": 4346,
     "status": "ok",
     "timestamp": 1676621616913,
     "user": {
      "displayName": "Mahadeva Prashanth D M",
      "userId": "01792806173038978234"
     },
     "user_tz": -330
    },
    "id": "jWaF8l_zWZ6b",
    "outputId": "d3d27bb1-c235-4089-fc4e-cb23b2b0437e"
   },
   "outputs": [
    {
     "data": {
      "text/plain": [
       "Vanguard                  6\n",
       "Linker                    5\n",
       "Bloom                     5\n",
       "Light                     4\n",
       "Happy House               4\n",
       "                         ..\n",
       "PopSleigh                 1\n",
       "Popsicles - Save them!    1\n",
       "Popsicle Sticks Puzzle    1\n",
       "Popsicle Note             1\n",
       "Sổ Điểm Thông Minh        1\n",
       "Name: App_Name, Length: 1223510, dtype: int64"
      ]
     },
     "execution_count": 16,
     "metadata": {},
     "output_type": "execute_result"
    }
   ],
   "source": [
    "df['App_Name'].value_counts()"
   ]
  },
  {
   "cell_type": "code",
   "execution_count": 17,
   "metadata": {
    "colab": {
     "base_uri": "https://localhost:8080/",
     "height": 423
    },
    "executionInfo": {
     "elapsed": 683,
     "status": "ok",
     "timestamp": 1676621617578,
     "user": {
      "displayName": "Mahadeva Prashanth D M",
      "userId": "01792806173038978234"
     },
     "user_tz": -330
    },
    "id": "AnLvHJKYWfpK",
    "outputId": "b3bc26f4-b629-4c86-c148-2af277b85c88"
   },
   "outputs": [
    {
     "data": {
      "text/html": [
       "\n",
       "  <div id=\"df-c764df65-72b6-48a9-af26-35a34dd0156d\">\n",
       "    <div class=\"colab-df-container\">\n",
       "      <div>\n",
       "<style scoped>\n",
       "    .dataframe tbody tr th:only-of-type {\n",
       "        vertical-align: middle;\n",
       "    }\n",
       "\n",
       "    .dataframe tbody tr th {\n",
       "        vertical-align: top;\n",
       "    }\n",
       "\n",
       "    .dataframe thead th {\n",
       "        text-align: right;\n",
       "    }\n",
       "</style>\n",
       "<table border=\"1\" class=\"dataframe\">\n",
       "  <thead>\n",
       "    <tr style=\"text-align: right;\">\n",
       "      <th></th>\n",
       "      <th>App_Id</th>\n",
       "      <th>App_Name</th>\n",
       "      <th>AppStore_Url</th>\n",
       "      <th>Primary_Genre</th>\n",
       "      <th>Content_Rating</th>\n",
       "      <th>Size_Bytes</th>\n",
       "      <th>Required_IOS_Version</th>\n",
       "      <th>Released</th>\n",
       "      <th>Updated</th>\n",
       "      <th>Version</th>\n",
       "      <th>Price</th>\n",
       "      <th>Currency</th>\n",
       "      <th>Free</th>\n",
       "      <th>DeveloperId</th>\n",
       "      <th>Developer</th>\n",
       "      <th>Developer_Url</th>\n",
       "      <th>Developer_Website</th>\n",
       "      <th>Average_User_Rating</th>\n",
       "      <th>Reviews</th>\n",
       "      <th>Current_Version_Score</th>\n",
       "      <th>Current_Version_Reviews</th>\n",
       "    </tr>\n",
       "  </thead>\n",
       "  <tbody>\n",
       "    <tr>\n",
       "      <th>478488</th>\n",
       "      <td>com.vanguard.app</td>\n",
       "      <td>Vanguard</td>\n",
       "      <td>https://apps.apple.com/us/app/vanguard/id33518...</td>\n",
       "      <td>Finance</td>\n",
       "      <td>4+</td>\n",
       "      <td>160800768.0</td>\n",
       "      <td>10.0</td>\n",
       "      <td>2009-10-24T19:14:54Z</td>\n",
       "      <td>2021-08-26T19:55:20Z</td>\n",
       "      <td>11.14</td>\n",
       "      <td>0.0</td>\n",
       "      <td>USD</td>\n",
       "      <td>True</td>\n",
       "      <td>335186212</td>\n",
       "      <td>The Vanguard Group, Inc.</td>\n",
       "      <td>https://apps.apple.com/us/developer/the-vangua...</td>\n",
       "      <td>http://www.vanguard.com</td>\n",
       "      <td>4.73977</td>\n",
       "      <td>167472</td>\n",
       "      <td>4.73977</td>\n",
       "      <td>167472</td>\n",
       "    </tr>\n",
       "    <tr>\n",
       "      <th>624553</th>\n",
       "      <td>com.omr.vngu</td>\n",
       "      <td>Vanguard</td>\n",
       "      <td>https://apps.apple.com/us/app/vanguard/id15822...</td>\n",
       "      <td>Games</td>\n",
       "      <td>4+</td>\n",
       "      <td>191240192.0</td>\n",
       "      <td>10.0</td>\n",
       "      <td>2021-08-27T07:00:00Z</td>\n",
       "      <td>2021-08-27T12:16:53Z</td>\n",
       "      <td>1.0</td>\n",
       "      <td>0.0</td>\n",
       "      <td>USD</td>\n",
       "      <td>True</td>\n",
       "      <td>1582197355</td>\n",
       "      <td>omar naser</td>\n",
       "      <td>https://apps.apple.com/us/developer/omar-naser...</td>\n",
       "      <td>NaN</td>\n",
       "      <td>3.00000</td>\n",
       "      <td>2</td>\n",
       "      <td>3.00000</td>\n",
       "      <td>2</td>\n",
       "    </tr>\n",
       "    <tr>\n",
       "      <th>871735</th>\n",
       "      <td>br.com.vanguardhome</td>\n",
       "      <td>Vanguard</td>\n",
       "      <td>https://apps.apple.com/us/app/vanguard/id14660...</td>\n",
       "      <td>Lifestyle</td>\n",
       "      <td>4+</td>\n",
       "      <td>87821312.0</td>\n",
       "      <td>9.0</td>\n",
       "      <td>2020-03-25T07:00:00Z</td>\n",
       "      <td>2021-10-05T23:12:01Z</td>\n",
       "      <td>1.1.10</td>\n",
       "      <td>0.0</td>\n",
       "      <td>USD</td>\n",
       "      <td>True</td>\n",
       "      <td>1459748843</td>\n",
       "      <td>Vanguard Home Empreendimentos Imobiliarios LTDA</td>\n",
       "      <td>https://apps.apple.com/us/developer/vanguard-h...</td>\n",
       "      <td>NaN</td>\n",
       "      <td>0.00000</td>\n",
       "      <td>0</td>\n",
       "      <td>0.00000</td>\n",
       "      <td>0</td>\n",
       "    </tr>\n",
       "    <tr>\n",
       "      <th>1024185</th>\n",
       "      <td>com.proptex.vanguard.barcelona</td>\n",
       "      <td>Vanguard</td>\n",
       "      <td>https://apps.apple.com/us/app/vanguard/id15690...</td>\n",
       "      <td>Productivity</td>\n",
       "      <td>17+</td>\n",
       "      <td>35228672.0</td>\n",
       "      <td>13.0</td>\n",
       "      <td>2021-06-11T07:00:00Z</td>\n",
       "      <td>2021-09-05T08:02:33Z</td>\n",
       "      <td>1.0.11</td>\n",
       "      <td>0.0</td>\n",
       "      <td>USD</td>\n",
       "      <td>True</td>\n",
       "      <td>1569057203</td>\n",
       "      <td>3k CO-LIVING $ ACCOMODATION</td>\n",
       "      <td>https://apps.apple.com/us/developer/3k-co-livi...</td>\n",
       "      <td>https://vanguard-student-housing.com</td>\n",
       "      <td>0.00000</td>\n",
       "      <td>0</td>\n",
       "      <td>0.00000</td>\n",
       "      <td>0</td>\n",
       "    </tr>\n",
       "    <tr>\n",
       "      <th>1066082</th>\n",
       "      <td>com.partnernogueiraalliance1.Vanguard1</td>\n",
       "      <td>Vanguard</td>\n",
       "      <td>https://apps.apple.com/us/app/vanguard/id14412...</td>\n",
       "      <td>Reference</td>\n",
       "      <td>4+</td>\n",
       "      <td>24201216.0</td>\n",
       "      <td>12.0</td>\n",
       "      <td>2018-11-13T01:31:37Z</td>\n",
       "      <td>2021-03-24T12:38:41Z</td>\n",
       "      <td>1.1.2</td>\n",
       "      <td>0.0</td>\n",
       "      <td>USD</td>\n",
       "      <td>True</td>\n",
       "      <td>1441217235</td>\n",
       "      <td>TONANDEL PTY LTD</td>\n",
       "      <td>https://apps.apple.com/us/developer/tonandel-p...</td>\n",
       "      <td>http://vanguardmalvern.com.au/</td>\n",
       "      <td>0.00000</td>\n",
       "      <td>0</td>\n",
       "      <td>0.00000</td>\n",
       "      <td>0</td>\n",
       "    </tr>\n",
       "    <tr>\n",
       "      <th>1094792</th>\n",
       "      <td>com.justbrands.highstreet.vanguard.ipad</td>\n",
       "      <td>Vanguard</td>\n",
       "      <td>https://apps.apple.com/us/app/vanguard/id91943...</td>\n",
       "      <td>Shopping</td>\n",
       "      <td>4+</td>\n",
       "      <td>68751360.0</td>\n",
       "      <td>13.0</td>\n",
       "      <td>2014-09-28T16:38:41Z</td>\n",
       "      <td>2021-07-26T09:36:18Z</td>\n",
       "      <td>2.114.14</td>\n",
       "      <td>0.0</td>\n",
       "      <td>USD</td>\n",
       "      <td>True</td>\n",
       "      <td>849091402</td>\n",
       "      <td>Just Brands B.V.</td>\n",
       "      <td>https://apps.apple.com/us/developer/just-brand...</td>\n",
       "      <td>NaN</td>\n",
       "      <td>5.00000</td>\n",
       "      <td>1</td>\n",
       "      <td>5.00000</td>\n",
       "      <td>1</td>\n",
       "    </tr>\n",
       "  </tbody>\n",
       "</table>\n",
       "</div>\n",
       "      <button class=\"colab-df-convert\" onclick=\"convertToInteractive('df-c764df65-72b6-48a9-af26-35a34dd0156d')\"\n",
       "              title=\"Convert this dataframe to an interactive table.\"\n",
       "              style=\"display:none;\">\n",
       "        \n",
       "  <svg xmlns=\"http://www.w3.org/2000/svg\" height=\"24px\"viewBox=\"0 0 24 24\"\n",
       "       width=\"24px\">\n",
       "    <path d=\"M0 0h24v24H0V0z\" fill=\"none\"/>\n",
       "    <path d=\"M18.56 5.44l.94 2.06.94-2.06 2.06-.94-2.06-.94-.94-2.06-.94 2.06-2.06.94zm-11 1L8.5 8.5l.94-2.06 2.06-.94-2.06-.94L8.5 2.5l-.94 2.06-2.06.94zm10 10l.94 2.06.94-2.06 2.06-.94-2.06-.94-.94-2.06-.94 2.06-2.06.94z\"/><path d=\"M17.41 7.96l-1.37-1.37c-.4-.4-.92-.59-1.43-.59-.52 0-1.04.2-1.43.59L10.3 9.45l-7.72 7.72c-.78.78-.78 2.05 0 2.83L4 21.41c.39.39.9.59 1.41.59.51 0 1.02-.2 1.41-.59l7.78-7.78 2.81-2.81c.8-.78.8-2.07 0-2.86zM5.41 20L4 18.59l7.72-7.72 1.47 1.35L5.41 20z\"/>\n",
       "  </svg>\n",
       "      </button>\n",
       "      \n",
       "  <style>\n",
       "    .colab-df-container {\n",
       "      display:flex;\n",
       "      flex-wrap:wrap;\n",
       "      gap: 12px;\n",
       "    }\n",
       "\n",
       "    .colab-df-convert {\n",
       "      background-color: #E8F0FE;\n",
       "      border: none;\n",
       "      border-radius: 50%;\n",
       "      cursor: pointer;\n",
       "      display: none;\n",
       "      fill: #1967D2;\n",
       "      height: 32px;\n",
       "      padding: 0 0 0 0;\n",
       "      width: 32px;\n",
       "    }\n",
       "\n",
       "    .colab-df-convert:hover {\n",
       "      background-color: #E2EBFA;\n",
       "      box-shadow: 0px 1px 2px rgba(60, 64, 67, 0.3), 0px 1px 3px 1px rgba(60, 64, 67, 0.15);\n",
       "      fill: #174EA6;\n",
       "    }\n",
       "\n",
       "    [theme=dark] .colab-df-convert {\n",
       "      background-color: #3B4455;\n",
       "      fill: #D2E3FC;\n",
       "    }\n",
       "\n",
       "    [theme=dark] .colab-df-convert:hover {\n",
       "      background-color: #434B5C;\n",
       "      box-shadow: 0px 1px 3px 1px rgba(0, 0, 0, 0.15);\n",
       "      filter: drop-shadow(0px 1px 2px rgba(0, 0, 0, 0.3));\n",
       "      fill: #FFFFFF;\n",
       "    }\n",
       "  </style>\n",
       "\n",
       "      <script>\n",
       "        const buttonEl =\n",
       "          document.querySelector('#df-c764df65-72b6-48a9-af26-35a34dd0156d button.colab-df-convert');\n",
       "        buttonEl.style.display =\n",
       "          google.colab.kernel.accessAllowed ? 'block' : 'none';\n",
       "\n",
       "        async function convertToInteractive(key) {\n",
       "          const element = document.querySelector('#df-c764df65-72b6-48a9-af26-35a34dd0156d');\n",
       "          const dataTable =\n",
       "            await google.colab.kernel.invokeFunction('convertToInteractive',\n",
       "                                                     [key], {});\n",
       "          if (!dataTable) return;\n",
       "\n",
       "          const docLinkHtml = 'Like what you see? Visit the ' +\n",
       "            '<a target=\"_blank\" href=https://colab.research.google.com/notebooks/data_table.ipynb>data table notebook</a>'\n",
       "            + ' to learn more about interactive tables.';\n",
       "          element.innerHTML = '';\n",
       "          dataTable['output_type'] = 'display_data';\n",
       "          await google.colab.output.renderOutput(dataTable, element);\n",
       "          const docLink = document.createElement('div');\n",
       "          docLink.innerHTML = docLinkHtml;\n",
       "          element.appendChild(docLink);\n",
       "        }\n",
       "      </script>\n",
       "    </div>\n",
       "  </div>\n",
       "  "
      ],
      "text/plain": [
       "                                          App_Id  App_Name  \\\n",
       "478488                          com.vanguard.app  Vanguard   \n",
       "624553                              com.omr.vngu  Vanguard   \n",
       "871735                       br.com.vanguardhome  Vanguard   \n",
       "1024185           com.proptex.vanguard.barcelona  Vanguard   \n",
       "1066082   com.partnernogueiraalliance1.Vanguard1  Vanguard   \n",
       "1094792  com.justbrands.highstreet.vanguard.ipad  Vanguard   \n",
       "\n",
       "                                              AppStore_Url Primary_Genre  \\\n",
       "478488   https://apps.apple.com/us/app/vanguard/id33518...       Finance   \n",
       "624553   https://apps.apple.com/us/app/vanguard/id15822...         Games   \n",
       "871735   https://apps.apple.com/us/app/vanguard/id14660...     Lifestyle   \n",
       "1024185  https://apps.apple.com/us/app/vanguard/id15690...  Productivity   \n",
       "1066082  https://apps.apple.com/us/app/vanguard/id14412...     Reference   \n",
       "1094792  https://apps.apple.com/us/app/vanguard/id91943...      Shopping   \n",
       "\n",
       "        Content_Rating   Size_Bytes Required_IOS_Version  \\\n",
       "478488              4+  160800768.0                 10.0   \n",
       "624553              4+  191240192.0                 10.0   \n",
       "871735              4+   87821312.0                  9.0   \n",
       "1024185            17+   35228672.0                 13.0   \n",
       "1066082             4+   24201216.0                 12.0   \n",
       "1094792             4+   68751360.0                 13.0   \n",
       "\n",
       "                     Released               Updated   Version  Price Currency  \\\n",
       "478488   2009-10-24T19:14:54Z  2021-08-26T19:55:20Z     11.14    0.0      USD   \n",
       "624553   2021-08-27T07:00:00Z  2021-08-27T12:16:53Z       1.0    0.0      USD   \n",
       "871735   2020-03-25T07:00:00Z  2021-10-05T23:12:01Z    1.1.10    0.0      USD   \n",
       "1024185  2021-06-11T07:00:00Z  2021-09-05T08:02:33Z    1.0.11    0.0      USD   \n",
       "1066082  2018-11-13T01:31:37Z  2021-03-24T12:38:41Z     1.1.2    0.0      USD   \n",
       "1094792  2014-09-28T16:38:41Z  2021-07-26T09:36:18Z  2.114.14    0.0      USD   \n",
       "\n",
       "         Free  DeveloperId                                        Developer  \\\n",
       "478488   True    335186212                         The Vanguard Group, Inc.   \n",
       "624553   True   1582197355                                       omar naser   \n",
       "871735   True   1459748843  Vanguard Home Empreendimentos Imobiliarios LTDA   \n",
       "1024185  True   1569057203                      3k CO-LIVING $ ACCOMODATION   \n",
       "1066082  True   1441217235                                 TONANDEL PTY LTD   \n",
       "1094792  True    849091402                                 Just Brands B.V.   \n",
       "\n",
       "                                             Developer_Url  \\\n",
       "478488   https://apps.apple.com/us/developer/the-vangua...   \n",
       "624553   https://apps.apple.com/us/developer/omar-naser...   \n",
       "871735   https://apps.apple.com/us/developer/vanguard-h...   \n",
       "1024185  https://apps.apple.com/us/developer/3k-co-livi...   \n",
       "1066082  https://apps.apple.com/us/developer/tonandel-p...   \n",
       "1094792  https://apps.apple.com/us/developer/just-brand...   \n",
       "\n",
       "                            Developer_Website  Average_User_Rating  Reviews  \\\n",
       "478488                http://www.vanguard.com              4.73977   167472   \n",
       "624553                                    NaN              3.00000        2   \n",
       "871735                                    NaN              0.00000        0   \n",
       "1024185  https://vanguard-student-housing.com              0.00000        0   \n",
       "1066082        http://vanguardmalvern.com.au/              0.00000        0   \n",
       "1094792                                   NaN              5.00000        1   \n",
       "\n",
       "         Current_Version_Score  Current_Version_Reviews  \n",
       "478488                 4.73977                   167472  \n",
       "624553                 3.00000                        2  \n",
       "871735                 0.00000                        0  \n",
       "1024185                0.00000                        0  \n",
       "1066082                0.00000                        0  \n",
       "1094792                5.00000                        1  "
      ]
     },
     "execution_count": 17,
     "metadata": {},
     "output_type": "execute_result"
    }
   ],
   "source": [
    "df[df['App_Name'] == 'Vanguard']"
   ]
  },
  {
   "cell_type": "code",
   "execution_count": 18,
   "metadata": {
    "colab": {
     "base_uri": "https://localhost:8080/"
    },
    "executionInfo": {
     "elapsed": 1738,
     "status": "ok",
     "timestamp": 1676621619311,
     "user": {
      "displayName": "Mahadeva Prashanth D M",
      "userId": "01792806173038978234"
     },
     "user_tz": -330
    },
    "id": "yRrmLdjZWqgV",
    "outputId": "1d4fad3f-0323-4440-9e43-379b6cf71190"
   },
   "outputs": [
    {
     "data": {
      "text/plain": [
       "False"
      ]
     },
     "execution_count": 18,
     "metadata": {},
     "output_type": "execute_result"
    }
   ],
   "source": [
    "df['App_Id'].duplicated().any()"
   ]
  },
  {
   "cell_type": "code",
   "execution_count": 19,
   "metadata": {
    "colab": {
     "base_uri": "https://localhost:8080/"
    },
    "executionInfo": {
     "elapsed": 1734,
     "status": "ok",
     "timestamp": 1676621621419,
     "user": {
      "displayName": "Mahadeva Prashanth D M",
      "userId": "01792806173038978234"
     },
     "user_tz": -330
    },
    "id": "XnEMq6-gW_08",
    "outputId": "ef1c5566-a58f-419c-b486-6aac5199627b"
   },
   "outputs": [
    {
     "data": {
      "text/plain": [
       "com.hkbu.arc.apaper                  1\n",
       "com.heliosx.popstars                 1\n",
       "com.chunchit.popstardressup          1\n",
       "com.caorda.EnviroProducts            1\n",
       "com.gmail.ironchorch.enviostarapp    1\n",
       "                                    ..\n",
       "stiven.xrayscannernoseprank          1\n",
       "stiven.xrayscannerhipboneprank       1\n",
       "stiven.xrayscannerheadprank          1\n",
       "stiven.xrayscannerfullbodyprank      1\n",
       "com.vnptlonganios.sodiemthongminh    1\n",
       "Name: App_Id, Length: 1230376, dtype: int64"
      ]
     },
     "execution_count": 19,
     "metadata": {},
     "output_type": "execute_result"
    }
   ],
   "source": [
    "df['App_Id'].value_counts()"
   ]
  },
  {
   "cell_type": "markdown",
   "metadata": {
    "id": "mgpfK9jUXMg7"
   },
   "source": [
    "1. we have the Apps with the same names but with the unique App IDs so the Apps are differed based on the App IDs"
   ]
  },
  {
   "cell_type": "markdown",
   "metadata": {
    "id": "gE_AxKlLXRgX"
   },
   "source": [
    "### Exploring the numerical columns"
   ]
  },
  {
   "cell_type": "code",
   "execution_count": 20,
   "metadata": {
    "colab": {
     "base_uri": "https://localhost:8080/"
    },
    "executionInfo": {
     "elapsed": 6,
     "status": "ok",
     "timestamp": 1676621621420,
     "user": {
      "displayName": "Mahadeva Prashanth D M",
      "userId": "01792806173038978234"
     },
     "user_tz": -330
    },
    "id": "KZOEAKbVXFoz",
    "outputId": "accf813c-ed35-4338-fd77-e93761483f47"
   },
   "outputs": [
    {
     "data": {
      "text/plain": [
       "array(['4+', '17+', '9+', '12+', 'Not yet rated'], dtype=object)"
      ]
     },
     "execution_count": 20,
     "metadata": {},
     "output_type": "execute_result"
    }
   ],
   "source": [
    "df['Content_Rating'].unique()"
   ]
  },
  {
   "cell_type": "code",
   "execution_count": 21,
   "metadata": {
    "executionInfo": {
     "elapsed": 4,
     "status": "ok",
     "timestamp": 1676621621420,
     "user": {
      "displayName": "Mahadeva Prashanth D M",
      "userId": "01792806173038978234"
     },
     "user_tz": -330
    },
    "id": "4Xh_vuMcrP2J"
   },
   "outputs": [],
   "source": [
    "df['Content_Rating']=df['Content_Rating'].replace('Not yet rated',0)"
   ]
  },
  {
   "cell_type": "code",
   "execution_count": 22,
   "metadata": {
    "executionInfo": {
     "elapsed": 5028,
     "status": "ok",
     "timestamp": 1676621626444,
     "user": {
      "displayName": "Mahadeva Prashanth D M",
      "userId": "01792806173038978234"
     },
     "user_tz": -330
    },
    "id": "tdufDUKDrP78"
   },
   "outputs": [],
   "source": [
    "df['Content_Rating'] = df['Content_Rating'].str.split('+').str[0]"
   ]
  },
  {
   "cell_type": "code",
   "execution_count": 23,
   "metadata": {
    "executionInfo": {
     "elapsed": 2,
     "status": "ok",
     "timestamp": 1676621626829,
     "user": {
      "displayName": "Mahadeva Prashanth D M",
      "userId": "01792806173038978234"
     },
     "user_tz": -330
    },
    "id": "sXc_caZRrP_Q"
   },
   "outputs": [],
   "source": [
    "df['Content_Rating']=df['Content_Rating'].fillna(0)"
   ]
  },
  {
   "cell_type": "code",
   "execution_count": 24,
   "metadata": {
    "executionInfo": {
     "elapsed": 399,
     "status": "ok",
     "timestamp": 1676621627227,
     "user": {
      "displayName": "Mahadeva Prashanth D M",
      "userId": "01792806173038978234"
     },
     "user_tz": -330
    },
    "id": "alvWPUv1rQCA"
   },
   "outputs": [],
   "source": [
    "df['Content_Rating'] = df['Content_Rating'].astype(float)"
   ]
  },
  {
   "cell_type": "code",
   "execution_count": 25,
   "metadata": {
    "colab": {
     "base_uri": "https://localhost:8080/"
    },
    "executionInfo": {
     "elapsed": 4,
     "status": "ok",
     "timestamp": 1676621627227,
     "user": {
      "displayName": "Mahadeva Prashanth D M",
      "userId": "01792806173038978234"
     },
     "user_tz": -330
    },
    "id": "fMjv5QcArQFA",
    "outputId": "3abdb44f-9952-4c34-f475-44faaf9f44e2"
   },
   "outputs": [
    {
     "data": {
      "text/plain": [
       "array([ 4., 17.,  9., 12.,  0.])"
      ]
     },
     "execution_count": 25,
     "metadata": {},
     "output_type": "execute_result"
    }
   ],
   "source": [
    "df['Content_Rating'].unique()"
   ]
  },
  {
   "cell_type": "markdown",
   "metadata": {
    "id": "webzFszUwNa4"
   },
   "source": [
    "Creataing the column type for free and paid Apps by using the Free column, it's helpfull while dealing with the paid and Free Apps"
   ]
  },
  {
   "cell_type": "code",
   "execution_count": 26,
   "metadata": {
    "executionInfo": {
     "elapsed": 1483,
     "status": "ok",
     "timestamp": 1676621628707,
     "user": {
      "displayName": "Mahadeva Prashanth D M",
      "userId": "01792806173038978234"
     },
     "user_tz": -330
    },
    "id": "zI3lzHb3rQH4"
   },
   "outputs": [],
   "source": [
    "df['Type'] = np.where(df['Free'] == True,'Free','Paid')\n",
    "df.drop(['Free'],axis=1, inplace= True )"
   ]
  },
  {
   "cell_type": "code",
   "execution_count": 27,
   "metadata": {
    "colab": {
     "base_uri": "https://localhost:8080/"
    },
    "executionInfo": {
     "elapsed": 5,
     "status": "ok",
     "timestamp": 1676621628707,
     "user": {
      "displayName": "Mahadeva Prashanth D M",
      "userId": "01792806173038978234"
     },
     "user_tz": -330
    },
    "id": "ANWbvU0n071h",
    "outputId": "b1bda8b1-64b7-47d6-ccf0-23f4d1585aa3"
   },
   "outputs": [
    {
     "data": {
      "text/plain": [
       "array(['Free', 'Paid'], dtype=object)"
      ]
     },
     "execution_count": 27,
     "metadata": {},
     "output_type": "execute_result"
    }
   ],
   "source": [
    "df['Type'].unique()"
   ]
  },
  {
   "cell_type": "code",
   "execution_count": 28,
   "metadata": {
    "executionInfo": {
     "elapsed": 4,
     "status": "ok",
     "timestamp": 1676621628708,
     "user": {
      "displayName": "Mahadeva Prashanth D M",
      "userId": "01792806173038978234"
     },
     "user_tz": -330
    },
    "id": "PI5c4u-_wH-I"
   },
   "outputs": [],
   "source": [
    "df['Size_MB']= round(df.Size_Bytes*0.000001, 2)\n",
    "df['Average_User_Rating']= round(df.Average_User_Rating, 2)"
   ]
  },
  {
   "cell_type": "markdown",
   "metadata": {
    "id": "M3y8ddZaQm2u"
   },
   "source": [
    "## Exploratory Analysis and Visualization :"
   ]
  },
  {
   "cell_type": "markdown",
   "metadata": {
    "id": "-DIr-fYNQrrG"
   },
   "source": [
    "### Ploting the missing null values"
   ]
  },
  {
   "cell_type": "code",
   "execution_count": 29,
   "metadata": {
    "colab": {
     "base_uri": "https://localhost:8080/",
     "height": 523
    },
    "executionInfo": {
     "elapsed": 49187,
     "status": "ok",
     "timestamp": 1676621678509,
     "user": {
      "displayName": "Mahadeva Prashanth D M",
      "userId": "01792806173038978234"
     },
     "user_tz": -330
    },
    "id": "EBa-LNtuQTzP",
    "outputId": "8105ef68-51ff-49c2-e55d-f8c260f9c319"
   },
   "outputs": [
    {
     "data": {
      "text/plain": [
       "Text(0.5, 1.0, 'Missing null values')"
      ]
     },
     "execution_count": 29,
     "metadata": {},
     "output_type": "execute_result"
    },
    {
     "data": {
      "image/png": "[encoded data removed]",
      "text/plain": [
       "<Figure size 1440x432 with 1 Axes>"
      ]
     },
     "metadata": {
      "needs_background": "light"
     },
     "output_type": "display_data"
    }
   ],
   "source": [
    "import matplotlib\n",
    "matplotlib.rcParams['figure.figsize'] = (20,6)\n",
    "sns.heatmap(df.isnull(),yticklabels = False, cbar = False , cmap = 'viridis')\n",
    "plt.title(\"Missing null values\")"
   ]
  },
  {
   "cell_type": "markdown",
   "metadata": {
    "id": "GIWhq20_RD8X"
   },
   "source": [
    "Let's see the missing percentage in data"
   ]
  },
  {
   "cell_type": "code",
   "execution_count": 30,
   "metadata": {
    "colab": {
     "base_uri": "https://localhost:8080/"
    },
    "executionInfo": {
     "elapsed": 7,
     "status": "ok",
     "timestamp": 1676621678509,
     "user": {
      "displayName": "Mahadeva Prashanth D M",
      "userId": "01792806173038978234"
     },
     "user_tz": -330
    },
    "id": "G9lvVuC0Qy1U",
    "outputId": "b5edeaa9-2852-4018-b465-85c731145c19"
   },
   "outputs": [
    {
     "data": {
      "text/plain": [
       "Developer_Website          5.234075e-01\n",
       "Developer_Url              9.013505e-04\n",
       "Price                      3.982522e-04\n",
       "Size_MB                    1.820582e-04\n",
       "Size_Bytes                 1.820582e-04\n",
       "Released                   2.438279e-06\n",
       "App_Name                   8.127597e-07\n",
       "Developer                  0.000000e+00\n",
       "Type                       0.000000e+00\n",
       "Current_Version_Reviews    0.000000e+00\n",
       "Current_Version_Score      0.000000e+00\n",
       "Reviews                    0.000000e+00\n",
       "Average_User_Rating        0.000000e+00\n",
       "App_Id                     0.000000e+00\n",
       "DeveloperId                0.000000e+00\n",
       "Version                    0.000000e+00\n",
       "Updated                    0.000000e+00\n",
       "Required_IOS_Version       0.000000e+00\n",
       "Content_Rating             0.000000e+00\n",
       "Primary_Genre              0.000000e+00\n",
       "AppStore_Url               0.000000e+00\n",
       "Currency                   0.000000e+00\n",
       "dtype: float64"
      ]
     },
     "execution_count": 30,
     "metadata": {},
     "output_type": "execute_result"
    }
   ],
   "source": [
    "missing_percentage = df.isnull().sum().sort_values(ascending = False)/len(df)\n",
    "missing_percentage"
   ]
  },
  {
   "cell_type": "markdown",
   "metadata": {
    "id": "Wy3mzDk-RsL3"
   },
   "source": [
    "### Ploting the missing percentage of null values"
   ]
  },
  {
   "cell_type": "code",
   "execution_count": 31,
   "metadata": {
    "colab": {
     "base_uri": "https://localhost:8080/",
     "height": 408
    },
    "executionInfo": {
     "elapsed": 693,
     "status": "ok",
     "timestamp": 1676621679199,
     "user": {
      "displayName": "Mahadeva Prashanth D M",
      "userId": "01792806173038978234"
     },
     "user_tz": -330
    },
    "id": "817IkS9pRQtk",
    "outputId": "c87377e2-855a-4a81-cdda-fff499b86d2f"
   },
   "outputs": [
    {
     "data": {
      "text/plain": [
       "Text(0.5, 1.0, 'Missig percentage of null values')"
      ]
     },
     "execution_count": 31,
     "metadata": {},
     "output_type": "execute_result"
    },
    {
     "data": {
      "image/png": "[encoded data removed]",
      "text/plain": [
       "<Figure size 1440x432 with 1 Axes>"
      ]
     },
     "metadata": {
      "needs_background": "light"
     },
     "output_type": "display_data"
    }
   ],
   "source": [
    "missing_percentage = missing_percentage[missing_percentage != 0] # Only the missing data\n",
    "import matplotlib\n",
    "matplotlib.rcParams['figure.figsize'] = (20,6)\n",
    "missing_percentage.plot(kind = 'barh')\n",
    "plt.title(\"Missig percentage of null values\")"
   ]
  },
  {
   "cell_type": "markdown",
   "metadata": {
    "id": "-9-EJLc7Tl_f"
   },
   "source": [
    "\n",
    "### Dealing with the null values\n",
    "#### 1.The column having highest percentage of null values are :\n",
    "* Developer Website  \n",
    "\n",
    "these column is not that much helpful if we want we can drop these column and in the further steps we drop and add some features in the dataset after the Analysis.\n",
    "\n",
    "#### 2. we can drop the small null values for the columns\n",
    "\n",
    "* App_Name               \n",
    "* Released           \n",
    "* Size_Bytes            \n",
    "* Price    \n",
    "* Developer_Url          \n"
   ]
  },
  {
   "cell_type": "markdown",
   "metadata": {
    "id": "VRoaxSrdVaRz"
   },
   "source": [
    "from observation 2 droping the null values of the columns got selected "
   ]
  },
  {
   "cell_type": "code",
   "execution_count": 32,
   "metadata": {
    "executionInfo": {
     "elapsed": 396,
     "status": "ok",
     "timestamp": 1676621679590,
     "user": {
      "displayName": "Mahadeva Prashanth D M",
      "userId": "01792806173038978234"
     },
     "user_tz": -330
    },
    "id": "-zN3et76VRjX"
   },
   "outputs": [],
   "source": [
    "df.dropna(subset = ['App_Name','Released','Currency','Size_Bytes','Price','Developer_Url'], inplace = True)"
   ]
  },
  {
   "cell_type": "code",
   "execution_count": 33,
   "metadata": {
    "colab": {
     "base_uri": "https://localhost:8080/"
    },
    "executionInfo": {
     "elapsed": 1248,
     "status": "ok",
     "timestamp": 1676621680837,
     "user": {
      "displayName": "Mahadeva Prashanth D M",
      "userId": "01792806173038978234"
     },
     "user_tz": -330
    },
    "id": "vrqdSJ25WDPL",
    "outputId": "5ba38327-a88b-43c4-9824-efd182036d58"
   },
   "outputs": [
    {
     "data": {
      "text/plain": [
       "App_Id                          0\n",
       "App_Name                        0\n",
       "AppStore_Url                    0\n",
       "Primary_Genre                   0\n",
       "Content_Rating                  0\n",
       "Size_Bytes                      0\n",
       "Required_IOS_Version            0\n",
       "Released                        0\n",
       "Updated                         0\n",
       "Version                         0\n",
       "Price                           0\n",
       "Currency                        0\n",
       "DeveloperId                     0\n",
       "Developer                       0\n",
       "Developer_Url                   0\n",
       "Developer_Website          643055\n",
       "Average_User_Rating             0\n",
       "Reviews                         0\n",
       "Current_Version_Score           0\n",
       "Current_Version_Reviews         0\n",
       "Type                            0\n",
       "Size_MB                         0\n",
       "dtype: int64"
      ]
     },
     "execution_count": 33,
     "metadata": {},
     "output_type": "execute_result"
    }
   ],
   "source": [
    "df.isnull().sum()"
   ]
  },
  {
   "cell_type": "markdown",
   "metadata": {
    "id": "s0hKXn49CqEo"
   },
   "source": [
    "### Correlations"
   ]
  },
  {
   "cell_type": "code",
   "execution_count": 34,
   "metadata": {
    "colab": {
     "base_uri": "https://localhost:8080/",
     "height": 332
    },
    "executionInfo": {
     "elapsed": 386,
     "status": "ok",
     "timestamp": 1676621681218,
     "user": {
      "displayName": "Mahadeva Prashanth D M",
      "userId": "01792806173038978234"
     },
     "user_tz": -330
    },
    "id": "O56T9VuV7VeH",
    "outputId": "863d692a-e592-43a0-c29d-e244b527e6af"
   },
   "outputs": [
    {
     "data": {
      "text/html": [
       "\n",
       "  <div id=\"df-43c12a4e-e66d-4c29-8f58-8a0bff17b75a\">\n",
       "    <div class=\"colab-df-container\">\n",
       "      <div>\n",
       "<style scoped>\n",
       "    .dataframe tbody tr th:only-of-type {\n",
       "        vertical-align: middle;\n",
       "    }\n",
       "\n",
       "    .dataframe tbody tr th {\n",
       "        vertical-align: top;\n",
       "    }\n",
       "\n",
       "    .dataframe thead th {\n",
       "        text-align: right;\n",
       "    }\n",
       "</style>\n",
       "<table border=\"1\" class=\"dataframe\">\n",
       "  <thead>\n",
       "    <tr style=\"text-align: right;\">\n",
       "      <th></th>\n",
       "      <th>Content_Rating</th>\n",
       "      <th>Size_Bytes</th>\n",
       "      <th>Price</th>\n",
       "      <th>DeveloperId</th>\n",
       "      <th>Average_User_Rating</th>\n",
       "      <th>Reviews</th>\n",
       "      <th>Current_Version_Score</th>\n",
       "      <th>Current_Version_Reviews</th>\n",
       "      <th>Size_MB</th>\n",
       "    </tr>\n",
       "  </thead>\n",
       "  <tbody>\n",
       "    <tr>\n",
       "      <th>Content_Rating</th>\n",
       "      <td>1.000000</td>\n",
       "      <td>0.038333</td>\n",
       "      <td>-0.007522</td>\n",
       "      <td>0.054835</td>\n",
       "      <td>0.029014</td>\n",
       "      <td>0.006826</td>\n",
       "      <td>0.029013</td>\n",
       "      <td>0.006826</td>\n",
       "      <td>0.038333</td>\n",
       "    </tr>\n",
       "    <tr>\n",
       "      <th>Size_Bytes</th>\n",
       "      <td>0.038333</td>\n",
       "      <td>1.000000</td>\n",
       "      <td>0.056342</td>\n",
       "      <td>-0.019726</td>\n",
       "      <td>0.048613</td>\n",
       "      <td>0.011257</td>\n",
       "      <td>0.048613</td>\n",
       "      <td>0.011257</td>\n",
       "      <td>1.000000</td>\n",
       "    </tr>\n",
       "    <tr>\n",
       "      <th>Price</th>\n",
       "      <td>-0.007522</td>\n",
       "      <td>0.056342</td>\n",
       "      <td>1.000000</td>\n",
       "      <td>-0.055493</td>\n",
       "      <td>-0.010463</td>\n",
       "      <td>-0.001089</td>\n",
       "      <td>-0.010463</td>\n",
       "      <td>-0.001089</td>\n",
       "      <td>0.056342</td>\n",
       "    </tr>\n",
       "    <tr>\n",
       "      <th>DeveloperId</th>\n",
       "      <td>0.054835</td>\n",
       "      <td>-0.019726</td>\n",
       "      <td>-0.055493</td>\n",
       "      <td>1.000000</td>\n",
       "      <td>-0.120861</td>\n",
       "      <td>-0.018658</td>\n",
       "      <td>-0.120862</td>\n",
       "      <td>-0.018658</td>\n",
       "      <td>-0.019726</td>\n",
       "    </tr>\n",
       "    <tr>\n",
       "      <th>Average_User_Rating</th>\n",
       "      <td>0.029014</td>\n",
       "      <td>0.048613</td>\n",
       "      <td>-0.010463</td>\n",
       "      <td>-0.120861</td>\n",
       "      <td>1.000000</td>\n",
       "      <td>0.022168</td>\n",
       "      <td>1.000000</td>\n",
       "      <td>0.022168</td>\n",
       "      <td>0.048613</td>\n",
       "    </tr>\n",
       "    <tr>\n",
       "      <th>Reviews</th>\n",
       "      <td>0.006826</td>\n",
       "      <td>0.011257</td>\n",
       "      <td>-0.001089</td>\n",
       "      <td>-0.018658</td>\n",
       "      <td>0.022168</td>\n",
       "      <td>1.000000</td>\n",
       "      <td>0.022167</td>\n",
       "      <td>1.000000</td>\n",
       "      <td>0.011257</td>\n",
       "    </tr>\n",
       "    <tr>\n",
       "      <th>Current_Version_Score</th>\n",
       "      <td>0.029013</td>\n",
       "      <td>0.048613</td>\n",
       "      <td>-0.010463</td>\n",
       "      <td>-0.120862</td>\n",
       "      <td>1.000000</td>\n",
       "      <td>0.022167</td>\n",
       "      <td>1.000000</td>\n",
       "      <td>0.022167</td>\n",
       "      <td>0.048613</td>\n",
       "    </tr>\n",
       "    <tr>\n",
       "      <th>Current_Version_Reviews</th>\n",
       "      <td>0.006826</td>\n",
       "      <td>0.011257</td>\n",
       "      <td>-0.001089</td>\n",
       "      <td>-0.018658</td>\n",
       "      <td>0.022168</td>\n",
       "      <td>1.000000</td>\n",
       "      <td>0.022167</td>\n",
       "      <td>1.000000</td>\n",
       "      <td>0.011257</td>\n",
       "    </tr>\n",
       "    <tr>\n",
       "      <th>Size_MB</th>\n",
       "      <td>0.038333</td>\n",
       "      <td>1.000000</td>\n",
       "      <td>0.056342</td>\n",
       "      <td>-0.019726</td>\n",
       "      <td>0.048613</td>\n",
       "      <td>0.011257</td>\n",
       "      <td>0.048613</td>\n",
       "      <td>0.011257</td>\n",
       "      <td>1.000000</td>\n",
       "    </tr>\n",
       "  </tbody>\n",
       "</table>\n",
       "</div>\n",
       "      <button class=\"colab-df-convert\" onclick=\"convertToInteractive('df-43c12a4e-e66d-4c29-8f58-8a0bff17b75a')\"\n",
       "              title=\"Convert this dataframe to an interactive table.\"\n",
       "              style=\"display:none;\">\n",
       "        \n",
       "  <svg xmlns=\"http://www.w3.org/2000/svg\" height=\"24px\"viewBox=\"0 0 24 24\"\n",
       "       width=\"24px\">\n",
       "    <path d=\"M0 0h24v24H0V0z\" fill=\"none\"/>\n",
       "    <path d=\"M18.56 5.44l.94 2.06.94-2.06 2.06-.94-2.06-.94-.94-2.06-.94 2.06-2.06.94zm-11 1L8.5 8.5l.94-2.06 2.06-.94-2.06-.94L8.5 2.5l-.94 2.06-2.06.94zm10 10l.94 2.06.94-2.06 2.06-.94-2.06-.94-.94-2.06-.94 2.06-2.06.94z\"/><path d=\"M17.41 7.96l-1.37-1.37c-.4-.4-.92-.59-1.43-.59-.52 0-1.04.2-1.43.59L10.3 9.45l-7.72 7.72c-.78.78-.78 2.05 0 2.83L4 21.41c.39.39.9.59 1.41.59.51 0 1.02-.2 1.41-.59l7.78-7.78 2.81-2.81c.8-.78.8-2.07 0-2.86zM5.41 20L4 18.59l7.72-7.72 1.47 1.35L5.41 20z\"/>\n",
       "  </svg>\n",
       "      </button>\n",
       "      \n",
       "  <style>\n",
       "    .colab-df-container {\n",
       "      display:flex;\n",
       "      flex-wrap:wrap;\n",
       "      gap: 12px;\n",
       "    }\n",
       "\n",
       "    .colab-df-convert {\n",
       "      background-color: #E8F0FE;\n",
       "      border: none;\n",
       "      border-radius: 50%;\n",
       "      cursor: pointer;\n",
       "      display: none;\n",
       "      fill: #1967D2;\n",
       "      height: 32px;\n",
       "      padding: 0 0 0 0;\n",
       "      width: 32px;\n",
       "    }\n",
       "\n",
       "    .colab-df-convert:hover {\n",
       "      background-color: #E2EBFA;\n",
       "      box-shadow: 0px 1px 2px rgba(60, 64, 67, 0.3), 0px 1px 3px 1px rgba(60, 64, 67, 0.15);\n",
       "      fill: #174EA6;\n",
       "    }\n",
       "\n",
       "    [theme=dark] .colab-df-convert {\n",
       "      background-color: #3B4455;\n",
       "      fill: #D2E3FC;\n",
       "    }\n",
       "\n",
       "    [theme=dark] .colab-df-convert:hover {\n",
       "      background-color: #434B5C;\n",
       "      box-shadow: 0px 1px 3px 1px rgba(0, 0, 0, 0.15);\n",
       "      filter: drop-shadow(0px 1px 2px rgba(0, 0, 0, 0.3));\n",
       "      fill: #FFFFFF;\n",
       "    }\n",
       "  </style>\n",
       "\n",
       "      <script>\n",
       "        const buttonEl =\n",
       "          document.querySelector('#df-43c12a4e-e66d-4c29-8f58-8a0bff17b75a button.colab-df-convert');\n",
       "        buttonEl.style.display =\n",
       "          google.colab.kernel.accessAllowed ? 'block' : 'none';\n",
       "\n",
       "        async function convertToInteractive(key) {\n",
       "          const element = document.querySelector('#df-43c12a4e-e66d-4c29-8f58-8a0bff17b75a');\n",
       "          const dataTable =\n",
       "            await google.colab.kernel.invokeFunction('convertToInteractive',\n",
       "                                                     [key], {});\n",
       "          if (!dataTable) return;\n",
       "\n",
       "          const docLinkHtml = 'Like what you see? Visit the ' +\n",
       "            '<a target=\"_blank\" href=https://colab.research.google.com/notebooks/data_table.ipynb>data table notebook</a>'\n",
       "            + ' to learn more about interactive tables.';\n",
       "          element.innerHTML = '';\n",
       "          dataTable['output_type'] = 'display_data';\n",
       "          await google.colab.output.renderOutput(dataTable, element);\n",
       "          const docLink = document.createElement('div');\n",
       "          docLink.innerHTML = docLinkHtml;\n",
       "          element.appendChild(docLink);\n",
       "        }\n",
       "      </script>\n",
       "    </div>\n",
       "  </div>\n",
       "  "
      ],
      "text/plain": [
       "                         Content_Rating  Size_Bytes     Price  DeveloperId  \\\n",
       "Content_Rating                 1.000000    0.038333 -0.007522     0.054835   \n",
       "Size_Bytes                     0.038333    1.000000  0.056342    -0.019726   \n",
       "Price                         -0.007522    0.056342  1.000000    -0.055493   \n",
       "DeveloperId                    0.054835   -0.019726 -0.055493     1.000000   \n",
       "Average_User_Rating            0.029014    0.048613 -0.010463    -0.120861   \n",
       "Reviews                        0.006826    0.011257 -0.001089    -0.018658   \n",
       "Current_Version_Score          0.029013    0.048613 -0.010463    -0.120862   \n",
       "Current_Version_Reviews        0.006826    0.011257 -0.001089    -0.018658   \n",
       "Size_MB                        0.038333    1.000000  0.056342    -0.019726   \n",
       "\n",
       "                         Average_User_Rating   Reviews  Current_Version_Score  \\\n",
       "Content_Rating                      0.029014  0.006826               0.029013   \n",
       "Size_Bytes                          0.048613  0.011257               0.048613   \n",
       "Price                              -0.010463 -0.001089              -0.010463   \n",
       "DeveloperId                        -0.120861 -0.018658              -0.120862   \n",
       "Average_User_Rating                 1.000000  0.022168               1.000000   \n",
       "Reviews                             0.022168  1.000000               0.022167   \n",
       "Current_Version_Score               1.000000  0.022167               1.000000   \n",
       "Current_Version_Reviews             0.022168  1.000000               0.022167   \n",
       "Size_MB                             0.048613  0.011257               0.048613   \n",
       "\n",
       "                         Current_Version_Reviews   Size_MB  \n",
       "Content_Rating                          0.006826  0.038333  \n",
       "Size_Bytes                              0.011257  1.000000  \n",
       "Price                                  -0.001089  0.056342  \n",
       "DeveloperId                            -0.018658 -0.019726  \n",
       "Average_User_Rating                     0.022168  0.048613  \n",
       "Reviews                                 1.000000  0.011257  \n",
       "Current_Version_Score                   0.022167  0.048613  \n",
       "Current_Version_Reviews                 1.000000  0.011257  \n",
       "Size_MB                                 0.011257  1.000000  "
      ]
     },
     "execution_count": 34,
     "metadata": {},
     "output_type": "execute_result"
    }
   ],
   "source": [
    "df.corr()"
   ]
  },
  {
   "cell_type": "markdown",
   "metadata": {
    "id": "go_zKE4nNBuC"
   },
   "source": [
    "**Observation**\n",
    "\n",
    "From above correlations table we can understand the relationship between the columns."
   ]
  },
  {
   "cell_type": "code",
   "execution_count": 35,
   "metadata": {
    "colab": {
     "base_uri": "https://localhost:8080/"
    },
    "executionInfo": {
     "elapsed": 4,
     "status": "ok",
     "timestamp": 1676621681218,
     "user": {
      "displayName": "Mahadeva Prashanth D M",
      "userId": "01792806173038978234"
     },
     "user_tz": -330
    },
    "id": "lKjw6uTfpldA",
    "outputId": "29e6121d-ce2e-4b43-9f79-3d58d359659c"
   },
   "outputs": [
    {
     "data": {
      "text/plain": [
       "Games                     193223\n",
       "Business                  128202\n",
       "Education                 119108\n",
       "Utilities                  93933\n",
       "Lifestyle                  84490\n",
       "Food & Drink               72813\n",
       "Health & Fitness           60675\n",
       "Productivity               59384\n",
       "Entertainment              53059\n",
       "Shopping                   49491\n",
       "Finance                    44955\n",
       "Travel                     43705\n",
       "Sports                     31438\n",
       "Music                      29883\n",
       "Medical                    27984\n",
       "Photo & Video              25940\n",
       "Social Networking          25395\n",
       "News                       20408\n",
       "Reference                  18607\n",
       "Navigation                 12630\n",
       "Stickers                   12407\n",
       "Book                       11467\n",
       "Weather                     3559\n",
       "Graphics & Design           2778\n",
       "Developer Tools             1947\n",
       "Magazines & Newspapers      1295\n",
       "Name: Primary_Genre, dtype: int64"
      ]
     },
     "execution_count": 35,
     "metadata": {},
     "output_type": "execute_result"
    }
   ],
   "source": [
    "Category_totals =df.Primary_Genre.value_counts().sort_values(ascending=False)\n",
    "Category_totals"
   ]
  },
  {
   "cell_type": "markdown",
   "metadata": {
    "id": "iOESoAgotb1-"
   },
   "source": [
    "As one might expect, the most common category include \"Games\" in the name."
   ]
  },
  {
   "cell_type": "markdown",
   "metadata": {
    "id": "yqm-MZNjtr0j"
   },
   "source": [
    "### Visualization of different category using a word cloud."
   ]
  },
  {
   "cell_type": "code",
   "execution_count": 36,
   "metadata": {
    "executionInfo": {
     "elapsed": 4,
     "status": "ok",
     "timestamp": 1676621681219,
     "user": {
      "displayName": "Mahadeva Prashanth D M",
      "userId": "01792806173038978234"
     },
     "user_tz": -330
    },
    "id": "TH7skBSZo0l_"
   },
   "outputs": [],
   "source": [
    "from wordcloud import WordCloud"
   ]
  },
  {
   "cell_type": "code",
   "execution_count": 37,
   "metadata": {
    "colab": {
     "base_uri": "https://localhost:8080/",
     "height": 466
    },
    "executionInfo": {
     "elapsed": 8106,
     "status": "ok",
     "timestamp": 1676621689322,
     "user": {
      "displayName": "Mahadeva Prashanth D M",
      "userId": "01792806173038978234"
     },
     "user_tz": -330
    },
    "id": "2KpyyAqjm86z",
    "outputId": "8400fa7c-23fc-4596-cdc3-8f644053b867"
   },
   "outputs": [
    {
     "data": {
      "image/png": "[encoded data removed]",
      "text/plain": [
       "<Figure size 1152x576 with 1 Axes>"
      ]
     },
     "metadata": {
      "needs_background": "light"
     },
     "output_type": "display_data"
    }
   ],
   "source": [
    "words = ' '.join((job for job in df.Primary_Genre.dropna().str.replace(';', ' ').str.replace(',', ' ')))\n",
    "\n",
    "wc = WordCloud( width=800, height=400, background_color='white').generate(words)\n",
    "\n",
    "plt.figure(figsize=(16,8))\n",
    "plt.axis(\"off\")\n",
    "plt.grid(False)\n",
    "plt.imshow(wc);"
   ]
  },
  {
   "cell_type": "markdown",
   "metadata": {
    "id": "gSkuQAvl2SNk"
   },
   "source": [
    "**Observation :**\n",
    "\n",
    "From above word cloud we can say that games , business and education are big categories having large numbers of apps as it appears more times and big size.\n"
   ]
  },
  {
   "cell_type": "markdown",
   "metadata": {
    "id": "OQoiebIO7BS2"
   },
   "source": [
    "### Visualization of Required IOS version of Apps using a histogram."
   ]
  },
  {
   "cell_type": "code",
   "execution_count": 38,
   "metadata": {
    "colab": {
     "base_uri": "https://localhost:8080/"
    },
    "executionInfo": {
     "elapsed": 20,
     "status": "ok",
     "timestamp": 1676621689322,
     "user": {
      "displayName": "Mahadeva Prashanth D M",
      "userId": "01792806173038978234"
     },
     "user_tz": -330
    },
    "id": "HQI9tSAfxT5u",
    "outputId": "e0f89f89-8c23-4e28-d771-fda10414a29e"
   },
   "outputs": [
    {
     "data": {
      "text/plain": [
       "11.0      210520\n",
       "9.0       205930\n",
       "10.0      195851\n",
       "8.0       150913\n",
       "12.0       94400\n",
       "           ...  \n",
       "10.3.0         1\n",
       "5.0.0          1\n",
       "10.6.5         1\n",
       "3.2.0          1\n",
       "11.2.2         1\n",
       "Name: Required_IOS_Version, Length: 259, dtype: int64"
      ]
     },
     "execution_count": 38,
     "metadata": {},
     "output_type": "execute_result"
    }
   ],
   "source": [
    "df['Required_IOS_Version'].value_counts()\n",
    "\n",
    "\n"
   ]
  },
  {
   "cell_type": "code",
   "execution_count": 59,
   "metadata": {
    "colab": {
     "base_uri": "https://localhost:8080/",
     "height": 542,
     "output_embedded_package_id": "1h38P0QX_zCzZTc2a9C2IS6NGs-Y17IUP"
    },
    "executionInfo": {
     "elapsed": 27481,
     "status": "ok",
     "timestamp": 1676621942125,
     "user": {
      "displayName": "Mahadeva Prashanth D M",
      "userId": "01792806173038978234"
     },
     "user_tz": -330
    },
    "id": "A5C2ibCsvfAt",
    "outputId": "4b999a0d-f1d4-4fc0-b370-4bd320b27d1c"
   },
   "outputs": [
    {
     "data": {
      "text/plain": [
       "Output hidden; open in https://colab.research.google.com to view."
      ]
     },
     "metadata": {},
     "output_type": "display_data"
    }
   ],
   "source": [
    "px.histogram(df, x=\"Required_IOS_Version\", marginal=\"box\", title='Required IOS version of Apps')"
   ]
  },
  {
   "cell_type": "markdown",
   "metadata": {
    "id": "4E9UFziaeOE0"
   },
   "source": [
    "<img src=\"https://i.imgur.com/jUGiGKV.png\" width=\"3000\" height=\"600\">"
   ]
  },
  {
   "cell_type": "markdown",
   "metadata": {
    "id": "wyK6CXq_LCeM"
   },
   "source": [
    "**Observation :**\n",
    "\n",
    "From the above graph we can say that minimum of 8 IOS version is required to install most of the apps in apple appstore."
   ]
  },
  {
   "cell_type": "markdown",
   "metadata": {
    "id": "w9YkhZXsrw6u"
   },
   "source": [
    "## Questions, Answers and Visualizations :     \n",
    "\n",
    "\n",
    "1.  What are the top 10 Categories that are published from the Apple AppStore \n",
    "2.  What is the most common rating tendency of people amoung all Categories ?\n",
    "3.  What is the higest rated Category ?\n",
    "4.  Which Category has the highest Paid and Free apps ?\n",
    "5.  Which price has height number of the paid apps in appstore?\n",
    "6.  What is the impact on users due to size of the app? ?\n",
    "7.  Who are the top developers based on the number of Apps released by them ?\n",
    "8.  Which developers are most popular?"
   ]
  },
  {
   "cell_type": "markdown",
   "metadata": {
    "id": "dw4vTvopr2f1"
   },
   "source": [
    "### Q1. What are the top 10 Categories that are published from the Apple AppStore ?"
   ]
  },
  {
   "cell_type": "code",
   "execution_count": 40,
   "metadata": {
    "colab": {
     "base_uri": "https://localhost:8080/"
    },
    "executionInfo": {
     "elapsed": 26,
     "status": "ok",
     "timestamp": 1676621715851,
     "user": {
      "displayName": "Mahadeva Prashanth D M",
      "userId": "01792806173038978234"
     },
     "user_tz": -330
    },
    "id": "nMdbu7DGrzna",
    "outputId": "b4440d8e-9f50-4146-de4f-011025507178"
   },
   "outputs": [
    {
     "data": {
      "text/plain": [
       "array(['Education', 'Book', 'Reference', 'News', 'Lifestyle',\n",
       "       'Health & Fitness', 'Games', 'Medical', 'Food & Drink', 'Sports',\n",
       "       'Shopping', 'Entertainment', 'Utilities', 'Stickers',\n",
       "       'Productivity', 'Music', 'Photo & Video', 'Travel', 'Business',\n",
       "       'Social Networking', 'Magazines & Newspapers', 'Navigation',\n",
       "       'Finance', 'Weather', 'Graphics & Design', 'Developer Tools'],\n",
       "      dtype=object)"
      ]
     },
     "execution_count": 40,
     "metadata": {},
     "output_type": "execute_result"
    }
   ],
   "source": [
    "df['Primary_Genre'].unique()"
   ]
  },
  {
   "cell_type": "code",
   "execution_count": 41,
   "metadata": {
    "executionInfo": {
     "elapsed": 21,
     "status": "ok",
     "timestamp": 1676621715851,
     "user": {
      "displayName": "Mahadeva Prashanth D M",
      "userId": "01792806173038978234"
     },
     "user_tz": -330
    },
    "id": "A7Opt2H0r7Nk"
   },
   "outputs": [],
   "source": [
    "top_Category = df.Primary_Genre.value_counts().reset_index().rename(columns={'Primary_Genre':'Count','index':'Category'})"
   ]
  },
  {
   "cell_type": "code",
   "execution_count": 42,
   "metadata": {
    "colab": {
     "base_uri": "https://localhost:8080/",
     "height": 865
    },
    "executionInfo": {
     "elapsed": 22,
     "status": "ok",
     "timestamp": 1676621715852,
     "user": {
      "displayName": "Mahadeva Prashanth D M",
      "userId": "01792806173038978234"
     },
     "user_tz": -330
    },
    "id": "ILbNgOTbr9sS",
    "outputId": "9c4eeeca-e646-4599-f1e0-479104c41e39"
   },
   "outputs": [
    {
     "data": {
      "text/html": [
       "\n",
       "  <div id=\"df-204d977d-4809-4e85-99f3-8ebb1ab969da\">\n",
       "    <div class=\"colab-df-container\">\n",
       "      <div>\n",
       "<style scoped>\n",
       "    .dataframe tbody tr th:only-of-type {\n",
       "        vertical-align: middle;\n",
       "    }\n",
       "\n",
       "    .dataframe tbody tr th {\n",
       "        vertical-align: top;\n",
       "    }\n",
       "\n",
       "    .dataframe thead th {\n",
       "        text-align: right;\n",
       "    }\n",
       "</style>\n",
       "<table border=\"1\" class=\"dataframe\">\n",
       "  <thead>\n",
       "    <tr style=\"text-align: right;\">\n",
       "      <th></th>\n",
       "      <th>Category</th>\n",
       "      <th>Count</th>\n",
       "    </tr>\n",
       "  </thead>\n",
       "  <tbody>\n",
       "    <tr>\n",
       "      <th>0</th>\n",
       "      <td>Games</td>\n",
       "      <td>193223</td>\n",
       "    </tr>\n",
       "    <tr>\n",
       "      <th>1</th>\n",
       "      <td>Business</td>\n",
       "      <td>128202</td>\n",
       "    </tr>\n",
       "    <tr>\n",
       "      <th>2</th>\n",
       "      <td>Education</td>\n",
       "      <td>119108</td>\n",
       "    </tr>\n",
       "    <tr>\n",
       "      <th>3</th>\n",
       "      <td>Utilities</td>\n",
       "      <td>93933</td>\n",
       "    </tr>\n",
       "    <tr>\n",
       "      <th>4</th>\n",
       "      <td>Lifestyle</td>\n",
       "      <td>84490</td>\n",
       "    </tr>\n",
       "    <tr>\n",
       "      <th>5</th>\n",
       "      <td>Food &amp; Drink</td>\n",
       "      <td>72813</td>\n",
       "    </tr>\n",
       "    <tr>\n",
       "      <th>6</th>\n",
       "      <td>Health &amp; Fitness</td>\n",
       "      <td>60675</td>\n",
       "    </tr>\n",
       "    <tr>\n",
       "      <th>7</th>\n",
       "      <td>Productivity</td>\n",
       "      <td>59384</td>\n",
       "    </tr>\n",
       "    <tr>\n",
       "      <th>8</th>\n",
       "      <td>Entertainment</td>\n",
       "      <td>53059</td>\n",
       "    </tr>\n",
       "    <tr>\n",
       "      <th>9</th>\n",
       "      <td>Shopping</td>\n",
       "      <td>49491</td>\n",
       "    </tr>\n",
       "    <tr>\n",
       "      <th>10</th>\n",
       "      <td>Finance</td>\n",
       "      <td>44955</td>\n",
       "    </tr>\n",
       "    <tr>\n",
       "      <th>11</th>\n",
       "      <td>Travel</td>\n",
       "      <td>43705</td>\n",
       "    </tr>\n",
       "    <tr>\n",
       "      <th>12</th>\n",
       "      <td>Sports</td>\n",
       "      <td>31438</td>\n",
       "    </tr>\n",
       "    <tr>\n",
       "      <th>13</th>\n",
       "      <td>Music</td>\n",
       "      <td>29883</td>\n",
       "    </tr>\n",
       "    <tr>\n",
       "      <th>14</th>\n",
       "      <td>Medical</td>\n",
       "      <td>27984</td>\n",
       "    </tr>\n",
       "    <tr>\n",
       "      <th>15</th>\n",
       "      <td>Photo &amp; Video</td>\n",
       "      <td>25940</td>\n",
       "    </tr>\n",
       "    <tr>\n",
       "      <th>16</th>\n",
       "      <td>Social Networking</td>\n",
       "      <td>25395</td>\n",
       "    </tr>\n",
       "    <tr>\n",
       "      <th>17</th>\n",
       "      <td>News</td>\n",
       "      <td>20408</td>\n",
       "    </tr>\n",
       "    <tr>\n",
       "      <th>18</th>\n",
       "      <td>Reference</td>\n",
       "      <td>18607</td>\n",
       "    </tr>\n",
       "    <tr>\n",
       "      <th>19</th>\n",
       "      <td>Navigation</td>\n",
       "      <td>12630</td>\n",
       "    </tr>\n",
       "    <tr>\n",
       "      <th>20</th>\n",
       "      <td>Stickers</td>\n",
       "      <td>12407</td>\n",
       "    </tr>\n",
       "    <tr>\n",
       "      <th>21</th>\n",
       "      <td>Book</td>\n",
       "      <td>11467</td>\n",
       "    </tr>\n",
       "    <tr>\n",
       "      <th>22</th>\n",
       "      <td>Weather</td>\n",
       "      <td>3559</td>\n",
       "    </tr>\n",
       "    <tr>\n",
       "      <th>23</th>\n",
       "      <td>Graphics &amp; Design</td>\n",
       "      <td>2778</td>\n",
       "    </tr>\n",
       "    <tr>\n",
       "      <th>24</th>\n",
       "      <td>Developer Tools</td>\n",
       "      <td>1947</td>\n",
       "    </tr>\n",
       "    <tr>\n",
       "      <th>25</th>\n",
       "      <td>Magazines &amp; Newspapers</td>\n",
       "      <td>1295</td>\n",
       "    </tr>\n",
       "  </tbody>\n",
       "</table>\n",
       "</div>\n",
       "      <button class=\"colab-df-convert\" onclick=\"convertToInteractive('df-204d977d-4809-4e85-99f3-8ebb1ab969da')\"\n",
       "              title=\"Convert this dataframe to an interactive table.\"\n",
       "              style=\"display:none;\">\n",
       "        \n",
       "  <svg xmlns=\"http://www.w3.org/2000/svg\" height=\"24px\"viewBox=\"0 0 24 24\"\n",
       "       width=\"24px\">\n",
       "    <path d=\"M0 0h24v24H0V0z\" fill=\"none\"/>\n",
       "    <path d=\"M18.56 5.44l.94 2.06.94-2.06 2.06-.94-2.06-.94-.94-2.06-.94 2.06-2.06.94zm-11 1L8.5 8.5l.94-2.06 2.06-.94-2.06-.94L8.5 2.5l-.94 2.06-2.06.94zm10 10l.94 2.06.94-2.06 2.06-.94-2.06-.94-.94-2.06-.94 2.06-2.06.94z\"/><path d=\"M17.41 7.96l-1.37-1.37c-.4-.4-.92-.59-1.43-.59-.52 0-1.04.2-1.43.59L10.3 9.45l-7.72 7.72c-.78.78-.78 2.05 0 2.83L4 21.41c.39.39.9.59 1.41.59.51 0 1.02-.2 1.41-.59l7.78-7.78 2.81-2.81c.8-.78.8-2.07 0-2.86zM5.41 20L4 18.59l7.72-7.72 1.47 1.35L5.41 20z\"/>\n",
       "  </svg>\n",
       "      </button>\n",
       "      \n",
       "  <style>\n",
       "    .colab-df-container {\n",
       "      display:flex;\n",
       "      flex-wrap:wrap;\n",
       "      gap: 12px;\n",
       "    }\n",
       "\n",
       "    .colab-df-convert {\n",
       "      background-color: #E8F0FE;\n",
       "      border: none;\n",
       "      border-radius: 50%;\n",
       "      cursor: pointer;\n",
       "      display: none;\n",
       "      fill: #1967D2;\n",
       "      height: 32px;\n",
       "      padding: 0 0 0 0;\n",
       "      width: 32px;\n",
       "    }\n",
       "\n",
       "    .colab-df-convert:hover {\n",
       "      background-color: #E2EBFA;\n",
       "      box-shadow: 0px 1px 2px rgba(60, 64, 67, 0.3), 0px 1px 3px 1px rgba(60, 64, 67, 0.15);\n",
       "      fill: #174EA6;\n",
       "    }\n",
       "\n",
       "    [theme=dark] .colab-df-convert {\n",
       "      background-color: #3B4455;\n",
       "      fill: #D2E3FC;\n",
       "    }\n",
       "\n",
       "    [theme=dark] .colab-df-convert:hover {\n",
       "      background-color: #434B5C;\n",
       "      box-shadow: 0px 1px 3px 1px rgba(0, 0, 0, 0.15);\n",
       "      filter: drop-shadow(0px 1px 2px rgba(0, 0, 0, 0.3));\n",
       "      fill: #FFFFFF;\n",
       "    }\n",
       "  </style>\n",
       "\n",
       "      <script>\n",
       "        const buttonEl =\n",
       "          document.querySelector('#df-204d977d-4809-4e85-99f3-8ebb1ab969da button.colab-df-convert');\n",
       "        buttonEl.style.display =\n",
       "          google.colab.kernel.accessAllowed ? 'block' : 'none';\n",
       "\n",
       "        async function convertToInteractive(key) {\n",
       "          const element = document.querySelector('#df-204d977d-4809-4e85-99f3-8ebb1ab969da');\n",
       "          const dataTable =\n",
       "            await google.colab.kernel.invokeFunction('convertToInteractive',\n",
       "                                                     [key], {});\n",
       "          if (!dataTable) return;\n",
       "\n",
       "          const docLinkHtml = 'Like what you see? Visit the ' +\n",
       "            '<a target=\"_blank\" href=https://colab.research.google.com/notebooks/data_table.ipynb>data table notebook</a>'\n",
       "            + ' to learn more about interactive tables.';\n",
       "          element.innerHTML = '';\n",
       "          dataTable['output_type'] = 'display_data';\n",
       "          await google.colab.output.renderOutput(dataTable, element);\n",
       "          const docLink = document.createElement('div');\n",
       "          docLink.innerHTML = docLinkHtml;\n",
       "          element.appendChild(docLink);\n",
       "        }\n",
       "      </script>\n",
       "    </div>\n",
       "  </div>\n",
       "  "
      ],
      "text/plain": [
       "                  Category   Count\n",
       "0                    Games  193223\n",
       "1                 Business  128202\n",
       "2                Education  119108\n",
       "3                Utilities   93933\n",
       "4                Lifestyle   84490\n",
       "5             Food & Drink   72813\n",
       "6         Health & Fitness   60675\n",
       "7             Productivity   59384\n",
       "8            Entertainment   53059\n",
       "9                 Shopping   49491\n",
       "10                 Finance   44955\n",
       "11                  Travel   43705\n",
       "12                  Sports   31438\n",
       "13                   Music   29883\n",
       "14                 Medical   27984\n",
       "15           Photo & Video   25940\n",
       "16       Social Networking   25395\n",
       "17                    News   20408\n",
       "18               Reference   18607\n",
       "19              Navigation   12630\n",
       "20                Stickers   12407\n",
       "21                    Book   11467\n",
       "22                 Weather    3559\n",
       "23       Graphics & Design    2778\n",
       "24         Developer Tools    1947\n",
       "25  Magazines & Newspapers    1295"
      ]
     },
     "execution_count": 42,
     "metadata": {},
     "output_type": "execute_result"
    }
   ],
   "source": [
    "top_Category"
   ]
  },
  {
   "cell_type": "code",
   "execution_count": 43,
   "metadata": {
    "executionInfo": {
     "elapsed": 20,
     "status": "ok",
     "timestamp": 1676621715852,
     "user": {
      "displayName": "Mahadeva Prashanth D M",
      "userId": "01792806173038978234"
     },
     "user_tz": -330
    },
    "id": "5eJjHMT2r_ge"
   },
   "outputs": [],
   "source": [
    "top_10_Categories_published = top_Category.head(10).sort_values(by = ['Count'],ascending = False)"
   ]
  },
  {
   "cell_type": "code",
   "execution_count": 44,
   "metadata": {
    "colab": {
     "base_uri": "https://localhost:8080/",
     "height": 633
    },
    "executionInfo": {
     "elapsed": 20,
     "status": "ok",
     "timestamp": 1676621715852,
     "user": {
      "displayName": "Mahadeva Prashanth D M",
      "userId": "01792806173038978234"
     },
     "user_tz": -330
    },
    "id": "9ajd6937sB7H",
    "outputId": "1e8d4c4e-f304-4327-ee3b-2b00dd8fa388"
   },
   "outputs": [
    {
     "name": "stderr",
     "output_type": "stream",
     "text": [
      "/usr/local/lib/python3.8/dist-packages/seaborn/_decorators.py:36: FutureWarning:\n",
      "\n",
      "Pass the following variables as keyword args: x, y. From version 0.12, the only valid positional argument will be `data`, and passing other arguments without an explicit keyword will result in an error or misinterpretation.\n",
      "\n"
     ]
    },
    {
     "data": {
      "text/plain": [
       "<matplotlib.axes._subplots.AxesSubplot at 0x7fdfc1f20ca0>"
      ]
     },
     "execution_count": 44,
     "metadata": {},
     "output_type": "execute_result"
    },
    {
     "data": {
      "image/png": "[encoded data removed]",
      "text/plain": [
       "<Figure size 1008x504 with 1 Axes>"
      ]
     },
     "metadata": {
      "needs_background": "light"
     },
     "output_type": "display_data"
    }
   ],
   "source": [
    "plt.figure(figsize=(14,7))\n",
    "plt.xticks(rotation=60)\n",
    "plt.xlabel(\"Category\")\n",
    "plt.ylabel(\"Number of applications\")\n",
    "plt.title(\"Top 10 Installed Categories\")\n",
    "sns.barplot(top_10_Categories_published.Category, top_10_Categories_published.Count)"
   ]
  },
  {
   "cell_type": "markdown",
   "metadata": {
    "id": "skbLMjVDsH-2"
   },
   "source": [
    "**Ans - Games,Business,Education,Utilities,Lifestyle,Food & Drink,Health & Fitness,Productivity,Entertainment and Shopping.**"
   ]
  },
  {
   "cell_type": "markdown",
   "metadata": {
    "id": "y062w0EIqmbW"
   },
   "source": [
    "**Observation**\n",
    "\n",
    "Nothing terribly surprising there, Games is the biggest category accounting for 16% of all of the apps within the App Store, reflecting not just the popularity of iOS Games, but the somewhat broad nature of this category."
   ]
  },
  {
   "cell_type": "markdown",
   "metadata": {
    "id": "DtjuYwkKsMjG"
   },
   "source": [
    "### Q2. What is the most common rating tendency of people amoung all Categories ?"
   ]
  },
  {
   "cell_type": "code",
   "execution_count": 45,
   "metadata": {
    "colab": {
     "base_uri": "https://localhost:8080/",
     "height": 481
    },
    "executionInfo": {
     "elapsed": 17,
     "status": "ok",
     "timestamp": 1676621715853,
     "user": {
      "displayName": "Mahadeva Prashanth D M",
      "userId": "01792806173038978234"
     },
     "user_tz": -330
    },
    "id": "Vj6yPfkEsD8O",
    "outputId": "8d368b9c-e806-4e95-910f-e335528b0b45"
   },
   "outputs": [
    {
     "data": {
      "text/plain": [
       "Text(0.5, 1.0, 'Distribution of Rating')"
      ]
     },
     "execution_count": 45,
     "metadata": {},
     "output_type": "execute_result"
    },
    {
     "data": {
      "image/png": "[encoded data removed]",
      "text/plain": [
       "<Figure size 1008x504 with 1 Axes>"
      ]
     },
     "metadata": {
      "needs_background": "light"
     },
     "output_type": "display_data"
    }
   ],
   "source": [
    "plt.figure(figsize=(14,7))\n",
    "g = sns.kdeplot(df.Content_Rating, color=\"Blue\", shade = True)\n",
    "g.set_xlabel(\"Rating\")\n",
    "g.set_ylabel(\"Frequency\")\n",
    "plt.title('Distribution of Rating',size = 20)"
   ]
  },
  {
   "cell_type": "markdown",
   "metadata": {
    "id": "_pESupN0sbaY"
   },
   "source": [
    "**Ans - From the above plot we can see that most people tend to give 4+ rating the most. It means apple app store provide most of good apps.**"
   ]
  },
  {
   "cell_type": "markdown",
   "metadata": {
    "id": "x8MLkQUlsgkN"
   },
   "source": [
    "### Q3. What is the higest rated Category ?"
   ]
  },
  {
   "cell_type": "code",
   "execution_count": 46,
   "metadata": {
    "colab": {
     "base_uri": "https://localhost:8080/",
     "height": 687
    },
    "executionInfo": {
     "elapsed": 12768,
     "status": "ok",
     "timestamp": 1676621728607,
     "user": {
      "displayName": "Mahadeva Prashanth D M",
      "userId": "01792806173038978234"
     },
     "user_tz": -330
    },
    "id": "uCu-Uc0psUQ5",
    "outputId": "ed3f2522-1f2b-4355-a9a8-015ac548aab7"
   },
   "outputs": [
    {
     "name": "stderr",
     "output_type": "stream",
     "text": [
      "/usr/local/lib/python3.8/dist-packages/seaborn/_decorators.py:36: FutureWarning:\n",
      "\n",
      "Pass the following variables as keyword args: x, y. From version 0.12, the only valid positional argument will be `data`, and passing other arguments without an explicit keyword will result in an error or misinterpretation.\n",
      "\n"
     ]
    },
    {
     "data": {
      "text/plain": [
       "<matplotlib.axes._subplots.AxesSubplot at 0x7fdfc2117a30>"
      ]
     },
     "execution_count": 46,
     "metadata": {},
     "output_type": "execute_result"
    },
    {
     "data": {
      "image/png": "[encoded data removed]",
      "text/plain": [
       "<Figure size 1008x504 with 1 Axes>"
      ]
     },
     "metadata": {
      "needs_background": "light"
     },
     "output_type": "display_data"
    }
   ],
   "source": [
    "plt.figure(figsize=(14,7))\n",
    "plt.xticks(rotation=90)\n",
    "plt.xlabel(\"Highest Rated Category\")\n",
    "plt.ylabel(\"Number of applications\")\n",
    "plt.title(\"All Categories Rating \")\n",
    "sns.barplot(df.Primary_Genre, df.Content_Rating)"
   ]
  },
  {
   "cell_type": "markdown",
   "metadata": {
    "id": "FpGSHBWUsmxU"
   },
   "source": [
    "**Ans - From the above plot we can see that Medical is the highest Rated category**"
   ]
  },
  {
   "cell_type": "markdown",
   "metadata": {
    "id": "QSg9gIdzqQHt"
   },
   "source": [
    "**Observation**\n",
    "\n",
    "The ratings distributions are quite different between the various categories, with apps in the Medical category having the best user ratings and Weather category having poor user ratings."
   ]
  },
  {
   "cell_type": "markdown",
   "metadata": {
    "id": "PMUags-Ls1Zd"
   },
   "source": [
    "### Q4. Which Category has the highest Paid and Free apps ?"
   ]
  },
  {
   "cell_type": "code",
   "execution_count": 47,
   "metadata": {
    "executionInfo": {
     "elapsed": 665,
     "status": "ok",
     "timestamp": 1676621729268,
     "user": {
      "displayName": "Mahadeva Prashanth D M",
      "userId": "01792806173038978234"
     },
     "user_tz": -330
    },
    "id": "JdIKYFBLsjEm"
   },
   "outputs": [],
   "source": [
    "app_count = df.groupby(['Primary_Genre','Type'])[['App_Name']].count().reset_index().rename(columns={'App_Name':'Count','index':'App Name'})\n",
    "df_app_count = app_count.pivot('Primary_Genre', 'Type', 'Count').fillna(0).reset_index()\n",
    "df_app_count.rename(columns = {'Free':'Free_count'}, inplace = True)\n",
    "df_app_count.rename(columns = {'Paid':'Paid_count'}, inplace = True)"
   ]
  },
  {
   "cell_type": "code",
   "execution_count": 48,
   "metadata": {
    "colab": {
     "base_uri": "https://localhost:8080/",
     "height": 674
    },
    "executionInfo": {
     "elapsed": 764,
     "status": "ok",
     "timestamp": 1676621730026,
     "user": {
      "displayName": "Mahadeva Prashanth D M",
      "userId": "01792806173038978234"
     },
     "user_tz": -330
    },
    "id": "FoHlL4XrpP7G",
    "outputId": "2690bdbb-d1be-425e-a3be-5e838bfb1977"
   },
   "outputs": [
    {
     "name": "stderr",
     "output_type": "stream",
     "text": [
      "/usr/local/lib/python3.8/dist-packages/seaborn/_decorators.py:36: FutureWarning:\n",
      "\n",
      "Pass the following variables as keyword args: x, y. From version 0.12, the only valid positional argument will be `data`, and passing other arguments without an explicit keyword will result in an error or misinterpretation.\n",
      "\n"
     ]
    },
    {
     "data": {
      "text/plain": [
       "<matplotlib.axes._subplots.AxesSubplot at 0x7fdfc22eabe0>"
      ]
     },
     "execution_count": 48,
     "metadata": {},
     "output_type": "execute_result"
    },
    {
     "data": {
      "image/png": "[encoded data removed]",
      "text/plain": [
       "<Figure size 1008x504 with 1 Axes>"
      ]
     },
     "metadata": {
      "needs_background": "light"
     },
     "output_type": "display_data"
    }
   ],
   "source": [
    "Free_category = df_app_count.sort_values(by = ['Free_count'],ascending = False)\n",
    "plt.figure(figsize=(14,7))\n",
    "plt.xticks(rotation=60)\n",
    "plt.xlabel(\"Category\")\n",
    "plt.ylabel(\"Count\")\n",
    "plt.title(\"Category of free apps\")\n",
    "sns.barplot(Free_category.Primary_Genre, Free_category.Free_count)"
   ]
  },
  {
   "cell_type": "code",
   "execution_count": 49,
   "metadata": {
    "colab": {
     "base_uri": "https://localhost:8080/",
     "height": 674
    },
    "executionInfo": {
     "elapsed": 1637,
     "status": "ok",
     "timestamp": 1676621731655,
     "user": {
      "displayName": "Mahadeva Prashanth D M",
      "userId": "01792806173038978234"
     },
     "user_tz": -330
    },
    "id": "De9pf5ZDqIH0",
    "outputId": "9099de7e-0b55-4d60-f5bf-6e13d5b2ebbb"
   },
   "outputs": [
    {
     "name": "stderr",
     "output_type": "stream",
     "text": [
      "/usr/local/lib/python3.8/dist-packages/seaborn/_decorators.py:36: FutureWarning:\n",
      "\n",
      "Pass the following variables as keyword args: x, y. From version 0.12, the only valid positional argument will be `data`, and passing other arguments without an explicit keyword will result in an error or misinterpretation.\n",
      "\n"
     ]
    },
    {
     "data": {
      "text/plain": [
       "<matplotlib.axes._subplots.AxesSubplot at 0x7fdfc286e580>"
      ]
     },
     "execution_count": 49,
     "metadata": {},
     "output_type": "execute_result"
    },
    {
     "data": {
      "image/png": "[encoded data removed]",
      "text/plain": [
       "<Figure size 1008x504 with 1 Axes>"
      ]
     },
     "metadata": {
      "needs_background": "light"
     },
     "output_type": "display_data"
    }
   ],
   "source": [
    "Paid_category = df_app_count.sort_values(by = ['Paid_count'],ascending = False)\n",
    "plt.figure(figsize=(14,7))\n",
    "plt.xticks(rotation=60)\n",
    "plt.xlabel(\"Category\")\n",
    "plt.ylabel(\"Count\")\n",
    "plt.title(\"Category of paid apps\")\n",
    "sns.barplot(Paid_category.Primary_Genre, Paid_category.Paid_count)"
   ]
  },
  {
   "cell_type": "markdown",
   "metadata": {
    "id": "dgswGAcVs9QQ"
   },
   "source": [
    "**Ans - Education Category is the highest in paid apps list and Games Category is the highest in free apps list.**"
   ]
  },
  {
   "cell_type": "markdown",
   "metadata": {
    "id": "-di0w-r1Rz3K"
   },
   "source": [
    "**Observation**\n",
    "\n",
    " As we can see from above bar plots, there are three things that worth noting. One is that the number of free games is surprisingly higher than the number of paid games. Another one is that almost all Social & Networking apps are free. The third one is that if we take a closer look at the tail of the paid apps, we see that all the shopping and catalog apps are free as well."
   ]
  },
  {
   "cell_type": "markdown",
   "metadata": {
    "id": "AwFftWrlGsqz"
   },
   "source": [
    "### Q5. which price has height number of the paid apps in appstore  ?"
   ]
  },
  {
   "cell_type": "code",
   "execution_count": 50,
   "metadata": {
    "colab": {
     "base_uri": "https://localhost:8080/",
     "height": 677
    },
    "executionInfo": {
     "elapsed": 11,
     "status": "ok",
     "timestamp": 1676621731655,
     "user": {
      "displayName": "Mahadeva Prashanth D M",
      "userId": "01792806173038978234"
     },
     "user_tz": -330
    },
    "id": "m24g9fBvFjci",
    "outputId": "91686d6e-2de2-45f9-a373-90bf4fb4f2cb"
   },
   "outputs": [
    {
     "data": {
      "text/html": [
       "\n",
       "  <div id=\"df-c0cab595-6827-424a-b9ac-006b3e431560\">\n",
       "    <div class=\"colab-df-container\">\n",
       "      <div>\n",
       "<style scoped>\n",
       "    .dataframe tbody tr th:only-of-type {\n",
       "        vertical-align: middle;\n",
       "    }\n",
       "\n",
       "    .dataframe tbody tr th {\n",
       "        vertical-align: top;\n",
       "    }\n",
       "\n",
       "    .dataframe thead th {\n",
       "        text-align: right;\n",
       "    }\n",
       "</style>\n",
       "<table border=\"1\" class=\"dataframe\">\n",
       "  <thead>\n",
       "    <tr style=\"text-align: right;\">\n",
       "      <th></th>\n",
       "      <th>Price</th>\n",
       "      <th>Number</th>\n",
       "    </tr>\n",
       "  </thead>\n",
       "  <tbody>\n",
       "    <tr>\n",
       "      <th>87</th>\n",
       "      <td>999.99</td>\n",
       "      <td>13</td>\n",
       "    </tr>\n",
       "    <tr>\n",
       "      <th>86</th>\n",
       "      <td>899.99</td>\n",
       "      <td>4</td>\n",
       "    </tr>\n",
       "    <tr>\n",
       "      <th>85</th>\n",
       "      <td>799.99</td>\n",
       "      <td>3</td>\n",
       "    </tr>\n",
       "    <tr>\n",
       "      <th>84</th>\n",
       "      <td>699.99</td>\n",
       "      <td>13</td>\n",
       "    </tr>\n",
       "    <tr>\n",
       "      <th>83</th>\n",
       "      <td>599.99</td>\n",
       "      <td>3</td>\n",
       "    </tr>\n",
       "    <tr>\n",
       "      <th>82</th>\n",
       "      <td>499.99</td>\n",
       "      <td>8</td>\n",
       "    </tr>\n",
       "    <tr>\n",
       "      <th>81</th>\n",
       "      <td>449.99</td>\n",
       "      <td>6</td>\n",
       "    </tr>\n",
       "    <tr>\n",
       "      <th>80</th>\n",
       "      <td>399.99</td>\n",
       "      <td>19</td>\n",
       "    </tr>\n",
       "    <tr>\n",
       "      <th>79</th>\n",
       "      <td>349.99</td>\n",
       "      <td>22</td>\n",
       "    </tr>\n",
       "    <tr>\n",
       "      <th>78</th>\n",
       "      <td>299.99</td>\n",
       "      <td>42</td>\n",
       "    </tr>\n",
       "    <tr>\n",
       "      <th>77</th>\n",
       "      <td>249.99</td>\n",
       "      <td>21</td>\n",
       "    </tr>\n",
       "    <tr>\n",
       "      <th>76</th>\n",
       "      <td>239.99</td>\n",
       "      <td>3</td>\n",
       "    </tr>\n",
       "    <tr>\n",
       "      <th>75</th>\n",
       "      <td>229.99</td>\n",
       "      <td>6</td>\n",
       "    </tr>\n",
       "    <tr>\n",
       "      <th>74</th>\n",
       "      <td>219.99</td>\n",
       "      <td>9</td>\n",
       "    </tr>\n",
       "    <tr>\n",
       "      <th>73</th>\n",
       "      <td>209.99</td>\n",
       "      <td>5</td>\n",
       "    </tr>\n",
       "    <tr>\n",
       "      <th>72</th>\n",
       "      <td>199.99</td>\n",
       "      <td>67</td>\n",
       "    </tr>\n",
       "    <tr>\n",
       "      <th>71</th>\n",
       "      <td>189.99</td>\n",
       "      <td>2</td>\n",
       "    </tr>\n",
       "    <tr>\n",
       "      <th>70</th>\n",
       "      <td>179.99</td>\n",
       "      <td>10</td>\n",
       "    </tr>\n",
       "    <tr>\n",
       "      <th>69</th>\n",
       "      <td>174.99</td>\n",
       "      <td>10</td>\n",
       "    </tr>\n",
       "    <tr>\n",
       "      <th>68</th>\n",
       "      <td>169.99</td>\n",
       "      <td>12</td>\n",
       "    </tr>\n",
       "  </tbody>\n",
       "</table>\n",
       "</div>\n",
       "      <button class=\"colab-df-convert\" onclick=\"convertToInteractive('df-c0cab595-6827-424a-b9ac-006b3e431560')\"\n",
       "              title=\"Convert this dataframe to an interactive table.\"\n",
       "              style=\"display:none;\">\n",
       "        \n",
       "  <svg xmlns=\"http://www.w3.org/2000/svg\" height=\"24px\"viewBox=\"0 0 24 24\"\n",
       "       width=\"24px\">\n",
       "    <path d=\"M0 0h24v24H0V0z\" fill=\"none\"/>\n",
       "    <path d=\"M18.56 5.44l.94 2.06.94-2.06 2.06-.94-2.06-.94-.94-2.06-.94 2.06-2.06.94zm-11 1L8.5 8.5l.94-2.06 2.06-.94-2.06-.94L8.5 2.5l-.94 2.06-2.06.94zm10 10l.94 2.06.94-2.06 2.06-.94-2.06-.94-.94-2.06-.94 2.06-2.06.94z\"/><path d=\"M17.41 7.96l-1.37-1.37c-.4-.4-.92-.59-1.43-.59-.52 0-1.04.2-1.43.59L10.3 9.45l-7.72 7.72c-.78.78-.78 2.05 0 2.83L4 21.41c.39.39.9.59 1.41.59.51 0 1.02-.2 1.41-.59l7.78-7.78 2.81-2.81c.8-.78.8-2.07 0-2.86zM5.41 20L4 18.59l7.72-7.72 1.47 1.35L5.41 20z\"/>\n",
       "  </svg>\n",
       "      </button>\n",
       "      \n",
       "  <style>\n",
       "    .colab-df-container {\n",
       "      display:flex;\n",
       "      flex-wrap:wrap;\n",
       "      gap: 12px;\n",
       "    }\n",
       "\n",
       "    .colab-df-convert {\n",
       "      background-color: #E8F0FE;\n",
       "      border: none;\n",
       "      border-radius: 50%;\n",
       "      cursor: pointer;\n",
       "      display: none;\n",
       "      fill: #1967D2;\n",
       "      height: 32px;\n",
       "      padding: 0 0 0 0;\n",
       "      width: 32px;\n",
       "    }\n",
       "\n",
       "    .colab-df-convert:hover {\n",
       "      background-color: #E2EBFA;\n",
       "      box-shadow: 0px 1px 2px rgba(60, 64, 67, 0.3), 0px 1px 3px 1px rgba(60, 64, 67, 0.15);\n",
       "      fill: #174EA6;\n",
       "    }\n",
       "\n",
       "    [theme=dark] .colab-df-convert {\n",
       "      background-color: #3B4455;\n",
       "      fill: #D2E3FC;\n",
       "    }\n",
       "\n",
       "    [theme=dark] .colab-df-convert:hover {\n",
       "      background-color: #434B5C;\n",
       "      box-shadow: 0px 1px 3px 1px rgba(0, 0, 0, 0.15);\n",
       "      filter: drop-shadow(0px 1px 2px rgba(0, 0, 0, 0.3));\n",
       "      fill: #FFFFFF;\n",
       "    }\n",
       "  </style>\n",
       "\n",
       "      <script>\n",
       "        const buttonEl =\n",
       "          document.querySelector('#df-c0cab595-6827-424a-b9ac-006b3e431560 button.colab-df-convert');\n",
       "        buttonEl.style.display =\n",
       "          google.colab.kernel.accessAllowed ? 'block' : 'none';\n",
       "\n",
       "        async function convertToInteractive(key) {\n",
       "          const element = document.querySelector('#df-c0cab595-6827-424a-b9ac-006b3e431560');\n",
       "          const dataTable =\n",
       "            await google.colab.kernel.invokeFunction('convertToInteractive',\n",
       "                                                     [key], {});\n",
       "          if (!dataTable) return;\n",
       "\n",
       "          const docLinkHtml = 'Like what you see? Visit the ' +\n",
       "            '<a target=\"_blank\" href=https://colab.research.google.com/notebooks/data_table.ipynb>data table notebook</a>'\n",
       "            + ' to learn more about interactive tables.';\n",
       "          element.innerHTML = '';\n",
       "          dataTable['output_type'] = 'display_data';\n",
       "          await google.colab.output.renderOutput(dataTable, element);\n",
       "          const docLink = document.createElement('div');\n",
       "          docLink.innerHTML = docLinkHtml;\n",
       "          element.appendChild(docLink);\n",
       "        }\n",
       "      </script>\n",
       "    </div>\n",
       "  </div>\n",
       "  "
      ],
      "text/plain": [
       "     Price  Number\n",
       "87  999.99      13\n",
       "86  899.99       4\n",
       "85  799.99       3\n",
       "84  699.99      13\n",
       "83  599.99       3\n",
       "82  499.99       8\n",
       "81  449.99       6\n",
       "80  399.99      19\n",
       "79  349.99      22\n",
       "78  299.99      42\n",
       "77  249.99      21\n",
       "76  239.99       3\n",
       "75  229.99       6\n",
       "74  219.99       9\n",
       "73  209.99       5\n",
       "72  199.99      67\n",
       "71  189.99       2\n",
       "70  179.99      10\n",
       "69  174.99      10\n",
       "68  169.99      12"
      ]
     },
     "execution_count": 50,
     "metadata": {},
     "output_type": "execute_result"
    }
   ],
   "source": [
    "Sumofprice= df.groupby(['Price'])[['App_Name']].count().reset_index().sort_values('Price',ascending=False)\n",
    "Sumofprice.columns = ['Price','Number']\n",
    "top_Prices = Sumofprice.head(20)\n",
    "top_Prices"
   ]
  },
  {
   "cell_type": "code",
   "execution_count": 51,
   "metadata": {
    "colab": {
     "base_uri": "https://localhost:8080/",
     "height": 408
    },
    "executionInfo": {
     "elapsed": 11,
     "status": "ok",
     "timestamp": 1676621731656,
     "user": {
      "displayName": "Mahadeva Prashanth D M",
      "userId": "01792806173038978234"
     },
     "user_tz": -330
    },
    "id": "IoEzjppuFw_s",
    "outputId": "589cf811-82a9-43cd-e6f6-64e8e236c61a"
   },
   "outputs": [
    {
     "data": {
      "text/plain": [
       "<matplotlib.axes._subplots.AxesSubplot at 0x7fdfc21509d0>"
      ]
     },
     "execution_count": 51,
     "metadata": {},
     "output_type": "execute_result"
    },
    {
     "data": {
      "image/png": "[encoded data removed]",
      "text/plain": [
       "<Figure size 1440x432 with 1 Axes>"
      ]
     },
     "metadata": {
      "needs_background": "light"
     },
     "output_type": "display_data"
    }
   ],
   "source": [
    "top_Prices['Price'].plot.hist( x='Price', title='Number Of Paid Apps Present In Particular Price')"
   ]
  },
  {
   "cell_type": "markdown",
   "metadata": {
    "id": "opcnUMJ6IPE6"
   },
   "source": [
    "**Observation**\n",
    "From above graph we observed that most of the app in appstore lies between 150 to 250 USD.This tends to say apple appstore has offordable paid apps."
   ]
  },
  {
   "cell_type": "markdown",
   "metadata": {
    "id": "XfFwiit2s_-O"
   },
   "source": [
    "### Q6. What is the impact on users due to size of the app?"
   ]
  },
  {
   "cell_type": "code",
   "execution_count": 52,
   "metadata": {
    "executionInfo": {
     "elapsed": 774,
     "status": "ok",
     "timestamp": 1676621732422,
     "user": {
      "displayName": "Mahadeva Prashanth D M",
      "userId": "01792806173038978234"
     },
     "user_tz": -330
    },
    "id": "GRPpYvYXs6VM"
   },
   "outputs": [],
   "source": [
    "#### DIVIDING into Large / Medium / Small dfs\n",
    "\n",
    "large= df[(df.Size_MB>=500)].groupby(['Primary_Genre'])['Reviews'].sum().reset_index()\n",
    "medium= df[(df.Size_MB>=200)&(df.Size_MB<=500)].groupby(['Primary_Genre'])['Reviews'].sum().reset_index()\n",
    "small= df[(df.Size_MB<=200)].groupby(['Primary_Genre'])['Reviews'].sum().reset_index()\n",
    "\n",
    "#### MERGING Large / Medium / Small dfs into one\n",
    "\n",
    "l_and_m= pd.merge(large, medium, how='inner', on='Primary_Genre')\n",
    "users_impact_df= pd.merge(l_and_m, small, how='inner', on='Primary_Genre')\n",
    "users_impact_df.columns=['Genre','Large','Medium','Small']\n",
    "\n",
    "#### ADDING columns Percetage of Large / Medium / Small app users\n",
    "\n",
    "users_impact_df['Total_users'] = users_impact_df['Medium']+users_impact_df['Small']+users_impact_df['Large']\n",
    "users_impact_df['large_percentage']= round((users_impact_df['Large']/users_impact_df['Total_users'])*100,2)\n",
    "users_impact_df['medium_percentage']= round((users_impact_df['Medium']/users_impact_df['Total_users'])*100,2)                                      \n",
    "users_impact_df['small_percentage']= round((users_impact_df['Small']/users_impact_df['Total_users'])*100,2)\n",
    "\n",
    "### App Count categorically \n",
    "\n",
    "la= df[(df.Size_MB>=500)].groupby(['Primary_Genre'])['App_Name'].count().reset_index()\n",
    "ma= df[(df.Size_MB>=200)&(df.Size_MB<=500)].groupby(['Primary_Genre'])['App_Name'].count().reset_index()\n",
    "sa= df[(df.Size_MB<=200)].groupby(['Primary_Genre'])['App_Name'].count().reset_index()\n",
    "\n",
    "la_and_ma= pd.merge(la, ma, how='inner', on='Primary_Genre')\n",
    "app_df= pd.merge(la_and_ma, sa, how='inner', on='Primary_Genre')\n",
    "app_df.columns=['Category','Large','Medium','Small']"
   ]
  },
  {
   "cell_type": "code",
   "execution_count": 53,
   "metadata": {
    "colab": {
     "base_uri": "https://localhost:8080/",
     "height": 317
    },
    "executionInfo": {
     "elapsed": 8,
     "status": "ok",
     "timestamp": 1676621732422,
     "user": {
      "displayName": "Mahadeva Prashanth D M",
      "userId": "01792806173038978234"
     },
     "user_tz": -330
    },
    "id": "qJkcDLmFsnHX",
    "outputId": "56a7feef-1fe0-4a0f-943b-c6c2106b9116"
   },
   "outputs": [
    {
     "data": {
      "text/html": [
       "<html>\n",
       "<head><meta charset=\"utf-8\" /></head>\n",
       "<body>\n",
       "    <div>            <script src=\"https://cdnjs.cloudflare.com/ajax/libs/mathjax/2.7.5/MathJax.js?config=TeX-AMS-MML_SVG\"></script><script type=\"text/javascript\">if (window.MathJax) {MathJax.Hub.Config({SVG: {font: \"STIX-Web\"}});}</script>                <script type=\"text/javascript\">window.PlotlyConfig = {MathJaxConfig: 'local'};</script>\n",
       "        <script src=\"https://cdn.plot.ly/plotly-2.8.3.min.js\"></script>                <div id=\"d006403c-bbb4-4879-98a7-a304df6d39fd\" class=\"plotly-graph-div\" style=\"height:300px; width:700px;\"></div>            <script type=\"text/javascript\">                                    window.PLOTLYENV=window.PLOTLYENV || {};                                    if (document.getElementById(\"d006403c-bbb4-4879-98a7-a304df6d39fd\")) {                    Plotly.newPlot(                        \"d006403c-bbb4-4879-98a7-a304df6d39fd\",                        [{\"cells\":{\"align\":\"left\",\"values\":[[\"Book\",\"Business\",\"Developer Tools\",\"Education\",\"Entertainment\",\"Finance\",\"Food & Drink\",\"Games\",\"Graphics & Design\",\"Health & Fitness\",\"Lifestyle\",\"Medical\",\"Music\",\"Navigation\",\"News\",\"Photo & Video\",\"Productivity\",\"Reference\",\"Shopping\",\"Social Networking\",\"Sports\",\"Travel\",\"Utilities\",\"Weather\"],[376,501,35,2479,766,70,31,7016,167,258,284,264,850,78,7,223,163,323,85,33,100,217,186,11],[654,3689,39,7268,2898,850,538,28538,234,1847,1659,740,1196,291,86,1027,960,726,543,588,822,2290,1395,73],[10437,124012,1873,109361,49396,44035,72244,157674,2377,58570,82547,26980,27837,12261,20315,24690,58262,17558,48863,24774,30516,41198,92352,3475]]},\"header\":{\"align\":\"left\",\"font\":{\"size\":10},\"values\":[\"Category\",\"Large\",\"Medium\",\"Small\"]},\"type\":\"table\"}],                        {\"template\":{\"data\":{\"bar\":[{\"error_x\":{\"color\":\"#2a3f5f\"},\"error_y\":{\"color\":\"#2a3f5f\"},\"marker\":{\"line\":{\"color\":\"#E5ECF6\",\"width\":0.5},\"pattern\":{\"fillmode\":\"overlay\",\"size\":10,\"solidity\":0.2}},\"type\":\"bar\"}],\"barpolar\":[{\"marker\":{\"line\":{\"color\":\"#E5ECF6\",\"width\":0.5},\"pattern\":{\"fillmode\":\"overlay\",\"size\":10,\"solidity\":0.2}},\"type\":\"barpolar\"}],\"carpet\":[{\"aaxis\":{\"endlinecolor\":\"#2a3f5f\",\"gridcolor\":\"white\",\"linecolor\":\"white\",\"minorgridcolor\":\"white\",\"startlinecolor\":\"#2a3f5f\"},\"baxis\":{\"endlinecolor\":\"#2a3f5f\",\"gridcolor\":\"white\",\"linecolor\":\"white\",\"minorgridcolor\":\"white\",\"startlinecolor\":\"#2a3f5f\"},\"type\":\"carpet\"}],\"choropleth\":[{\"colorbar\":{\"outlinewidth\":0,\"ticks\":\"\"},\"type\":\"choropleth\"}],\"contour\":[{\"colorbar\":{\"outlinewidth\":0,\"ticks\":\"\"},\"colorscale\":[[0.0,\"#0d0887\"],[0.1111111111111111,\"#46039f\"],[0.2222222222222222,\"#7201a8\"],[0.3333333333333333,\"#9c179e\"],[0.4444444444444444,\"#bd3786\"],[0.5555555555555556,\"#d8576b\"],[0.6666666666666666,\"#ed7953\"],[0.7777777777777778,\"#fb9f3a\"],[0.8888888888888888,\"#fdca26\"],[1.0,\"#f0f921\"]],\"type\":\"contour\"}],\"contourcarpet\":[{\"colorbar\":{\"outlinewidth\":0,\"ticks\":\"\"},\"type\":\"contourcarpet\"}],\"heatmap\":[{\"colorbar\":{\"outlinewidth\":0,\"ticks\":\"\"},\"colorscale\":[[0.0,\"#0d0887\"],[0.1111111111111111,\"#46039f\"],[0.2222222222222222,\"#7201a8\"],[0.3333333333333333,\"#9c179e\"],[0.4444444444444444,\"#bd3786\"],[0.5555555555555556,\"#d8576b\"],[0.6666666666666666,\"#ed7953\"],[0.7777777777777778,\"#fb9f3a\"],[0.8888888888888888,\"#fdca26\"],[1.0,\"#f0f921\"]],\"type\":\"heatmap\"}],\"heatmapgl\":[{\"colorbar\":{\"outlinewidth\":0,\"ticks\":\"\"},\"colorscale\":[[0.0,\"#0d0887\"],[0.1111111111111111,\"#46039f\"],[0.2222222222222222,\"#7201a8\"],[0.3333333333333333,\"#9c179e\"],[0.4444444444444444,\"#bd3786\"],[0.5555555555555556,\"#d8576b\"],[0.6666666666666666,\"#ed7953\"],[0.7777777777777778,\"#fb9f3a\"],[0.8888888888888888,\"#fdca26\"],[1.0,\"#f0f921\"]],\"type\":\"heatmapgl\"}],\"histogram\":[{\"marker\":{\"pattern\":{\"fillmode\":\"overlay\",\"size\":10,\"solidity\":0.2}},\"type\":\"histogram\"}],\"histogram2d\":[{\"colorbar\":{\"outlinewidth\":0,\"ticks\":\"\"},\"colorscale\":[[0.0,\"#0d0887\"],[0.1111111111111111,\"#46039f\"],[0.2222222222222222,\"#7201a8\"],[0.3333333333333333,\"#9c179e\"],[0.4444444444444444,\"#bd3786\"],[0.5555555555555556,\"#d8576b\"],[0.6666666666666666,\"#ed7953\"],[0.7777777777777778,\"#fb9f3a\"],[0.8888888888888888,\"#fdca26\"],[1.0,\"#f0f921\"]],\"type\":\"histogram2d\"}],\"histogram2dcontour\":[{\"colorbar\":{\"outlinewidth\":0,\"ticks\":\"\"},\"colorscale\":[[0.0,\"#0d0887\"],[0.1111111111111111,\"#46039f\"],[0.2222222222222222,\"#7201a8\"],[0.3333333333333333,\"#9c179e\"],[0.4444444444444444,\"#bd3786\"],[0.5555555555555556,\"#d8576b\"],[0.6666666666666666,\"#ed7953\"],[0.7777777777777778,\"#fb9f3a\"],[0.8888888888888888,\"#fdca26\"],[1.0,\"#f0f921\"]],\"type\":\"histogram2dcontour\"}],\"mesh3d\":[{\"colorbar\":{\"outlinewidth\":0,\"ticks\":\"\"},\"type\":\"mesh3d\"}],\"parcoords\":[{\"line\":{\"colorbar\":{\"outlinewidth\":0,\"ticks\":\"\"}},\"type\":\"parcoords\"}],\"pie\":[{\"automargin\":true,\"type\":\"pie\"}],\"scatter\":[{\"marker\":{\"colorbar\":{\"outlinewidth\":0,\"ticks\":\"\"}},\"type\":\"scatter\"}],\"scatter3d\":[{\"line\":{\"colorbar\":{\"outlinewidth\":0,\"ticks\":\"\"}},\"marker\":{\"colorbar\":{\"outlinewidth\":0,\"ticks\":\"\"}},\"type\":\"scatter3d\"}],\"scattercarpet\":[{\"marker\":{\"colorbar\":{\"outlinewidth\":0,\"ticks\":\"\"}},\"type\":\"scattercarpet\"}],\"scattergeo\":[{\"marker\":{\"colorbar\":{\"outlinewidth\":0,\"ticks\":\"\"}},\"type\":\"scattergeo\"}],\"scattergl\":[{\"marker\":{\"colorbar\":{\"outlinewidth\":0,\"ticks\":\"\"}},\"type\":\"scattergl\"}],\"scattermapbox\":[{\"marker\":{\"colorbar\":{\"outlinewidth\":0,\"ticks\":\"\"}},\"type\":\"scattermapbox\"}],\"scatterpolar\":[{\"marker\":{\"colorbar\":{\"outlinewidth\":0,\"ticks\":\"\"}},\"type\":\"scatterpolar\"}],\"scatterpolargl\":[{\"marker\":{\"colorbar\":{\"outlinewidth\":0,\"ticks\":\"\"}},\"type\":\"scatterpolargl\"}],\"scatterternary\":[{\"marker\":{\"colorbar\":{\"outlinewidth\":0,\"ticks\":\"\"}},\"type\":\"scatterternary\"}],\"surface\":[{\"colorbar\":{\"outlinewidth\":0,\"ticks\":\"\"},\"colorscale\":[[0.0,\"#0d0887\"],[0.1111111111111111,\"#46039f\"],[0.2222222222222222,\"#7201a8\"],[0.3333333333333333,\"#9c179e\"],[0.4444444444444444,\"#bd3786\"],[0.5555555555555556,\"#d8576b\"],[0.6666666666666666,\"#ed7953\"],[0.7777777777777778,\"#fb9f3a\"],[0.8888888888888888,\"#fdca26\"],[1.0,\"#f0f921\"]],\"type\":\"surface\"}],\"table\":[{\"cells\":{\"fill\":{\"color\":\"#EBF0F8\"},\"line\":{\"color\":\"white\"}},\"header\":{\"fill\":{\"color\":\"#C8D4E3\"},\"line\":{\"color\":\"white\"}},\"type\":\"table\"}]},\"layout\":{\"annotationdefaults\":{\"arrowcolor\":\"#2a3f5f\",\"arrowhead\":0,\"arrowwidth\":1},\"autotypenumbers\":\"strict\",\"coloraxis\":{\"colorbar\":{\"outlinewidth\":0,\"ticks\":\"\"}},\"colorscale\":{\"diverging\":[[0,\"#8e0152\"],[0.1,\"#c51b7d\"],[0.2,\"#de77ae\"],[0.3,\"#f1b6da\"],[0.4,\"#fde0ef\"],[0.5,\"#f7f7f7\"],[0.6,\"#e6f5d0\"],[0.7,\"#b8e186\"],[0.8,\"#7fbc41\"],[0.9,\"#4d9221\"],[1,\"#276419\"]],\"sequential\":[[0.0,\"#0d0887\"],[0.1111111111111111,\"#46039f\"],[0.2222222222222222,\"#7201a8\"],[0.3333333333333333,\"#9c179e\"],[0.4444444444444444,\"#bd3786\"],[0.5555555555555556,\"#d8576b\"],[0.6666666666666666,\"#ed7953\"],[0.7777777777777778,\"#fb9f3a\"],[0.8888888888888888,\"#fdca26\"],[1.0,\"#f0f921\"]],\"sequentialminus\":[[0.0,\"#0d0887\"],[0.1111111111111111,\"#46039f\"],[0.2222222222222222,\"#7201a8\"],[0.3333333333333333,\"#9c179e\"],[0.4444444444444444,\"#bd3786\"],[0.5555555555555556,\"#d8576b\"],[0.6666666666666666,\"#ed7953\"],[0.7777777777777778,\"#fb9f3a\"],[0.8888888888888888,\"#fdca26\"],[1.0,\"#f0f921\"]]},\"colorway\":[\"#636efa\",\"#EF553B\",\"#00cc96\",\"#ab63fa\",\"#FFA15A\",\"#19d3f3\",\"#FF6692\",\"#B6E880\",\"#FF97FF\",\"#FECB52\"],\"font\":{\"color\":\"#2a3f5f\"},\"geo\":{\"bgcolor\":\"white\",\"lakecolor\":\"white\",\"landcolor\":\"#E5ECF6\",\"showlakes\":true,\"showland\":true,\"subunitcolor\":\"white\"},\"hoverlabel\":{\"align\":\"left\"},\"hovermode\":\"closest\",\"mapbox\":{\"style\":\"light\"},\"paper_bgcolor\":\"white\",\"plot_bgcolor\":\"#E5ECF6\",\"polar\":{\"angularaxis\":{\"gridcolor\":\"white\",\"linecolor\":\"white\",\"ticks\":\"\"},\"bgcolor\":\"#E5ECF6\",\"radialaxis\":{\"gridcolor\":\"white\",\"linecolor\":\"white\",\"ticks\":\"\"}},\"scene\":{\"xaxis\":{\"backgroundcolor\":\"#E5ECF6\",\"gridcolor\":\"white\",\"gridwidth\":2,\"linecolor\":\"white\",\"showbackground\":true,\"ticks\":\"\",\"zerolinecolor\":\"white\"},\"yaxis\":{\"backgroundcolor\":\"#E5ECF6\",\"gridcolor\":\"white\",\"gridwidth\":2,\"linecolor\":\"white\",\"showbackground\":true,\"ticks\":\"\",\"zerolinecolor\":\"white\"},\"zaxis\":{\"backgroundcolor\":\"#E5ECF6\",\"gridcolor\":\"white\",\"gridwidth\":2,\"linecolor\":\"white\",\"showbackground\":true,\"ticks\":\"\",\"zerolinecolor\":\"white\"}},\"shapedefaults\":{\"line\":{\"color\":\"#2a3f5f\"}},\"ternary\":{\"aaxis\":{\"gridcolor\":\"white\",\"linecolor\":\"white\",\"ticks\":\"\"},\"baxis\":{\"gridcolor\":\"white\",\"linecolor\":\"white\",\"ticks\":\"\"},\"bgcolor\":\"#E5ECF6\",\"caxis\":{\"gridcolor\":\"white\",\"linecolor\":\"white\",\"ticks\":\"\"}},\"title\":{\"x\":0.05},\"xaxis\":{\"automargin\":true,\"gridcolor\":\"white\",\"linecolor\":\"white\",\"ticks\":\"\",\"title\":{\"standoff\":15},\"zerolinecolor\":\"white\",\"zerolinewidth\":2},\"yaxis\":{\"automargin\":true,\"gridcolor\":\"white\",\"linecolor\":\"white\",\"ticks\":\"\",\"title\":{\"standoff\":15},\"zerolinecolor\":\"white\",\"zerolinewidth\":2}}},\"title\":{\"text\":\"Genre App Count \",\"x\":0.45},\"width\":700,\"height\":300},                        {\"responsive\": true}                    ).then(function(){\n",
       "                            \n",
       "var gd = document.getElementById('d006403c-bbb4-4879-98a7-a304df6d39fd');\n",
       "var x = new MutationObserver(function (mutations, observer) {{\n",
       "        var display = window.getComputedStyle(gd).display;\n",
       "        if (!display || display === 'none') {{\n",
       "            console.log([gd, 'removed!']);\n",
       "            Plotly.purge(gd);\n",
       "            observer.disconnect();\n",
       "        }}\n",
       "}});\n",
       "\n",
       "// Listen for the removal of the full notebook cells\n",
       "var notebookContainer = gd.closest('#notebook-container');\n",
       "if (notebookContainer) {{\n",
       "    x.observe(notebookContainer, {childList: true});\n",
       "}}\n",
       "\n",
       "// Listen for the clearing of the current output cell\n",
       "var outputEl = gd.closest('.output');\n",
       "if (outputEl) {{\n",
       "    x.observe(outputEl, {childList: true});\n",
       "}}\n",
       "\n",
       "                        })                };                            </script>        </div>\n",
       "</body>\n",
       "</html>"
      ]
     },
     "metadata": {},
     "output_type": "display_data"
    }
   ],
   "source": [
    "trace = go.Table(\n",
    "        header=dict(\n",
    "            values=['Category','Large','Medium','Small'],\n",
    "            #fill_color='mediumspringgreen',\n",
    "            font=dict(size=10),\n",
    "            align=\"left\"\n",
    "        ),\n",
    "        cells=dict(\n",
    "            values=[app_df[k].tolist() for k in app_df.columns],\n",
    "            #fill_color='blanchedalmond',\n",
    "            align = \"left\")\n",
    "    )\n",
    "fig = go.Figure(data = [trace])\n",
    "fig.update_layout(title='Genre App Count ', width=700, height=300, title_x=0.45)\n",
    "fig.show() "
   ]
  },
  {
   "cell_type": "code",
   "execution_count": 54,
   "metadata": {
    "colab": {
     "base_uri": "https://localhost:8080/",
     "height": 542
    },
    "executionInfo": {
     "elapsed": 8,
     "status": "ok",
     "timestamp": 1676621732423,
     "user": {
      "displayName": "Mahadeva Prashanth D M",
      "userId": "01792806173038978234"
     },
     "user_tz": -330
    },
    "id": "k6DlXtiSySAl",
    "outputId": "a803216f-ebe7-4ea1-ab86-0bf5083a5862"
   },
   "outputs": [
    {
     "data": {
      "text/html": [
       "<html>\n",
       "<head><meta charset=\"utf-8\" /></head>\n",
       "<body>\n",
       "    <div>            <script src=\"https://cdnjs.cloudflare.com/ajax/libs/mathjax/2.7.5/MathJax.js?config=TeX-AMS-MML_SVG\"></script><script type=\"text/javascript\">if (window.MathJax) {MathJax.Hub.Config({SVG: {font: \"STIX-Web\"}});}</script>                <script type=\"text/javascript\">window.PlotlyConfig = {MathJaxConfig: 'local'};</script>\n",
       "        <script src=\"https://cdn.plot.ly/plotly-2.8.3.min.js\"></script>                <div id=\"1acaa20f-55d5-4f9f-a282-8daef54653c7\" class=\"plotly-graph-div\" style=\"height:525px; width:700px;\"></div>            <script type=\"text/javascript\">                                    window.PLOTLYENV=window.PLOTLYENV || {};                                    if (document.getElementById(\"1acaa20f-55d5-4f9f-a282-8daef54653c7\")) {                    Plotly.newPlot(                        \"1acaa20f-55d5-4f9f-a282-8daef54653c7\",                        [{\"marker\":{\"color\":\"rgba(102, 216, 137, 0.8)\"},\"name\":\"Large Apps (500 MB+)\",\"x\":[\"Book\",\"Business\",\"Developer Tools\",\"Education\",\"Entertainment\",\"Finance\",\"Food & Drink\",\"Games\",\"Graphics & Design\",\"Health & Fitness\",\"Lifestyle\",\"Medical\",\"Music\",\"Navigation\",\"News\",\"Photo & Video\",\"Productivity\",\"Reference\",\"Shopping\",\"Social Networking\",\"Sports\",\"Travel\",\"Utilities\",\"Weather\"],\"y\":[0.08,0.49,0.05,5.08,2.02,4.58,0.17,14.23,2.32,0.44,1.03,1.13,0.42,0.08,0.0,0.13,0.08,2.46,0.0,0.1,0.1,0.2,0.06,7.1],\"type\":\"bar\"},{\"marker\":{\"color\":\"rgba(224, 148, 215, 0.8)\"},\"name\":\"Medium Apps (200 - 500 MB)\",\"x\":[\"Book\",\"Business\",\"Developer Tools\",\"Education\",\"Entertainment\",\"Finance\",\"Food & Drink\",\"Games\",\"Graphics & Design\",\"Health & Fitness\",\"Lifestyle\",\"Medical\",\"Music\",\"Navigation\",\"News\",\"Photo & Video\",\"Productivity\",\"Reference\",\"Shopping\",\"Social Networking\",\"Sports\",\"Travel\",\"Utilities\",\"Weather\"],\"y\":[1.1,23.74,0.27,27.59,28.2,49.33,42.25,59.16,37.59,36.81,25.2,8.18,9.53,40.58,30.01,44.84,48.32,11.84,14.57,20.57,14.18,46.12,14.11,36.59],\"type\":\"bar\"},{\"marker\":{\"color\":\"#add8e6\"},\"name\":\"Small Apps (Below 150 MB)\",\"x\":[\"Book\",\"Business\",\"Developer Tools\",\"Education\",\"Entertainment\",\"Finance\",\"Food & Drink\",\"Games\",\"Graphics & Design\",\"Health & Fitness\",\"Lifestyle\",\"Medical\",\"Music\",\"Navigation\",\"News\",\"Photo & Video\",\"Productivity\",\"Reference\",\"Shopping\",\"Social Networking\",\"Sports\",\"Travel\",\"Utilities\",\"Weather\"],\"y\":[98.83,75.77,99.68,67.33,69.78,46.08,57.58,26.61,60.09,62.75,73.76,90.69,90.04,59.35,69.99,55.02,51.59,85.7,85.43,79.33,85.72,53.68,85.83,56.3],\"type\":\"bar\"}],                        {\"template\":{\"data\":{\"bar\":[{\"error_x\":{\"color\":\"#2a3f5f\"},\"error_y\":{\"color\":\"#2a3f5f\"},\"marker\":{\"line\":{\"color\":\"#E5ECF6\",\"width\":0.5},\"pattern\":{\"fillmode\":\"overlay\",\"size\":10,\"solidity\":0.2}},\"type\":\"bar\"}],\"barpolar\":[{\"marker\":{\"line\":{\"color\":\"#E5ECF6\",\"width\":0.5},\"pattern\":{\"fillmode\":\"overlay\",\"size\":10,\"solidity\":0.2}},\"type\":\"barpolar\"}],\"carpet\":[{\"aaxis\":{\"endlinecolor\":\"#2a3f5f\",\"gridcolor\":\"white\",\"linecolor\":\"white\",\"minorgridcolor\":\"white\",\"startlinecolor\":\"#2a3f5f\"},\"baxis\":{\"endlinecolor\":\"#2a3f5f\",\"gridcolor\":\"white\",\"linecolor\":\"white\",\"minorgridcolor\":\"white\",\"startlinecolor\":\"#2a3f5f\"},\"type\":\"carpet\"}],\"choropleth\":[{\"colorbar\":{\"outlinewidth\":0,\"ticks\":\"\"},\"type\":\"choropleth\"}],\"contour\":[{\"colorbar\":{\"outlinewidth\":0,\"ticks\":\"\"},\"colorscale\":[[0.0,\"#0d0887\"],[0.1111111111111111,\"#46039f\"],[0.2222222222222222,\"#7201a8\"],[0.3333333333333333,\"#9c179e\"],[0.4444444444444444,\"#bd3786\"],[0.5555555555555556,\"#d8576b\"],[0.6666666666666666,\"#ed7953\"],[0.7777777777777778,\"#fb9f3a\"],[0.8888888888888888,\"#fdca26\"],[1.0,\"#f0f921\"]],\"type\":\"contour\"}],\"contourcarpet\":[{\"colorbar\":{\"outlinewidth\":0,\"ticks\":\"\"},\"type\":\"contourcarpet\"}],\"heatmap\":[{\"colorbar\":{\"outlinewidth\":0,\"ticks\":\"\"},\"colorscale\":[[0.0,\"#0d0887\"],[0.1111111111111111,\"#46039f\"],[0.2222222222222222,\"#7201a8\"],[0.3333333333333333,\"#9c179e\"],[0.4444444444444444,\"#bd3786\"],[0.5555555555555556,\"#d8576b\"],[0.6666666666666666,\"#ed7953\"],[0.7777777777777778,\"#fb9f3a\"],[0.8888888888888888,\"#fdca26\"],[1.0,\"#f0f921\"]],\"type\":\"heatmap\"}],\"heatmapgl\":[{\"colorbar\":{\"outlinewidth\":0,\"ticks\":\"\"},\"colorscale\":[[0.0,\"#0d0887\"],[0.1111111111111111,\"#46039f\"],[0.2222222222222222,\"#7201a8\"],[0.3333333333333333,\"#9c179e\"],[0.4444444444444444,\"#bd3786\"],[0.5555555555555556,\"#d8576b\"],[0.6666666666666666,\"#ed7953\"],[0.7777777777777778,\"#fb9f3a\"],[0.8888888888888888,\"#fdca26\"],[1.0,\"#f0f921\"]],\"type\":\"heatmapgl\"}],\"histogram\":[{\"marker\":{\"pattern\":{\"fillmode\":\"overlay\",\"size\":10,\"solidity\":0.2}},\"type\":\"histogram\"}],\"histogram2d\":[{\"colorbar\":{\"outlinewidth\":0,\"ticks\":\"\"},\"colorscale\":[[0.0,\"#0d0887\"],[0.1111111111111111,\"#46039f\"],[0.2222222222222222,\"#7201a8\"],[0.3333333333333333,\"#9c179e\"],[0.4444444444444444,\"#bd3786\"],[0.5555555555555556,\"#d8576b\"],[0.6666666666666666,\"#ed7953\"],[0.7777777777777778,\"#fb9f3a\"],[0.8888888888888888,\"#fdca26\"],[1.0,\"#f0f921\"]],\"type\":\"histogram2d\"}],\"histogram2dcontour\":[{\"colorbar\":{\"outlinewidth\":0,\"ticks\":\"\"},\"colorscale\":[[0.0,\"#0d0887\"],[0.1111111111111111,\"#46039f\"],[0.2222222222222222,\"#7201a8\"],[0.3333333333333333,\"#9c179e\"],[0.4444444444444444,\"#bd3786\"],[0.5555555555555556,\"#d8576b\"],[0.6666666666666666,\"#ed7953\"],[0.7777777777777778,\"#fb9f3a\"],[0.8888888888888888,\"#fdca26\"],[1.0,\"#f0f921\"]],\"type\":\"histogram2dcontour\"}],\"mesh3d\":[{\"colorbar\":{\"outlinewidth\":0,\"ticks\":\"\"},\"type\":\"mesh3d\"}],\"parcoords\":[{\"line\":{\"colorbar\":{\"outlinewidth\":0,\"ticks\":\"\"}},\"type\":\"parcoords\"}],\"pie\":[{\"automargin\":true,\"type\":\"pie\"}],\"scatter\":[{\"marker\":{\"colorbar\":{\"outlinewidth\":0,\"ticks\":\"\"}},\"type\":\"scatter\"}],\"scatter3d\":[{\"line\":{\"colorbar\":{\"outlinewidth\":0,\"ticks\":\"\"}},\"marker\":{\"colorbar\":{\"outlinewidth\":0,\"ticks\":\"\"}},\"type\":\"scatter3d\"}],\"scattercarpet\":[{\"marker\":{\"colorbar\":{\"outlinewidth\":0,\"ticks\":\"\"}},\"type\":\"scattercarpet\"}],\"scattergeo\":[{\"marker\":{\"colorbar\":{\"outlinewidth\":0,\"ticks\":\"\"}},\"type\":\"scattergeo\"}],\"scattergl\":[{\"marker\":{\"colorbar\":{\"outlinewidth\":0,\"ticks\":\"\"}},\"type\":\"scattergl\"}],\"scattermapbox\":[{\"marker\":{\"colorbar\":{\"outlinewidth\":0,\"ticks\":\"\"}},\"type\":\"scattermapbox\"}],\"scatterpolar\":[{\"marker\":{\"colorbar\":{\"outlinewidth\":0,\"ticks\":\"\"}},\"type\":\"scatterpolar\"}],\"scatterpolargl\":[{\"marker\":{\"colorbar\":{\"outlinewidth\":0,\"ticks\":\"\"}},\"type\":\"scatterpolargl\"}],\"scatterternary\":[{\"marker\":{\"colorbar\":{\"outlinewidth\":0,\"ticks\":\"\"}},\"type\":\"scatterternary\"}],\"surface\":[{\"colorbar\":{\"outlinewidth\":0,\"ticks\":\"\"},\"colorscale\":[[0.0,\"#0d0887\"],[0.1111111111111111,\"#46039f\"],[0.2222222222222222,\"#7201a8\"],[0.3333333333333333,\"#9c179e\"],[0.4444444444444444,\"#bd3786\"],[0.5555555555555556,\"#d8576b\"],[0.6666666666666666,\"#ed7953\"],[0.7777777777777778,\"#fb9f3a\"],[0.8888888888888888,\"#fdca26\"],[1.0,\"#f0f921\"]],\"type\":\"surface\"}],\"table\":[{\"cells\":{\"fill\":{\"color\":\"#EBF0F8\"},\"line\":{\"color\":\"white\"}},\"header\":{\"fill\":{\"color\":\"#C8D4E3\"},\"line\":{\"color\":\"white\"}},\"type\":\"table\"}]},\"layout\":{\"annotationdefaults\":{\"arrowcolor\":\"#2a3f5f\",\"arrowhead\":0,\"arrowwidth\":1},\"autotypenumbers\":\"strict\",\"coloraxis\":{\"colorbar\":{\"outlinewidth\":0,\"ticks\":\"\"}},\"colorscale\":{\"diverging\":[[0,\"#8e0152\"],[0.1,\"#c51b7d\"],[0.2,\"#de77ae\"],[0.3,\"#f1b6da\"],[0.4,\"#fde0ef\"],[0.5,\"#f7f7f7\"],[0.6,\"#e6f5d0\"],[0.7,\"#b8e186\"],[0.8,\"#7fbc41\"],[0.9,\"#4d9221\"],[1,\"#276419\"]],\"sequential\":[[0.0,\"#0d0887\"],[0.1111111111111111,\"#46039f\"],[0.2222222222222222,\"#7201a8\"],[0.3333333333333333,\"#9c179e\"],[0.4444444444444444,\"#bd3786\"],[0.5555555555555556,\"#d8576b\"],[0.6666666666666666,\"#ed7953\"],[0.7777777777777778,\"#fb9f3a\"],[0.8888888888888888,\"#fdca26\"],[1.0,\"#f0f921\"]],\"sequentialminus\":[[0.0,\"#0d0887\"],[0.1111111111111111,\"#46039f\"],[0.2222222222222222,\"#7201a8\"],[0.3333333333333333,\"#9c179e\"],[0.4444444444444444,\"#bd3786\"],[0.5555555555555556,\"#d8576b\"],[0.6666666666666666,\"#ed7953\"],[0.7777777777777778,\"#fb9f3a\"],[0.8888888888888888,\"#fdca26\"],[1.0,\"#f0f921\"]]},\"colorway\":[\"#636efa\",\"#EF553B\",\"#00cc96\",\"#ab63fa\",\"#FFA15A\",\"#19d3f3\",\"#FF6692\",\"#B6E880\",\"#FF97FF\",\"#FECB52\"],\"font\":{\"color\":\"#2a3f5f\"},\"geo\":{\"bgcolor\":\"white\",\"lakecolor\":\"white\",\"landcolor\":\"#E5ECF6\",\"showlakes\":true,\"showland\":true,\"subunitcolor\":\"white\"},\"hoverlabel\":{\"align\":\"left\"},\"hovermode\":\"closest\",\"mapbox\":{\"style\":\"light\"},\"paper_bgcolor\":\"white\",\"plot_bgcolor\":\"#E5ECF6\",\"polar\":{\"angularaxis\":{\"gridcolor\":\"white\",\"linecolor\":\"white\",\"ticks\":\"\"},\"bgcolor\":\"#E5ECF6\",\"radialaxis\":{\"gridcolor\":\"white\",\"linecolor\":\"white\",\"ticks\":\"\"}},\"scene\":{\"xaxis\":{\"backgroundcolor\":\"#E5ECF6\",\"gridcolor\":\"white\",\"gridwidth\":2,\"linecolor\":\"white\",\"showbackground\":true,\"ticks\":\"\",\"zerolinecolor\":\"white\"},\"yaxis\":{\"backgroundcolor\":\"#E5ECF6\",\"gridcolor\":\"white\",\"gridwidth\":2,\"linecolor\":\"white\",\"showbackground\":true,\"ticks\":\"\",\"zerolinecolor\":\"white\"},\"zaxis\":{\"backgroundcolor\":\"#E5ECF6\",\"gridcolor\":\"white\",\"gridwidth\":2,\"linecolor\":\"white\",\"showbackground\":true,\"ticks\":\"\",\"zerolinecolor\":\"white\"}},\"shapedefaults\":{\"line\":{\"color\":\"#2a3f5f\"}},\"ternary\":{\"aaxis\":{\"gridcolor\":\"white\",\"linecolor\":\"white\",\"ticks\":\"\"},\"baxis\":{\"gridcolor\":\"white\",\"linecolor\":\"white\",\"ticks\":\"\"},\"bgcolor\":\"#E5ECF6\",\"caxis\":{\"gridcolor\":\"white\",\"linecolor\":\"white\",\"ticks\":\"\"}},\"title\":{\"x\":0.05},\"xaxis\":{\"automargin\":true,\"gridcolor\":\"white\",\"linecolor\":\"white\",\"ticks\":\"\",\"title\":{\"standoff\":15},\"zerolinecolor\":\"white\",\"zerolinewidth\":2},\"yaxis\":{\"automargin\":true,\"gridcolor\":\"white\",\"linecolor\":\"white\",\"ticks\":\"\",\"title\":{\"standoff\":15},\"zerolinecolor\":\"white\",\"zerolinewidth\":2}}},\"title\":{\"text\":\"Impact on users due to Size of the app\",\"x\":0.4},\"xaxis\":{\"title\":{\"text\":\"Genre\"},\"tickangle\":45},\"yaxis\":{\"title\":{\"text\":\"User Percentage\"}},\"bargap\":0.3,\"bargroupgap\":0.1,\"barmode\":\"stack\",\"width\":700},                        {\"responsive\": true}                    ).then(function(){\n",
       "                            \n",
       "var gd = document.getElementById('1acaa20f-55d5-4f9f-a282-8daef54653c7');\n",
       "var x = new MutationObserver(function (mutations, observer) {{\n",
       "        var display = window.getComputedStyle(gd).display;\n",
       "        if (!display || display === 'none') {{\n",
       "            console.log([gd, 'removed!']);\n",
       "            Plotly.purge(gd);\n",
       "            observer.disconnect();\n",
       "        }}\n",
       "}});\n",
       "\n",
       "// Listen for the removal of the full notebook cells\n",
       "var notebookContainer = gd.closest('#notebook-container');\n",
       "if (notebookContainer) {{\n",
       "    x.observe(notebookContainer, {childList: true});\n",
       "}}\n",
       "\n",
       "// Listen for the clearing of the current output cell\n",
       "var outputEl = gd.closest('.output');\n",
       "if (outputEl) {{\n",
       "    x.observe(outputEl, {childList: true});\n",
       "}}\n",
       "\n",
       "                        })                };                            </script>        </div>\n",
       "</body>\n",
       "</html>"
      ]
     },
     "metadata": {},
     "output_type": "display_data"
    }
   ],
   "source": [
    "trace1 = go.Bar(x=users_impact_df['Genre'],y=users_impact_df['large_percentage'],\n",
    "                name = \"Large Apps (500 MB+)\",\n",
    "                marker = dict(color = 'rgba(102, 216, 137, 0.8)')\n",
    ")\n",
    "trace2 = go.Bar(x=users_impact_df['Genre'],y=users_impact_df['medium_percentage'],\n",
    "                name = \"Medium Apps (200 - 500 MB)\",\n",
    "                marker = dict(color = 'rgba(224, 148, 215, 0.8)')\n",
    ")\n",
    "trace3 = go.Bar(x=users_impact_df['Genre'],y=users_impact_df['small_percentage'],\n",
    "                name = \"Small Apps (Below 150 MB)\",\n",
    "                marker = dict(color = '#add8e6')\n",
    ")\n",
    "data = [trace1, trace2, trace3]\n",
    "\n",
    "fig3 = go.Figure(data = data)\n",
    "fig3.update_layout(\n",
    "    title='Impact on users due to Size of the app', # title of plot\n",
    "    xaxis_title='Genre', # xaxis label\n",
    "    yaxis_title='User Percentage', # yaxis label\n",
    "    bargap=0.3, # gap between bars of adjacent location coordinates\n",
    "    bargroupgap=0.1, # gap between bars of the same location coordinates\n",
    "    barmode='stack',  width=700,title_x=0.4\n",
    ")\n",
    "fig3.update_xaxes(tickangle=45)\n",
    "fig3.show()"
   ]
  },
  {
   "cell_type": "markdown",
   "metadata": {
    "id": "sE8mCKg1SXQA"
   },
   "source": [
    "**Observation**\n",
    "\n",
    "Number of Small apps are higher than medium and large so the users.\n",
    "\n",
    "Although Medium sized apps are lesser than small apps, users percentage is good and can be comparable with small app users.\n",
    "\n",
    "Large app has way too low in number of apps and also the user. But in games 16 percentage of users chose to play large sized games. There are also larege apps in Weather, Education etc. but their user percentage and app count is too low compared to games."
   ]
  },
  {
   "cell_type": "markdown",
   "metadata": {
    "id": "8Zz_jgEYEmI8"
   },
   "source": [
    "### Q7 - Who are the top developers based on the number of Apps released by them ?"
   ]
  },
  {
   "cell_type": "code",
   "execution_count": 55,
   "metadata": {
    "colab": {
     "base_uri": "https://localhost:8080/",
     "height": 542
    },
    "executionInfo": {
     "elapsed": 1557,
     "status": "ok",
     "timestamp": 1676621733973,
     "user": {
      "displayName": "Mahadeva Prashanth D M",
      "userId": "01792806173038978234"
     },
     "user_tz": -330
    },
    "id": "nurAcRp4s_gA",
    "outputId": "6c4bff6a-7061-4532-eb5f-a31974fc06cf"
   },
   "outputs": [
    {
     "data": {
      "text/html": [
       "<html>\n",
       "<head><meta charset=\"utf-8\" /></head>\n",
       "<body>\n",
       "    <div>            <script src=\"https://cdnjs.cloudflare.com/ajax/libs/mathjax/2.7.5/MathJax.js?config=TeX-AMS-MML_SVG\"></script><script type=\"text/javascript\">if (window.MathJax) {MathJax.Hub.Config({SVG: {font: \"STIX-Web\"}});}</script>                <script type=\"text/javascript\">window.PlotlyConfig = {MathJaxConfig: 'local'};</script>\n",
       "        <script src=\"https://cdn.plot.ly/plotly-2.8.3.min.js\"></script>                <div id=\"478c58b5-f856-489f-84af-42fa4716fdeb\" class=\"plotly-graph-div\" style=\"height:525px; width:840px;\"></div>            <script type=\"text/javascript\">                                    window.PLOTLYENV=window.PLOTLYENV || {};                                    if (document.getElementById(\"478c58b5-f856-489f-84af-42fa4716fdeb\")) {                    Plotly.newPlot(                        \"478c58b5-f856-489f-84af-42fa4716fdeb\",                        [{\"domain\":{\"x\":[0.0,1.0],\"y\":[0.0,1.0]},\"hole\":0.3,\"hovertemplate\":\"Developer=%{label}<br>App Count=%{value}<extra></extra>\",\"labels\":[\"ChowNow\",\"Touch2Success\",\"Alexander Velimirovic\",\"MINDBODY, Incorporated\",\"Phorest\",\"OFFLINE MAP TRIP GUIDE LTD\",\"Magzter Inc.\",\"ASK Video\",\"RAPID ACCELERATION INDIA PRIVATE LIMITED\",\"Nonlinear Educating Inc.\",\"Foodticket BV\",\"OBENTO LIMITED\",\"Narvii Inc.\",\"AppsVision\",\"Makeover Mania Story Games\",\"Tom Marchant\",\"INPEACE APP SOFTWARE DEVELOPMENT, LLC\",\"Tayga Games OOO\",\"GPSmyCity.com, Inc.\",\"Action Prompt Ltd\",\"Subsplash Inc\",\"YouVisit LLC\",\"Abner Roberto Santiago Da Silva\",\"Big Leap Studios\",\"Weetech Co Ltd\",\"Big Fish Games, Inc\",\"Wiley\",\"Vajro Inc\",\"Swapcard\",\"Ylab Inc.\"],\"legendgroup\":\"\",\"name\":\"\",\"showlegend\":true,\"values\":[3966,1649,1506,1247,1131,1022,928,781,733,555,549,537,496,483,462,462,443,439,438,433,429,416,412,407,404,399,382,382,370,343],\"type\":\"pie\"}],                        {\"template\":{\"data\":{\"bar\":[{\"error_x\":{\"color\":\"#2a3f5f\"},\"error_y\":{\"color\":\"#2a3f5f\"},\"marker\":{\"line\":{\"color\":\"#E5ECF6\",\"width\":0.5},\"pattern\":{\"fillmode\":\"overlay\",\"size\":10,\"solidity\":0.2}},\"type\":\"bar\"}],\"barpolar\":[{\"marker\":{\"line\":{\"color\":\"#E5ECF6\",\"width\":0.5},\"pattern\":{\"fillmode\":\"overlay\",\"size\":10,\"solidity\":0.2}},\"type\":\"barpolar\"}],\"carpet\":[{\"aaxis\":{\"endlinecolor\":\"#2a3f5f\",\"gridcolor\":\"white\",\"linecolor\":\"white\",\"minorgridcolor\":\"white\",\"startlinecolor\":\"#2a3f5f\"},\"baxis\":{\"endlinecolor\":\"#2a3f5f\",\"gridcolor\":\"white\",\"linecolor\":\"white\",\"minorgridcolor\":\"white\",\"startlinecolor\":\"#2a3f5f\"},\"type\":\"carpet\"}],\"choropleth\":[{\"colorbar\":{\"outlinewidth\":0,\"ticks\":\"\"},\"type\":\"choropleth\"}],\"contour\":[{\"colorbar\":{\"outlinewidth\":0,\"ticks\":\"\"},\"colorscale\":[[0.0,\"#0d0887\"],[0.1111111111111111,\"#46039f\"],[0.2222222222222222,\"#7201a8\"],[0.3333333333333333,\"#9c179e\"],[0.4444444444444444,\"#bd3786\"],[0.5555555555555556,\"#d8576b\"],[0.6666666666666666,\"#ed7953\"],[0.7777777777777778,\"#fb9f3a\"],[0.8888888888888888,\"#fdca26\"],[1.0,\"#f0f921\"]],\"type\":\"contour\"}],\"contourcarpet\":[{\"colorbar\":{\"outlinewidth\":0,\"ticks\":\"\"},\"type\":\"contourcarpet\"}],\"heatmap\":[{\"colorbar\":{\"outlinewidth\":0,\"ticks\":\"\"},\"colorscale\":[[0.0,\"#0d0887\"],[0.1111111111111111,\"#46039f\"],[0.2222222222222222,\"#7201a8\"],[0.3333333333333333,\"#9c179e\"],[0.4444444444444444,\"#bd3786\"],[0.5555555555555556,\"#d8576b\"],[0.6666666666666666,\"#ed7953\"],[0.7777777777777778,\"#fb9f3a\"],[0.8888888888888888,\"#fdca26\"],[1.0,\"#f0f921\"]],\"type\":\"heatmap\"}],\"heatmapgl\":[{\"colorbar\":{\"outlinewidth\":0,\"ticks\":\"\"},\"colorscale\":[[0.0,\"#0d0887\"],[0.1111111111111111,\"#46039f\"],[0.2222222222222222,\"#7201a8\"],[0.3333333333333333,\"#9c179e\"],[0.4444444444444444,\"#bd3786\"],[0.5555555555555556,\"#d8576b\"],[0.6666666666666666,\"#ed7953\"],[0.7777777777777778,\"#fb9f3a\"],[0.8888888888888888,\"#fdca26\"],[1.0,\"#f0f921\"]],\"type\":\"heatmapgl\"}],\"histogram\":[{\"marker\":{\"pattern\":{\"fillmode\":\"overlay\",\"size\":10,\"solidity\":0.2}},\"type\":\"histogram\"}],\"histogram2d\":[{\"colorbar\":{\"outlinewidth\":0,\"ticks\":\"\"},\"colorscale\":[[0.0,\"#0d0887\"],[0.1111111111111111,\"#46039f\"],[0.2222222222222222,\"#7201a8\"],[0.3333333333333333,\"#9c179e\"],[0.4444444444444444,\"#bd3786\"],[0.5555555555555556,\"#d8576b\"],[0.6666666666666666,\"#ed7953\"],[0.7777777777777778,\"#fb9f3a\"],[0.8888888888888888,\"#fdca26\"],[1.0,\"#f0f921\"]],\"type\":\"histogram2d\"}],\"histogram2dcontour\":[{\"colorbar\":{\"outlinewidth\":0,\"ticks\":\"\"},\"colorscale\":[[0.0,\"#0d0887\"],[0.1111111111111111,\"#46039f\"],[0.2222222222222222,\"#7201a8\"],[0.3333333333333333,\"#9c179e\"],[0.4444444444444444,\"#bd3786\"],[0.5555555555555556,\"#d8576b\"],[0.6666666666666666,\"#ed7953\"],[0.7777777777777778,\"#fb9f3a\"],[0.8888888888888888,\"#fdca26\"],[1.0,\"#f0f921\"]],\"type\":\"histogram2dcontour\"}],\"mesh3d\":[{\"colorbar\":{\"outlinewidth\":0,\"ticks\":\"\"},\"type\":\"mesh3d\"}],\"parcoords\":[{\"line\":{\"colorbar\":{\"outlinewidth\":0,\"ticks\":\"\"}},\"type\":\"parcoords\"}],\"pie\":[{\"automargin\":true,\"type\":\"pie\"}],\"scatter\":[{\"marker\":{\"colorbar\":{\"outlinewidth\":0,\"ticks\":\"\"}},\"type\":\"scatter\"}],\"scatter3d\":[{\"line\":{\"colorbar\":{\"outlinewidth\":0,\"ticks\":\"\"}},\"marker\":{\"colorbar\":{\"outlinewidth\":0,\"ticks\":\"\"}},\"type\":\"scatter3d\"}],\"scattercarpet\":[{\"marker\":{\"colorbar\":{\"outlinewidth\":0,\"ticks\":\"\"}},\"type\":\"scattercarpet\"}],\"scattergeo\":[{\"marker\":{\"colorbar\":{\"outlinewidth\":0,\"ticks\":\"\"}},\"type\":\"scattergeo\"}],\"scattergl\":[{\"marker\":{\"colorbar\":{\"outlinewidth\":0,\"ticks\":\"\"}},\"type\":\"scattergl\"}],\"scattermapbox\":[{\"marker\":{\"colorbar\":{\"outlinewidth\":0,\"ticks\":\"\"}},\"type\":\"scattermapbox\"}],\"scatterpolar\":[{\"marker\":{\"colorbar\":{\"outlinewidth\":0,\"ticks\":\"\"}},\"type\":\"scatterpolar\"}],\"scatterpolargl\":[{\"marker\":{\"colorbar\":{\"outlinewidth\":0,\"ticks\":\"\"}},\"type\":\"scatterpolargl\"}],\"scatterternary\":[{\"marker\":{\"colorbar\":{\"outlinewidth\":0,\"ticks\":\"\"}},\"type\":\"scatterternary\"}],\"surface\":[{\"colorbar\":{\"outlinewidth\":0,\"ticks\":\"\"},\"colorscale\":[[0.0,\"#0d0887\"],[0.1111111111111111,\"#46039f\"],[0.2222222222222222,\"#7201a8\"],[0.3333333333333333,\"#9c179e\"],[0.4444444444444444,\"#bd3786\"],[0.5555555555555556,\"#d8576b\"],[0.6666666666666666,\"#ed7953\"],[0.7777777777777778,\"#fb9f3a\"],[0.8888888888888888,\"#fdca26\"],[1.0,\"#f0f921\"]],\"type\":\"surface\"}],\"table\":[{\"cells\":{\"fill\":{\"color\":\"#EBF0F8\"},\"line\":{\"color\":\"white\"}},\"header\":{\"fill\":{\"color\":\"#C8D4E3\"},\"line\":{\"color\":\"white\"}},\"type\":\"table\"}]},\"layout\":{\"annotationdefaults\":{\"arrowcolor\":\"#2a3f5f\",\"arrowhead\":0,\"arrowwidth\":1},\"autotypenumbers\":\"strict\",\"coloraxis\":{\"colorbar\":{\"outlinewidth\":0,\"ticks\":\"\"}},\"colorscale\":{\"diverging\":[[0,\"#8e0152\"],[0.1,\"#c51b7d\"],[0.2,\"#de77ae\"],[0.3,\"#f1b6da\"],[0.4,\"#fde0ef\"],[0.5,\"#f7f7f7\"],[0.6,\"#e6f5d0\"],[0.7,\"#b8e186\"],[0.8,\"#7fbc41\"],[0.9,\"#4d9221\"],[1,\"#276419\"]],\"sequential\":[[0.0,\"#0d0887\"],[0.1111111111111111,\"#46039f\"],[0.2222222222222222,\"#7201a8\"],[0.3333333333333333,\"#9c179e\"],[0.4444444444444444,\"#bd3786\"],[0.5555555555555556,\"#d8576b\"],[0.6666666666666666,\"#ed7953\"],[0.7777777777777778,\"#fb9f3a\"],[0.8888888888888888,\"#fdca26\"],[1.0,\"#f0f921\"]],\"sequentialminus\":[[0.0,\"#0d0887\"],[0.1111111111111111,\"#46039f\"],[0.2222222222222222,\"#7201a8\"],[0.3333333333333333,\"#9c179e\"],[0.4444444444444444,\"#bd3786\"],[0.5555555555555556,\"#d8576b\"],[0.6666666666666666,\"#ed7953\"],[0.7777777777777778,\"#fb9f3a\"],[0.8888888888888888,\"#fdca26\"],[1.0,\"#f0f921\"]]},\"colorway\":[\"#636efa\",\"#EF553B\",\"#00cc96\",\"#ab63fa\",\"#FFA15A\",\"#19d3f3\",\"#FF6692\",\"#B6E880\",\"#FF97FF\",\"#FECB52\"],\"font\":{\"color\":\"#2a3f5f\"},\"geo\":{\"bgcolor\":\"white\",\"lakecolor\":\"white\",\"landcolor\":\"#E5ECF6\",\"showlakes\":true,\"showland\":true,\"subunitcolor\":\"white\"},\"hoverlabel\":{\"align\":\"left\"},\"hovermode\":\"closest\",\"mapbox\":{\"style\":\"light\"},\"paper_bgcolor\":\"white\",\"plot_bgcolor\":\"#E5ECF6\",\"polar\":{\"angularaxis\":{\"gridcolor\":\"white\",\"linecolor\":\"white\",\"ticks\":\"\"},\"bgcolor\":\"#E5ECF6\",\"radialaxis\":{\"gridcolor\":\"white\",\"linecolor\":\"white\",\"ticks\":\"\"}},\"scene\":{\"xaxis\":{\"backgroundcolor\":\"#E5ECF6\",\"gridcolor\":\"white\",\"gridwidth\":2,\"linecolor\":\"white\",\"showbackground\":true,\"ticks\":\"\",\"zerolinecolor\":\"white\"},\"yaxis\":{\"backgroundcolor\":\"#E5ECF6\",\"gridcolor\":\"white\",\"gridwidth\":2,\"linecolor\":\"white\",\"showbackground\":true,\"ticks\":\"\",\"zerolinecolor\":\"white\"},\"zaxis\":{\"backgroundcolor\":\"#E5ECF6\",\"gridcolor\":\"white\",\"gridwidth\":2,\"linecolor\":\"white\",\"showbackground\":true,\"ticks\":\"\",\"zerolinecolor\":\"white\"}},\"shapedefaults\":{\"line\":{\"color\":\"#2a3f5f\"}},\"ternary\":{\"aaxis\":{\"gridcolor\":\"white\",\"linecolor\":\"white\",\"ticks\":\"\"},\"baxis\":{\"gridcolor\":\"white\",\"linecolor\":\"white\",\"ticks\":\"\"},\"bgcolor\":\"#E5ECF6\",\"caxis\":{\"gridcolor\":\"white\",\"linecolor\":\"white\",\"ticks\":\"\"}},\"title\":{\"x\":0.05},\"xaxis\":{\"automargin\":true,\"gridcolor\":\"white\",\"linecolor\":\"white\",\"ticks\":\"\",\"title\":{\"standoff\":15},\"zerolinecolor\":\"white\",\"zerolinewidth\":2},\"yaxis\":{\"automargin\":true,\"gridcolor\":\"white\",\"linecolor\":\"white\",\"ticks\":\"\",\"title\":{\"standoff\":15},\"zerolinecolor\":\"white\",\"zerolinewidth\":2}}},\"legend\":{\"tracegroupgap\":0},\"title\":{\"text\":\"Top Developers Based On The Number Of Released\"},\"width\":840},                        {\"responsive\": true}                    ).then(function(){\n",
       "                            \n",
       "var gd = document.getElementById('478c58b5-f856-489f-84af-42fa4716fdeb');\n",
       "var x = new MutationObserver(function (mutations, observer) {{\n",
       "        var display = window.getComputedStyle(gd).display;\n",
       "        if (!display || display === 'none') {{\n",
       "            console.log([gd, 'removed!']);\n",
       "            Plotly.purge(gd);\n",
       "            observer.disconnect();\n",
       "        }}\n",
       "}});\n",
       "\n",
       "// Listen for the removal of the full notebook cells\n",
       "var notebookContainer = gd.closest('#notebook-container');\n",
       "if (notebookContainer) {{\n",
       "    x.observe(notebookContainer, {childList: true});\n",
       "}}\n",
       "\n",
       "// Listen for the clearing of the current output cell\n",
       "var outputEl = gd.closest('.output');\n",
       "if (outputEl) {{\n",
       "    x.observe(outputEl, {childList: true});\n",
       "}}\n",
       "\n",
       "                        })                };                            </script>        </div>\n",
       "</body>\n",
       "</html>"
      ]
     },
     "metadata": {},
     "output_type": "display_data"
    }
   ],
   "source": [
    "top_dev_appc= df.groupby([df.Developer])['App_Name'].count().reset_index().sort_values(by='App_Name', ascending=False)\n",
    "top_dev_appc.columns= ['Developer','App Count']\n",
    "fig = px.pie(top_dev_appc[:30], \n",
    "             values='App Count', \n",
    "             names='Developer', \n",
    "             title='Top Developers Based On The Number Of Released', hole=.3)\n",
    "fig.update_layout(width=840)\n",
    "fig.show()"
   ]
  },
  {
   "cell_type": "markdown",
   "metadata": {
    "id": "0usRahv8E-PT"
   },
   "source": [
    "**Ans - Top 10 heighest app released Developers are ChowNow,                                Touch2Success,                         Alexander Velimirovic,                     MINDBODY, Incorporated,                  Phorest,                                  OFFLINE MAP TRIP GUIDE LTD,                Magzter Inc.,                              ASK Video,                                 RAPID ACCELERATION INDIA PRIVATE LIMITED.**"
   ]
  },
  {
   "cell_type": "markdown",
   "metadata": {
    "id": "GfMpxWu1Ucja"
   },
   "source": [
    "**Observation**\n",
    "\n",
    "From the above graph these are top developer who contributed for the development apple appstore app. The major contribution is from the developer Chownow, he delevired 3900+ apps in appstore.\n"
   ]
  },
  {
   "cell_type": "markdown",
   "metadata": {
    "id": "ejGujJuCuQLq"
   },
   "source": [
    "### Q8 -Which developers are most popular?"
   ]
  },
  {
   "cell_type": "code",
   "execution_count": 56,
   "metadata": {
    "executionInfo": {
     "elapsed": 4582,
     "status": "ok",
     "timestamp": 1676621738551,
     "user": {
      "displayName": "Mahadeva Prashanth D M",
      "userId": "01792806173038978234"
     },
     "user_tz": -330
    },
    "id": "Zc7xkeZitzhD"
   },
   "outputs": [],
   "source": [
    "top_pop_dev_r = df.groupby(['Developer'])['Reviews'].sum().reset_index().sort_values(by=['Reviews'],ascending=False)\n",
    "top_dev_appc= df.groupby(['Developer'])['App_Name'].count().reset_index().sort_values(by='App_Name', ascending=False)\n",
    "top_pop_dev= pd.merge(top_pop_dev_r, top_dev_appc, how='inner', on='Developer')\n",
    "top_pop_dev.columns=['Developer','Popularity', 'App_Count']"
   ]
  },
  {
   "cell_type": "code",
   "execution_count": 57,
   "metadata": {
    "colab": {
     "base_uri": "https://localhost:8080/",
     "height": 542
    },
    "executionInfo": {
     "elapsed": 8,
     "status": "ok",
     "timestamp": 1676621738552,
     "user": {
      "displayName": "Mahadeva Prashanth D M",
      "userId": "01792806173038978234"
     },
     "user_tz": -330
    },
    "id": "miW4f9Blt-xE",
    "outputId": "c27453b5-97ed-47b8-fe37-68882e039eb4"
   },
   "outputs": [
    {
     "data": {
      "text/html": [
       "<html>\n",
       "<head><meta charset=\"utf-8\" /></head>\n",
       "<body>\n",
       "    <div>            <script src=\"https://cdnjs.cloudflare.com/ajax/libs/mathjax/2.7.5/MathJax.js?config=TeX-AMS-MML_SVG\"></script><script type=\"text/javascript\">if (window.MathJax) {MathJax.Hub.Config({SVG: {font: \"STIX-Web\"}});}</script>                <script type=\"text/javascript\">window.PlotlyConfig = {MathJaxConfig: 'local'};</script>\n",
       "        <script src=\"https://cdn.plot.ly/plotly-2.8.3.min.js\"></script>                <div id=\"7f7ab264-866a-4481-8295-0ae90e9f84a2\" class=\"plotly-graph-div\" style=\"height:525px; width:700px;\"></div>            <script type=\"text/javascript\">                                    window.PLOTLYENV=window.PLOTLYENV || {};                                    if (document.getElementById(\"7f7ab264-866a-4481-8295-0ae90e9f84a2\")) {                    Plotly.newPlot(                        \"7f7ab264-866a-4481-8295-0ae90e9f84a2\",                        [{\"hovertemplate\":\"Developer=%{y}<br>Popularity=%{x}<br>App_Count=%{text}<extra></extra>\",\"legendgroup\":\"Google LLC\",\"marker\":{\"color\":\"#F8766D\"},\"name\":\"Google LLC\",\"orientation\":\"h\",\"showlegend\":true,\"text\":[85.0],\"x\":[42903262],\"xaxis\":\"x\",\"y\":[\"Google LLC\"],\"yaxis\":\"y\",\"type\":\"funnel\"},{\"hovertemplate\":\"Developer=%{y}<br>Popularity=%{x}<br>App_Count=%{text}<extra></extra>\",\"legendgroup\":\"Instagram, Inc.\",\"marker\":{\"color\":\"#A3A500\"},\"name\":\"Instagram, Inc.\",\"orientation\":\"h\",\"showlegend\":true,\"text\":[6.0],\"x\":[21999081],\"xaxis\":\"x\",\"y\":[\"Instagram, Inc.\"],\"yaxis\":\"y\",\"type\":\"funnel\"},{\"hovertemplate\":\"Developer=%{y}<br>Popularity=%{x}<br>App_Count=%{text}<extra></extra>\",\"legendgroup\":\"Spotify Ltd.\",\"marker\":{\"color\":\"#00BF7D\"},\"name\":\"Spotify Ltd.\",\"orientation\":\"h\",\"showlegend\":true,\"text\":[7.0],\"x\":[19031954],\"xaxis\":\"x\",\"y\":[\"Spotify Ltd.\"],\"yaxis\":\"y\",\"type\":\"funnel\"},{\"hovertemplate\":\"Developer=%{y}<br>Popularity=%{x}<br>App_Count=%{text}<extra></extra>\",\"legendgroup\":\"Voodoo\",\"marker\":{\"color\":\"#00B0F6\"},\"name\":\"Voodoo\",\"orientation\":\"h\",\"showlegend\":true,\"text\":[189.0],\"x\":[18944191],\"xaxis\":\"x\",\"y\":[\"Voodoo\"],\"yaxis\":\"y\",\"type\":\"funnel\"},{\"hovertemplate\":\"Developer=%{y}<br>Popularity=%{x}<br>App_Count=%{text}<extra></extra>\",\"legendgroup\":\"AMZN Mobile LLC\",\"marker\":{\"color\":\"#E76BF3\"},\"name\":\"AMZN Mobile LLC\",\"orientation\":\"h\",\"showlegend\":true,\"text\":[50.0],\"x\":[15662193],\"xaxis\":\"x\",\"y\":[\"AMZN Mobile LLC\"],\"yaxis\":\"y\",\"type\":\"funnel\"},{\"hovertemplate\":\"Developer=%{y}<br>Popularity=%{x}<br>App_Count=%{text}<extra></extra>\",\"legendgroup\":\"DoorDash, Inc.\",\"marker\":{\"color\":\"#F8766D\"},\"name\":\"DoorDash, Inc.\",\"orientation\":\"h\",\"showlegend\":true,\"text\":[2.0],\"x\":[13812572],\"xaxis\":\"x\",\"y\":[\"DoorDash, Inc.\"],\"yaxis\":\"y\",\"type\":\"funnel\"},{\"hovertemplate\":\"Developer=%{y}<br>Popularity=%{x}<br>App_Count=%{text}<extra></extra>\",\"legendgroup\":\"Venmo\",\"marker\":{\"color\":\"#A3A500\"},\"name\":\"Venmo\",\"orientation\":\"h\",\"showlegend\":true,\"text\":[1.0],\"x\":[12634191],\"xaxis\":\"x\",\"y\":[\"Venmo\"],\"yaxis\":\"y\",\"type\":\"funnel\"},{\"hovertemplate\":\"Developer=%{y}<br>Popularity=%{x}<br>App_Count=%{text}<extra></extra>\",\"legendgroup\":\"TikTok Pte. Ltd.\",\"marker\":{\"color\":\"#00BF7D\"},\"name\":\"TikTok Pte. Ltd.\",\"orientation\":\"h\",\"showlegend\":true,\"text\":[1.0],\"x\":[10598509],\"xaxis\":\"x\",\"y\":[\"TikTok Pte. Ltd.\"],\"yaxis\":\"y\",\"type\":\"funnel\"},{\"hovertemplate\":\"Developer=%{y}<br>Popularity=%{x}<br>App_Count=%{text}<extra></extra>\",\"legendgroup\":\"Lyft, Inc.\",\"marker\":{\"color\":\"#00B0F6\"},\"name\":\"Lyft, Inc.\",\"orientation\":\"h\",\"showlegend\":true,\"text\":[3.0],\"x\":[10331957],\"xaxis\":\"x\",\"y\":[\"Lyft, Inc.\"],\"yaxis\":\"y\",\"type\":\"funnel\"},{\"hovertemplate\":\"Developer=%{y}<br>Popularity=%{x}<br>App_Count=%{text}<extra></extra>\",\"legendgroup\":\"WhatsApp Inc.\",\"marker\":{\"color\":\"#E76BF3\"},\"name\":\"WhatsApp Inc.\",\"orientation\":\"h\",\"showlegend\":true,\"text\":[3.0],\"x\":[9377027],\"xaxis\":\"x\",\"y\":[\"WhatsApp Inc.\"],\"yaxis\":\"y\",\"type\":\"funnel\"},{\"hovertemplate\":\"Developer=%{y}<br>Popularity=%{x}<br>App_Count=%{text}<extra></extra>\",\"legendgroup\":\"Pandora Media, Inc.\",\"marker\":{\"color\":\"#F8766D\"},\"name\":\"Pandora Media, Inc.\",\"orientation\":\"h\",\"showlegend\":true,\"text\":[1.0],\"x\":[8297798],\"xaxis\":\"x\",\"y\":[\"Pandora Media, Inc.\"],\"yaxis\":\"y\",\"type\":\"funnel\"},{\"hovertemplate\":\"Developer=%{y}<br>Popularity=%{x}<br>App_Count=%{text}<extra></extra>\",\"legendgroup\":\"Uber Technologies, Inc.\",\"marker\":{\"color\":\"#A3A500\"},\"name\":\"Uber Technologies, Inc.\",\"orientation\":\"h\",\"showlegend\":true,\"text\":[7.0],\"x\":[7756816],\"xaxis\":\"x\",\"y\":[\"Uber Technologies, Inc.\"],\"yaxis\":\"y\",\"type\":\"funnel\"},{\"hovertemplate\":\"Developer=%{y}<br>Popularity=%{x}<br>App_Count=%{text}<extra></extra>\",\"legendgroup\":\"Life.Church\",\"marker\":{\"color\":\"#00BF7D\"},\"name\":\"Life.Church\",\"orientation\":\"h\",\"showlegend\":true,\"text\":[4.0],\"x\":[7187426],\"xaxis\":\"x\",\"y\":[\"Life.Church\"],\"yaxis\":\"y\",\"type\":\"funnel\"},{\"hovertemplate\":\"Developer=%{y}<br>Popularity=%{x}<br>App_Count=%{text}<extra></extra>\",\"legendgroup\":\"Microsoft Corporation\",\"marker\":{\"color\":\"#00B0F6\"},\"name\":\"Microsoft Corporation\",\"orientation\":\"h\",\"showlegend\":true,\"text\":[101.0],\"x\":[6808149],\"xaxis\":\"x\",\"y\":[\"Microsoft Corporation\"],\"yaxis\":\"y\",\"type\":\"funnel\"},{\"hovertemplate\":\"Developer=%{y}<br>Popularity=%{x}<br>App_Count=%{text}<extra></extra>\",\"legendgroup\":\"Lion Studios\",\"marker\":{\"color\":\"#E76BF3\"},\"name\":\"Lion Studios\",\"orientation\":\"h\",\"showlegend\":true,\"text\":[125.0],\"x\":[6685712],\"xaxis\":\"x\",\"y\":[\"Lion Studios\"],\"yaxis\":\"y\",\"type\":\"funnel\"},{\"hovertemplate\":\"Developer=%{y}<br>Popularity=%{x}<br>App_Count=%{text}<extra></extra>\",\"legendgroup\":\"Wells Fargo\",\"marker\":{\"color\":\"#F8766D\"},\"name\":\"Wells Fargo\",\"orientation\":\"h\",\"showlegend\":true,\"text\":[5.0],\"x\":[6315853],\"xaxis\":\"x\",\"y\":[\"Wells Fargo\"],\"yaxis\":\"y\",\"type\":\"funnel\"},{\"hovertemplate\":\"Developer=%{y}<br>Popularity=%{x}<br>App_Count=%{text}<extra></extra>\",\"legendgroup\":\"Zillow.com\",\"marker\":{\"color\":\"#A3A500\"},\"name\":\"Zillow.com\",\"orientation\":\"h\",\"showlegend\":true,\"text\":[6.0],\"x\":[6160516],\"xaxis\":\"x\",\"y\":[\"Zillow.com\"],\"yaxis\":\"y\",\"type\":\"funnel\"},{\"hovertemplate\":\"Developer=%{y}<br>Popularity=%{x}<br>App_Count=%{text}<extra></extra>\",\"legendgroup\":\"Roblox Corporation\",\"marker\":{\"color\":\"#00BF7D\"},\"name\":\"Roblox Corporation\",\"orientation\":\"h\",\"showlegend\":true,\"text\":[1.0],\"x\":[6127588],\"xaxis\":\"x\",\"y\":[\"Roblox Corporation\"],\"yaxis\":\"y\",\"type\":\"funnel\"},{\"hovertemplate\":\"Developer=%{y}<br>Popularity=%{x}<br>App_Count=%{text}<extra></extra>\",\"legendgroup\":\"PayPal, Inc.\",\"marker\":{\"color\":\"#00B0F6\"},\"name\":\"PayPal, Inc.\",\"orientation\":\"h\",\"showlegend\":true,\"text\":[5.0],\"x\":[5990608],\"xaxis\":\"x\",\"y\":[\"PayPal, Inc.\"],\"yaxis\":\"y\",\"type\":\"funnel\"},{\"hovertemplate\":\"Developer=%{y}<br>Popularity=%{x}<br>App_Count=%{text}<extra></extra>\",\"legendgroup\":\"Disney\",\"marker\":{\"color\":\"#E76BF3\"},\"name\":\"Disney\",\"orientation\":\"h\",\"showlegend\":true,\"text\":[101.0],\"x\":[5983001],\"xaxis\":\"x\",\"y\":[\"Disney\"],\"yaxis\":\"y\",\"type\":\"funnel\"}],                        {\"template\":{\"data\":{\"barpolar\":[{\"marker\":{\"line\":{\"color\":\"rgb(237,237,237)\",\"width\":0.5},\"pattern\":{\"fillmode\":\"overlay\",\"size\":10,\"solidity\":0.2}},\"type\":\"barpolar\"}],\"bar\":[{\"error_x\":{\"color\":\"rgb(51,51,51)\"},\"error_y\":{\"color\":\"rgb(51,51,51)\"},\"marker\":{\"line\":{\"color\":\"rgb(237,237,237)\",\"width\":0.5},\"pattern\":{\"fillmode\":\"overlay\",\"size\":10,\"solidity\":0.2}},\"type\":\"bar\"}],\"carpet\":[{\"aaxis\":{\"endlinecolor\":\"rgb(51,51,51)\",\"gridcolor\":\"white\",\"linecolor\":\"white\",\"minorgridcolor\":\"white\",\"startlinecolor\":\"rgb(51,51,51)\"},\"baxis\":{\"endlinecolor\":\"rgb(51,51,51)\",\"gridcolor\":\"white\",\"linecolor\":\"white\",\"minorgridcolor\":\"white\",\"startlinecolor\":\"rgb(51,51,51)\"},\"type\":\"carpet\"}],\"choropleth\":[{\"colorbar\":{\"outlinewidth\":0,\"tickcolor\":\"rgb(237,237,237)\",\"ticklen\":6,\"ticks\":\"inside\"},\"type\":\"choropleth\"}],\"contourcarpet\":[{\"colorbar\":{\"outlinewidth\":0,\"tickcolor\":\"rgb(237,237,237)\",\"ticklen\":6,\"ticks\":\"inside\"},\"type\":\"contourcarpet\"}],\"contour\":[{\"colorbar\":{\"outlinewidth\":0,\"tickcolor\":\"rgb(237,237,237)\",\"ticklen\":6,\"ticks\":\"inside\"},\"colorscale\":[[0,\"rgb(20,44,66)\"],[1,\"rgb(90,179,244)\"]],\"type\":\"contour\"}],\"heatmapgl\":[{\"colorbar\":{\"outlinewidth\":0,\"tickcolor\":\"rgb(237,237,237)\",\"ticklen\":6,\"ticks\":\"inside\"},\"colorscale\":[[0,\"rgb(20,44,66)\"],[1,\"rgb(90,179,244)\"]],\"type\":\"heatmapgl\"}],\"heatmap\":[{\"colorbar\":{\"outlinewidth\":0,\"tickcolor\":\"rgb(237,237,237)\",\"ticklen\":6,\"ticks\":\"inside\"},\"colorscale\":[[0,\"rgb(20,44,66)\"],[1,\"rgb(90,179,244)\"]],\"type\":\"heatmap\"}],\"histogram2dcontour\":[{\"colorbar\":{\"outlinewidth\":0,\"tickcolor\":\"rgb(237,237,237)\",\"ticklen\":6,\"ticks\":\"inside\"},\"colorscale\":[[0,\"rgb(20,44,66)\"],[1,\"rgb(90,179,244)\"]],\"type\":\"histogram2dcontour\"}],\"histogram2d\":[{\"colorbar\":{\"outlinewidth\":0,\"tickcolor\":\"rgb(237,237,237)\",\"ticklen\":6,\"ticks\":\"inside\"},\"colorscale\":[[0,\"rgb(20,44,66)\"],[1,\"rgb(90,179,244)\"]],\"type\":\"histogram2d\"}],\"histogram\":[{\"marker\":{\"pattern\":{\"fillmode\":\"overlay\",\"size\":10,\"solidity\":0.2}},\"type\":\"histogram\"}],\"mesh3d\":[{\"colorbar\":{\"outlinewidth\":0,\"tickcolor\":\"rgb(237,237,237)\",\"ticklen\":6,\"ticks\":\"inside\"},\"type\":\"mesh3d\"}],\"parcoords\":[{\"line\":{\"colorbar\":{\"outlinewidth\":0,\"tickcolor\":\"rgb(237,237,237)\",\"ticklen\":6,\"ticks\":\"inside\"}},\"type\":\"parcoords\"}],\"pie\":[{\"automargin\":true,\"type\":\"pie\"}],\"scatter3d\":[{\"line\":{\"colorbar\":{\"outlinewidth\":0,\"tickcolor\":\"rgb(237,237,237)\",\"ticklen\":6,\"ticks\":\"inside\"}},\"marker\":{\"colorbar\":{\"outlinewidth\":0,\"tickcolor\":\"rgb(237,237,237)\",\"ticklen\":6,\"ticks\":\"inside\"}},\"type\":\"scatter3d\"}],\"scattercarpet\":[{\"marker\":{\"colorbar\":{\"outlinewidth\":0,\"tickcolor\":\"rgb(237,237,237)\",\"ticklen\":6,\"ticks\":\"inside\"}},\"type\":\"scattercarpet\"}],\"scattergeo\":[{\"marker\":{\"colorbar\":{\"outlinewidth\":0,\"tickcolor\":\"rgb(237,237,237)\",\"ticklen\":6,\"ticks\":\"inside\"}},\"type\":\"scattergeo\"}],\"scattergl\":[{\"marker\":{\"colorbar\":{\"outlinewidth\":0,\"tickcolor\":\"rgb(237,237,237)\",\"ticklen\":6,\"ticks\":\"inside\"}},\"type\":\"scattergl\"}],\"scattermapbox\":[{\"marker\":{\"colorbar\":{\"outlinewidth\":0,\"tickcolor\":\"rgb(237,237,237)\",\"ticklen\":6,\"ticks\":\"inside\"}},\"type\":\"scattermapbox\"}],\"scatterpolargl\":[{\"marker\":{\"colorbar\":{\"outlinewidth\":0,\"tickcolor\":\"rgb(237,237,237)\",\"ticklen\":6,\"ticks\":\"inside\"}},\"type\":\"scatterpolargl\"}],\"scatterpolar\":[{\"marker\":{\"colorbar\":{\"outlinewidth\":0,\"tickcolor\":\"rgb(237,237,237)\",\"ticklen\":6,\"ticks\":\"inside\"}},\"type\":\"scatterpolar\"}],\"scatter\":[{\"marker\":{\"colorbar\":{\"outlinewidth\":0,\"tickcolor\":\"rgb(237,237,237)\",\"ticklen\":6,\"ticks\":\"inside\"}},\"type\":\"scatter\"}],\"scatterternary\":[{\"marker\":{\"colorbar\":{\"outlinewidth\":0,\"tickcolor\":\"rgb(237,237,237)\",\"ticklen\":6,\"ticks\":\"inside\"}},\"type\":\"scatterternary\"}],\"surface\":[{\"colorbar\":{\"outlinewidth\":0,\"tickcolor\":\"rgb(237,237,237)\",\"ticklen\":6,\"ticks\":\"inside\"},\"colorscale\":[[0,\"rgb(20,44,66)\"],[1,\"rgb(90,179,244)\"]],\"type\":\"surface\"}],\"table\":[{\"cells\":{\"fill\":{\"color\":\"rgb(237,237,237)\"},\"line\":{\"color\":\"white\"}},\"header\":{\"fill\":{\"color\":\"rgb(217,217,217)\"},\"line\":{\"color\":\"white\"}},\"type\":\"table\"}]},\"layout\":{\"annotationdefaults\":{\"arrowhead\":0,\"arrowwidth\":1},\"autotypenumbers\":\"strict\",\"coloraxis\":{\"colorbar\":{\"outlinewidth\":0,\"tickcolor\":\"rgb(237,237,237)\",\"ticklen\":6,\"ticks\":\"inside\"}},\"colorscale\":{\"sequential\":[[0,\"rgb(20,44,66)\"],[1,\"rgb(90,179,244)\"]],\"sequentialminus\":[[0,\"rgb(20,44,66)\"],[1,\"rgb(90,179,244)\"]]},\"colorway\":[\"#F8766D\",\"#A3A500\",\"#00BF7D\",\"#00B0F6\",\"#E76BF3\"],\"font\":{\"color\":\"rgb(51,51,51)\"},\"geo\":{\"bgcolor\":\"white\",\"lakecolor\":\"white\",\"landcolor\":\"rgb(237,237,237)\",\"showlakes\":true,\"showland\":true,\"subunitcolor\":\"white\"},\"hoverlabel\":{\"align\":\"left\"},\"hovermode\":\"closest\",\"paper_bgcolor\":\"white\",\"plot_bgcolor\":\"rgb(237,237,237)\",\"polar\":{\"angularaxis\":{\"gridcolor\":\"white\",\"linecolor\":\"white\",\"showgrid\":true,\"tickcolor\":\"rgb(51,51,51)\",\"ticks\":\"outside\"},\"bgcolor\":\"rgb(237,237,237)\",\"radialaxis\":{\"gridcolor\":\"white\",\"linecolor\":\"white\",\"showgrid\":true,\"tickcolor\":\"rgb(51,51,51)\",\"ticks\":\"outside\"}},\"scene\":{\"xaxis\":{\"backgroundcolor\":\"rgb(237,237,237)\",\"gridcolor\":\"white\",\"gridwidth\":2,\"linecolor\":\"white\",\"showbackground\":true,\"showgrid\":true,\"tickcolor\":\"rgb(51,51,51)\",\"ticks\":\"outside\",\"zerolinecolor\":\"white\"},\"yaxis\":{\"backgroundcolor\":\"rgb(237,237,237)\",\"gridcolor\":\"white\",\"gridwidth\":2,\"linecolor\":\"white\",\"showbackground\":true,\"showgrid\":true,\"tickcolor\":\"rgb(51,51,51)\",\"ticks\":\"outside\",\"zerolinecolor\":\"white\"},\"zaxis\":{\"backgroundcolor\":\"rgb(237,237,237)\",\"gridcolor\":\"white\",\"gridwidth\":2,\"linecolor\":\"white\",\"showbackground\":true,\"showgrid\":true,\"tickcolor\":\"rgb(51,51,51)\",\"ticks\":\"outside\",\"zerolinecolor\":\"white\"}},\"shapedefaults\":{\"fillcolor\":\"black\",\"line\":{\"width\":0},\"opacity\":0.3},\"ternary\":{\"aaxis\":{\"gridcolor\":\"white\",\"linecolor\":\"white\",\"showgrid\":true,\"tickcolor\":\"rgb(51,51,51)\",\"ticks\":\"outside\"},\"baxis\":{\"gridcolor\":\"white\",\"linecolor\":\"white\",\"showgrid\":true,\"tickcolor\":\"rgb(51,51,51)\",\"ticks\":\"outside\"},\"bgcolor\":\"rgb(237,237,237)\",\"caxis\":{\"gridcolor\":\"white\",\"linecolor\":\"white\",\"showgrid\":true,\"tickcolor\":\"rgb(51,51,51)\",\"ticks\":\"outside\"}},\"xaxis\":{\"automargin\":true,\"gridcolor\":\"white\",\"linecolor\":\"white\",\"showgrid\":true,\"tickcolor\":\"rgb(51,51,51)\",\"ticks\":\"outside\",\"title\":{\"standoff\":15},\"zerolinecolor\":\"white\"},\"yaxis\":{\"automargin\":true,\"gridcolor\":\"white\",\"linecolor\":\"white\",\"showgrid\":true,\"tickcolor\":\"rgb(51,51,51)\",\"ticks\":\"outside\",\"title\":{\"standoff\":15},\"zerolinecolor\":\"white\"}}},\"xaxis\":{\"anchor\":\"y\",\"domain\":[0.0,1.0],\"title\":{\"text\":\"Popularity\"}},\"yaxis\":{\"anchor\":\"x\",\"domain\":[0.0,1.0],\"title\":{\"text\":\"Developer\"},\"categoryorder\":\"array\",\"categoryarray\":[\"Disney\",\"PayPal, Inc.\",\"Roblox Corporation\",\"Zillow.com\",\"Wells Fargo\",\"Lion Studios\",\"Microsoft Corporation\",\"Life.Church\",\"Uber Technologies, Inc.\",\"Pandora Media, Inc.\",\"WhatsApp Inc.\",\"Lyft, Inc.\",\"TikTok Pte. Ltd.\",\"Venmo\",\"DoorDash, Inc.\",\"AMZN Mobile LLC\",\"Voodoo\",\"Spotify Ltd.\",\"Instagram, Inc.\",\"Google LLC\"]},\"legend\":{\"title\":{\"text\":\"Developer\"},\"tracegroupgap\":0},\"title\":{\"text\":\"Top 20 Popular Developers\",\"x\":0.5},\"showlegend\":false,\"width\":700},                        {\"responsive\": true}                    ).then(function(){\n",
       "                            \n",
       "var gd = document.getElementById('7f7ab264-866a-4481-8295-0ae90e9f84a2');\n",
       "var x = new MutationObserver(function (mutations, observer) {{\n",
       "        var display = window.getComputedStyle(gd).display;\n",
       "        if (!display || display === 'none') {{\n",
       "            console.log([gd, 'removed!']);\n",
       "            Plotly.purge(gd);\n",
       "            observer.disconnect();\n",
       "        }}\n",
       "}});\n",
       "\n",
       "// Listen for the removal of the full notebook cells\n",
       "var notebookContainer = gd.closest('#notebook-container');\n",
       "if (notebookContainer) {{\n",
       "    x.observe(notebookContainer, {childList: true});\n",
       "}}\n",
       "\n",
       "// Listen for the clearing of the current output cell\n",
       "var outputEl = gd.closest('.output');\n",
       "if (outputEl) {{\n",
       "    x.observe(outputEl, {childList: true});\n",
       "}}\n",
       "\n",
       "                        })                };                            </script>        </div>\n",
       "</body>\n",
       "</html>"
      ]
     },
     "metadata": {},
     "output_type": "display_data"
    }
   ],
   "source": [
    "fig1= px.funnel(top_pop_dev[:20],\n",
    "                x='Popularity',\n",
    "                y='Developer',\n",
    "                text='App_Count',\n",
    "                color= 'Developer',\n",
    "                #labels='Developer',\n",
    "                template='ggplot2',\n",
    "                title= 'Top 20 Popular Developers')\n",
    "fig1.update_layout(title_x=0.5, showlegend=False, width= 700)\n",
    "fig1.show()"
   ]
  },
  {
   "cell_type": "markdown",
   "metadata": {
    "id": "jubEG7mpubEY"
   },
   "source": [
    "**Observation**\n",
    "\n",
    "Google has 42 million users with 85 apps.\n",
    "\n",
    "Instagram with 6 apps has 21 million, that's half of google's total users.\n",
    "\n",
    "Spotify and Voodoo has almost no of users. But voodoo has 189 apps where as spotify has only 7."
   ]
  },
  {
   "cell_type": "markdown",
   "metadata": {
    "id": "PPm0wyau3xqZ"
   },
   "source": [
    "## Conclusion :\n",
    "* People show more interest to install Gaming Apps, therefore more gaming app are released.\n",
    "* People are satisfied with the service provided by Medical apps, therefore the top rating given to Medical apps.\n",
    "* It looks like certain app categories have more free apps available for download than others. In our dataset, the majority of apps in Business,Education, Music & Audio, Tools as well as Social categories were free to install. At the same time Books & References, Education, Tools and Personalization categories had the biggest number of paid apps available for Installation.\n",
    "* Most of people tend to give 4+ rating the most.\n",
    "* People are mostly dwonladed the free apps the installation of the free apps is high and the availabilty of the free apps also is very high."
   ]
  },
  {
   "cell_type": "markdown",
   "metadata": {
    "id": "nNdycomJ1Ybo"
   },
   "source": [
    "## Summary :\n",
    "\n",
    "Here’s a summary of the step-by-step process we followed for Analyzing the Apple-App-Store dataset :\n",
    "\n",
    "* Downloaded the dataset from Kaggle.\n",
    "\n",
    "* Data Preparation and Cleaning.\n",
    "\n",
    "* Exploratory Analysis and Visualizations of Features.\n",
    "\n",
    "* Answered the questions.\n",
    "\n",
    "* Summary and Conclusion."
   ]
  },
  {
   "cell_type": "markdown",
   "metadata": {
    "id": "jVFUqSkT7Pq1"
   },
   "source": [
    "## Future Work :\n",
    "\n",
    "1.Exploring the Updated, Released columns. Analyze these columns with the rating.\n",
    "\n",
    "2.Exploring the developer email and developer website columns. By comparing the developer’s email provided and the ones without the developer email we can find some insights from that related to Rating.\n",
    "\n",
    "3.Analysis of each Category and find which App gives the top rating in each category."
   ]
  },
  {
   "cell_type": "markdown",
   "metadata": {
    "id": "iVsuOESe8A-P"
   },
   "source": [
    "## References : \n",
    "\n",
    "* Applestore App dataset:https://www.kaggle.com/datasets/gauthamp10/apple-appstore-apps\n",
    "\n",
    "* Sampathkumar google playstore analysis jovian notebook:https://jovian.ai/lamsampathkumar0/google-play-store-analysis\n",
    "\n",
    "* Pandas user guide:https://pandas.pydata.org/docs/user_guide/index.html\n",
    "\n",
    "* Numpy user guide:https://numpy.org/doc/stable/user/basics.html\n",
    "\n",
    "* Matplotlib user guide:https://matplotlib.org/stable/index.html\n",
    "\n",
    "* Seaborn user guide & tutorial: https://seaborn.pydata.org/tutorial.html"
   ]
  },
  {
   "cell_type": "code",
   "execution_count": 64,
   "metadata": {
    "colab": {
     "base_uri": "https://localhost:8080/"
    },
    "executionInfo": {
     "elapsed": 555,
     "status": "ok",
     "timestamp": 1676622357487,
     "user": {
      "displayName": "Mahadeva Prashanth D M",
      "userId": "01792806173038978234"
     },
     "user_tz": -330
    },
    "id": "uHSsSVKr1hHB",
    "outputId": "49437026-4dac-418b-bc0f-7500000e0144"
   },
   "outputs": [
    {
     "name": "stdout",
     "output_type": "stream",
     "text": [
      "[jovian] Detected Colab notebook...\u001b[0m\n",
      "[jovian] jovian.commit() is no longer required on Google Colab. If you ran this notebook from Jovian, \n",
      "then just save this file in Colab using Ctrl+S/Cmd+S and it will be updated on Jovian. \n",
      "Also, you can also delete this cell, it's no longer necessary.\u001b[0m\n"
     ]
    }
   ],
   "source": [
    "jovian.commit()"
   ]
  },
  {
   "cell_type": "code",
   "execution_count": null,
   "metadata": {
    "id": "9CcW6dWm6UEB"
   },
   "outputs": [],
   "source": []
  }
 ],
 "metadata": {
  "colab": {
   "provenance": []
  },
  "kernelspec": {
   "display_name": "Python 3 (ipykernel)",
   "language": "python",
   "name": "python3"
  },
  "language_info": {
   "codemirror_mode": {
    "name": "ipython",
    "version": 3
   },
   "file_extension": ".py",
   "mimetype": "text/x-python",
   "name": "python",
   "nbconvert_exporter": "python",
   "pygments_lexer": "ipython3",
   "version": "3.9.7"
  }
 },
 "nbformat": 4,
 "nbformat_minor": 0
}